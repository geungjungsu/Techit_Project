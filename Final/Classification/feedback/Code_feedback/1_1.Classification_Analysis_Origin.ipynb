{
 "cells": [
  {
   "cell_type": "markdown",
   "metadata": {
    "id": "doWYKNu2Fk-m"
   },
   "source": [
    "# 파이널 프로젝트 : 은행 이탈 고객 예측\n",
    "\n",
    "\n",
    "\n",
    "- **분류**\n",
    "- 회귀"
   ]
  },
  {
   "cell_type": "markdown",
   "metadata": {
    "id": "t4aILU62GyAx"
   },
   "source": [
    "\n",
    "\n",
    "- 데이터\n",
    "    - URL : https://www.kaggle.com/competitions/playground-series-s4e1\n",
    "    - train : 훈련 데이터 세트\n",
    "    - test : 테스트 데이터 세트\n",
    "    - sample_submission : 올바른 형식의 샘플 제출 파일\n",
    "\n",
    "- 평가 지표\n",
    "    - ROC Curve\n",
    "\n",
    "\n",
    "- 변수\n",
    "    - Features(X)\n",
    "        - ID : 순번\n",
    "        - Customer ID: 각 고객의 고유 식별번호\n",
    "        - Surname: 고객의 성\n",
    "        - Credit Score: 고객의 신용점수\n",
    "        - Geography: 고객이 거주하는 국가\n",
    "        - Gender: 고객의 성별\n",
    "        - Age: 고객의 나이\n",
    "        - Tenure: 고객이 은행을 이용한 기간\n",
    "        - Balance: 고객의 계좌 잔액\n",
    "        - NumOfProducts: 고객이 이용하는 은행 상품의 수(ex. 예금,적금)\n",
    "        - HasCrCard: 신용카드 보유 여부\n",
    "        - IsActiveMember: 활성 회원 여부\n",
    "        - EstimatedSalary: 고객의 예상 연봉\n",
    "    - Target(Y)\n",
    "        - Exited: 고객 이탈 여부\n",
    "\n",
    "\n",
    "\n",
    "\n",
    "\n"
   ]
  },
  {
   "cell_type": "markdown",
   "metadata": {
    "id": "sRprJD9vJdoz"
   },
   "source": [
    "## 1.전처리"
   ]
  },
  {
   "cell_type": "markdown",
   "metadata": {
    "id": "cULrDCXMtd2b"
   },
   "source": [
    "### 먼저 설치 후 재시작해야하는 패키지"
   ]
  },
  {
   "cell_type": "code",
   "execution_count": null,
   "metadata": {
    "id": "P5KFvZEgtgjC"
   },
   "outputs": [],
   "source": [
    "!pip install pycaret\n",
    "!pip install optuna\n",
    "!pip install catboost"
   ]
  },
  {
   "cell_type": "markdown",
   "metadata": {
    "id": "Ht-aGeONva6I"
   },
   "source": [
    "### *패키지"
   ]
  },
  {
   "cell_type": "code",
   "execution_count": null,
   "metadata": {
    "id": "1qHkck4p_-eh"
   },
   "outputs": [],
   "source": [
    "# 기본 패키지\n",
    "import pandas as pd\n",
    "import numpy as np\n",
    "\n",
    "# 설정\n",
    "pd.set_option('display.max_columns', None)  # 최대 컬럼 설정\n",
    "\n",
    "# 시각화\n",
    "import matplotlib.pyplot as plt\n",
    "import seaborn as sns\n",
    "\n",
    "# 출력 관련(이미지 표시)\n",
    "from IPython.display import Image\n",
    "\n",
    "# 계층적 클러스터링\n",
    "import scipy.cluster.hierarchy as sch  # 계층적 군집화 알고리즘\n",
    "\n",
    "# 데이터 전처리\n",
    "from sklearn.preprocessing import LabelEncoder  # 레이블 인코딩\n",
    "# pd.get_dummies로 OneHotEncoder 대체\n",
    "\n",
    "# 데이터 분할\n",
    "from sklearn.model_selection import train_test_split\n",
    "from sklearn.model_selection import StratifiedKFold\n",
    "\n",
    "# 다중공선성 확인(VIF)\n",
    "from statsmodels.stats.outliers_influence import variance_inflation_factor\n",
    "\n",
    "# PyCaret: AutoML (자동화된 머신러닝 워크플로우, 모델 선택)\n",
    "from pycaret.classification import *\n",
    "\n",
    "# Optuna: 하이퍼파라미터 최적화\n",
    "import optuna\n",
    "from optuna.samplers import TPESampler  # 샘플링 알고리즘 (TPE)\n",
    "\n",
    "# 머신러닝 모델\n",
    "## GBR\n",
    "from sklearn.ensemble import GradientBoostingClassifier\n",
    "## AdaBoost\n",
    "from sklearn.ensemble import AdaBoostClassifier\n",
    "## LightGBM\n",
    "from lightgbm import LGBMClassifier\n",
    "import lightgbm as lgb\n",
    "## DecisionTree\n",
    "from sklearn.tree import DecisionTreeClassifier\n",
    "## XGBoost\n",
    "from xgboost import XGBClassifier\n",
    "import xgboost as xgb\n",
    "## CatBoost\n",
    "from catboost import CatBoostClassifier, Pool # pool : catboost에서 데이터 관리위한 특수 클래스(데이터 컨테이너), 범주 변수 자동 인식, 데이터 빠른 처리 등\n",
    "from catboost.utils import eval_metric\n",
    "\n",
    "# 성능 평가 지표\n",
    "from sklearn.metrics import roc_auc_score  # ROC AUC 점수 계산\n",
    "\n",
    "# 모델 앙상블\n",
    "from sklearn.ensemble import VotingClassifier  # 앙상블 학습을 위한 VotingClassifier\n",
    "\n",
    "# 조합 생성 함수\n",
    "from itertools import combinations\n",
    "\n",
    "# 변수 중요도\n",
    "from sklearn.inspection import permutation_importance"
   ]
  },
  {
   "cell_type": "markdown",
   "metadata": {
    "id": "GF-g_HQ2vceq"
   },
   "source": [
    "### 피쳐요약표\n",
    "\n",
    "- 타입\n",
    "- 고유값수\n",
    "- 타입\n",
    "- 고유값수\n",
    "- 결측치수\n",
    "- 중복치수\n",
    "- 최소값\n",
    "- 최대값\n",
    "- 예시1\n",
    "- 예시2"
   ]
  },
  {
   "cell_type": "code",
   "execution_count": null,
   "metadata": {
    "id": "VI_ehA1SJkuq"
   },
   "outputs": [],
   "source": [
    "# 피쳐요약표\n",
    "def feature_summary(df):\n",
    "  df_temp = pd.DataFrame()\n",
    "  df_temp['타입'] = df.dtypes\n",
    "  df_temp['고유값수'] = df.nunique()\n",
    "  df_temp['결측치수'] = df.isnull().sum()\n",
    "  df_temp['중복치수'] = df.apply(lambda x: x.duplicated().sum())\n",
    "  df_temp['최소값'] = df.min()\n",
    "  df_temp['최대값'] = df.max()\n",
    "  df_temp['예시1'] = df.iloc[0]\n",
    "  df_temp['예시2'] = df.iloc[1]\n",
    "  return df_temp"
   ]
  },
  {
   "cell_type": "markdown",
   "metadata": {
    "id": "zeQa3a23vde7"
   },
   "source": [
    "### 데이터 불러오기\n",
    "- train\n",
    "- test\n",
    "- submission"
   ]
  },
  {
   "cell_type": "code",
   "execution_count": null,
   "metadata": {
    "id": "vp5I5sojFAY2"
   },
   "outputs": [],
   "source": [
    "train = pd.read_csv('/content/drive/MyDrive/파이널 프로젝트_이정수/분류/train.csv')\n",
    "test = pd.read_csv('/content/drive/MyDrive/파이널 프로젝트_이정수/분류/test.csv')\n",
    "submission = pd.read_csv('/content/drive/MyDrive/파이널 프로젝트_이정수/분류/sample_submission.csv')"
   ]
  },
  {
   "cell_type": "markdown",
   "metadata": {
    "id": "wKrNF2w3nra7"
   },
   "source": [
    "#### 데이터 파악"
   ]
  },
  {
   "cell_type": "markdown",
   "metadata": {
    "id": "5dqZvbVyvs-N"
   },
   "source": [
    "##### 데이터 크기\n",
    "\n",
    "- train\n",
    "    - 데이터 : 165034\n",
    "    - 변수 : 14\n",
    "- test\n",
    "    - 데이터 : 110023\n",
    "    - 변수 : 13\n",
    "- submission\n",
    "    - 데이터 : 110023\n",
    "    - 변수 : 2"
   ]
  },
  {
   "cell_type": "code",
   "execution_count": null,
   "metadata": {
    "colab": {
     "base_uri": "https://localhost:8080/"
    },
    "executionInfo": {
     "elapsed": 418,
     "status": "ok",
     "timestamp": 1739784065817,
     "user": {
      "displayName": "이정수",
      "userId": "14428595979203344897"
     },
     "user_tz": -540
    },
    "id": "ez-CsFGIFPWo",
    "outputId": "ef4dcaae-eb77-40ef-d297-ddaf0767420b"
   },
   "outputs": [],
   "source": [
    "for i in [train, test,submission] :\n",
    "  print(i.shape)"
   ]
  },
  {
   "cell_type": "markdown",
   "metadata": {
    "id": "XJ0qkLGxn0nf"
   },
   "source": [
    "##### 데이터 타입,결측\n",
    "  - 결측치\n",
    "      - 0개\n",
    "  - 타입\n",
    "      - Int64, float64 : 11개\n",
    "      - object : 3개\n",
    "          - Surname : 고객의 성\n",
    "          - Geography : 고객이 거주하는 국가\n",
    "          - Gender : 고객의 성별\n",
    "- **test**\n",
    "  - 결측치\n",
    "      - 0개\n",
    "  - 타입\n",
    "      - train과 동일(Exited 제외)\n",
    "- **submission**\n",
    "  - 결측치\n",
    "      - 0개\n",
    "  - 타입\n",
    "      - int64, float64"
   ]
  },
  {
   "cell_type": "code",
   "execution_count": null,
   "metadata": {
    "colab": {
     "base_uri": "https://localhost:8080/",
     "height": 112
    },
    "executionInfo": {
     "elapsed": 310,
     "status": "ok",
     "timestamp": 1739780403384,
     "user": {
      "displayName": "이정수",
      "userId": "14428595979203344897"
     },
     "user_tz": -540
    },
    "id": "9tM1TZQKwZtG",
    "outputId": "3b0e6dd9-4169-4549-801c-4ca1ed36abf9"
   },
   "outputs": [],
   "source": [
    "# 피처요약표\n",
    "feature_summary(train)\n",
    "feature_summary(test)\n",
    "feature_summary(submission)"
   ]
  },
  {
   "cell_type": "markdown",
   "metadata": {
    "id": "Yd1EOewxbiEN"
   },
   "source": [
    "#### 시각화\n",
    "- **Barplot**\n",
    "    - Surname : 범주형 변수이지만 고유값 수가 2797개로 부적합\n",
    "    - Geography\n",
    "    - Gender\n",
    "    - NumOfProducts\n",
    "    - HasCrCard\n",
    "    - IsActiveMember\n",
    "    - Exited\n",
    "- **Histplot, 밀도추정그래프, BoxPlot, ScatterPlot**\n",
    "    - CreditScore\n",
    "    - Age\n",
    "    - Tenure\n",
    "    - Balance\n",
    "    - EstimatedSalary\n",
    "\n",
    "- **상관관계 히트맵**"
   ]
  },
  {
   "cell_type": "markdown",
   "metadata": {
    "id": "-VxPBy3opUjs"
   },
   "source": [
    "##### 시각화 함수 생성"
   ]
  },
  {
   "cell_type": "code",
   "execution_count": null,
   "metadata": {
    "id": "uwziivYtcx29"
   },
   "outputs": [],
   "source": [
    "# 1. BarPlot\n",
    "def custom_barplot(ax, count):\n",
    "    for bar in ax.patches:                                                            # ax.patches : 그래프 그려지는 모든 도형 요소\n",
    "        if bar.get_height() == 0: continue                                            # 막대의 높이가 0이면 건너뜀\n",
    "        rate = bar.get_height() / count * 100                                         # 백분율 계산\n",
    "\n",
    "        ax.text(x=bar.get_x() + bar.get_width() / 2,                                  # 막대의 중앙 위치 : bar.get_x(막대의 왼쪽 x좌표), bar.get_width(막대의 너비 = 가로 길이)\n",
    "                y=bar.get_height() + count * 0.005,                                   # 막대 위쪽에 텍스트 위치 : bar.get_height(막대의 높이 = 세로 길이)\n",
    "                s=f'{rate:1.1f}%', ha='center')                                       # 비율 텍스트 추가\n",
    "\n",
    "    ax.set_ylabel('')                                                                 # y축 레이블 제거\n",
    "    return ax                                                                         # 수정된 Axes 객체 반환\n",
    "\n",
    "# 2. Histogram\n",
    "def custom_histogram(ax, data):\n",
    "    mean = data.mean()                                                                # 데이터 평균 계산\n",
    "    ax.text(x=ax.get_xlim()[0] + 0.05 * (ax.get_xlim()[1] - ax.get_xlim()[0]),        # 왼쪽 여백\n",
    "            y=max([bar.get_height() for bar in ax.patches]) * 0.85,                   # y 위치 조정\n",
    "            s=f'Mean: {mean:.2f}', ha='left', color='red')                            # 평균값 표시\n",
    "\n",
    "    ax.set_ylabel('')                                                                 # y축 레이블 제거\n",
    "    return ax                                                                         # 수정된 Axes 객체 반환\n",
    "\n",
    "# 3. Box Plot\n",
    "def custom_boxplot(ax, data):\n",
    "    y_median = np.median(data)                                                        # 중앙값 계산\n",
    "    ax.text(x=1.02, y=y_median, s=f'Median: {y_median:.2f}', ha='left', color='red')  # 중앙값 표시\n"
   ]
  },
  {
   "cell_type": "markdown",
   "metadata": {
    "id": "2TIWd9xNBf0X"
   },
   "source": [
    "##### train 시각화\n"
   ]
  },
  {
   "cell_type": "code",
   "execution_count": null,
   "metadata": {
    "colab": {
     "base_uri": "https://localhost:8080/",
     "height": 1000
    },
    "executionInfo": {
     "elapsed": 17901,
     "status": "ok",
     "timestamp": 1739784089363,
     "user": {
      "displayName": "이정수",
      "userId": "14428595979203344897"
     },
     "user_tz": -540
    },
    "id": "V0i1Abikfxe9",
    "outputId": "9c1a39a5-0c18-4c18-a94b-498baec15c58"
   },
   "outputs": [],
   "source": [
    "fig, axes = plt.subplots(6, 2, figsize=(15, 20))\n",
    "\n",
    "# Credit Score\n",
    "sns.histplot(train['CreditScore'], bins=30, kde=True, ax=axes[0, 0])\n",
    "custom_histogram(axes[0, 0], train['CreditScore'])\n",
    "axes[0, 0].set_title('Credit Score Distribution')\n",
    "\n",
    "# Geography\n",
    "ax_geo = sns.countplot(data=train, x='Geography', hue='Exited', ax=axes[0, 1])\n",
    "custom_barplot(ax_geo, train.shape[0])\n",
    "axes[0, 1].set_title('Geography Distribution')\n",
    "\n",
    "# Gender\n",
    "ax_gender = sns.countplot(data=train, x='Gender', hue='Exited', ax=axes[1, 0])\n",
    "custom_barplot(ax_gender, train.shape[0])\n",
    "axes[1, 0].set_title('Gender Distribution')\n",
    "\n",
    "# Age\n",
    "sns.histplot(train['Age'], bins=30, kde=True, ax=axes[1, 1])\n",
    "custom_histogram(axes[1, 1], train['Age'])\n",
    "axes[1, 1].set_title('Age Distribution')\n",
    "\n",
    "# Tenure\n",
    "ax_tenure = sns.countplot(data=train, x='Tenure', hue='Exited', ax=axes[2, 0])\n",
    "custom_barplot(ax_tenure, train.shape[0])\n",
    "axes[2, 0].set_title('Tenure Distribution')\n",
    "\n",
    "# Balance\n",
    "sns.histplot(train['Balance'], bins=30, kde=True, ax=axes[2, 1])\n",
    "custom_histogram(axes[2, 1], train['Balance'])\n",
    "axes[2, 1].set_title('Balance Distribution')\n",
    "\n",
    "# NumOfProducts\n",
    "ax_num_products = sns.countplot(data=train, x='NumOfProducts', hue='Exited', ax=axes[3, 0])\n",
    "custom_barplot(ax_num_products, train.shape[0])\n",
    "axes[3, 0].set_title('NumOfProducts Distribution')\n",
    "\n",
    "# HasCrCard\n",
    "ax_has_crcard = sns.countplot(data=train, x='HasCrCard', hue='Exited', ax=axes[3, 1])\n",
    "custom_barplot(ax_has_crcard, train.shape[0])\n",
    "axes[3, 1].set_title('HasCrCard Distribution')\n",
    "\n",
    "# IsActiveMember\n",
    "ax_active_member = sns.countplot(data=train, x='IsActiveMember', hue='Exited', ax=axes[4, 0])\n",
    "custom_barplot(ax_active_member, train.shape[0])\n",
    "axes[4, 0].set_title('IsActiveMember Distribution')\n",
    "\n",
    "# Estimated Salary\n",
    "sns.histplot(train['EstimatedSalary'], bins=30, kde=True, ax=axes[4, 1])\n",
    "custom_histogram(axes[4, 1], train['EstimatedSalary'])\n",
    "axes[4, 1].set_title('Estimated Salary Distribution')\n",
    "\n",
    "# Exited\n",
    "ax_exited = sns.countplot(data=train, x='Exited', ax=axes[5, 0])\n",
    "custom_barplot(ax_exited, train.shape[0])\n",
    "axes[5, 0].set_title('Exited Distribution')\n",
    "\n",
    "plt.tight_layout()\n",
    "plt.show()"
   ]
  },
  {
   "cell_type": "code",
   "execution_count": null,
   "metadata": {
    "colab": {
     "base_uri": "https://localhost:8080/",
     "height": 787
    },
    "executionInfo": {
     "elapsed": 2788,
     "status": "ok",
     "timestamp": 1739784092147,
     "user": {
      "displayName": "이정수",
      "userId": "14428595979203344897"
     },
     "user_tz": -540
    },
    "id": "zz2zNPZxrwdn",
    "outputId": "f264151e-2cc2-4e5b-d2d3-c47c52d73959"
   },
   "outputs": [],
   "source": [
    "fig, axes = plt.subplots(2, 2, figsize=(10, 8))\n",
    "\n",
    "# Credit Score\n",
    "sns.boxplot(y=train['CreditScore'], ax=axes[0, 0])\n",
    "custom_boxplot(axes[0, 0], train['CreditScore'])\n",
    "axes[0, 0].set_title('Credit Score')\n",
    "\n",
    "# Age\n",
    "sns.boxplot(y=train['Age'], ax=axes[0, 1])\n",
    "custom_boxplot(axes[0, 1], train['Age'])\n",
    "axes[0, 1].set_title('Age')\n",
    "\n",
    "# Balance\n",
    "sns.boxplot(y=train['Balance'], ax=axes[1, 0])\n",
    "custom_boxplot(axes[1, 0], train['Balance'])\n",
    "axes[1, 0].set_title('Balance')\n",
    "\n",
    "# Estimated Salary\n",
    "sns.boxplot(y=train['EstimatedSalary'], ax=axes[1, 1])\n",
    "custom_boxplot(axes[1, 1], train['EstimatedSalary'])\n",
    "axes[1, 1].set_title('Estimated Salary')\n",
    "\n",
    "plt.tight_layout()\n",
    "plt.show()"
   ]
  },
  {
   "cell_type": "markdown",
   "metadata": {
    "id": "MY6VWJ5pNYKi"
   },
   "source": [
    "###### train 시각화 해석\n"
   ]
  },
  {
   "cell_type": "markdown",
   "metadata": {
    "id": "3xc8ilu4NO3e"
   },
   "source": [
    "- **BarPlot, HistPlot 해석**\n",
    "    - **Credit Score(신용점수)**\n",
    "        - 평균\n",
    "            - 656.45\n",
    "        - 분포\n",
    "            - 대체로 정규분포 형태\n",
    "            - 신용 점수 분포가 넓게 퍼져있어 다양한 점수 분포\n",
    "            - 신용점수가 600-700 사이에 가장 많은 고객이 분포\n",
    "\n",
    "    - **Geography(고객 거주 국가)**\n",
    "        - 분포\n",
    "            - France가 전체의 57.1%로 가장 많고, 그 다음 Spain 22%, Germany 20.9% 순서\n",
    "        - 이탈\n",
    "            - 세 국가 모두 이탈하지 않은 고객(0)이 이탈 고객(1)보다 많다\n",
    "                - 프랑스는 이탈 비율이 낮고, 독일은 상대적으로 높은 이탈율을 보인다\n",
    "\n",
    "    - **Gender(고객 성별)**\n",
    "        - 분포\n",
    "            - 남성이 약 56.5%, 여성이 43.6%로 대략 6:4 비율\n",
    "        - 이탈\n",
    "            - 남성, 여성 모두 이탈하지 않은 사람(0)이 이탈자(1)보다 많다\n",
    "                - 남성보다 여성이 이탈 비율이 더 높다\n",
    "\n",
    "    - **Age(고객 연령)**\n",
    "        - 평균\n",
    "            - 38.13\n",
    "        - 분포\n",
    "            - 대체로 정규분포 형태\n",
    "            - 30,40대에 주 고객층이 모여있다\n",
    "            - 나이가 많을 수록 고객 수가 급격히 감소하는 경향\n",
    "                - 젊은 고객층(30-40대)에서 고객수가 집중\n",
    "\n",
    "    - **Tenure(은행 이용 기간)**\n",
    "        - 분포\n",
    "            - 모든 기간에 고객수가 고르게 분포되어 있지만, 0년과 10년에 소폭 감소\n",
    "        - 이탈\n",
    "            - 이용 기간에 관계없이 이탈하지 않은 사람이(0)이 이탈자(1) 보다 많다\n",
    "\n",
    "    - **Balance(계좌잔액)**\n",
    "        - 평균\n",
    "            - 55478.09\n",
    "        - 분포\n",
    "            - 0인 경우가 가장 많으며, 0을 제외한 나머지 값들은 정규분포에 가깝게 분포\n",
    "            - 주로 50,000~200,000 구간에 집중\n",
    "\n",
    "    - **NumOfProducts(고객 이용 은행 상품 수)**\n",
    "        - 분포\n",
    "            - 1개 또는 2개 상품을 보유한 고객이 대부분\n",
    "                - 1개(46.9%), 2개(51.1%)\n",
    "        - 이탈\n",
    "            - 상품 개수가 1개인 고객의 이탈 비율이 상대적으로 높다\n",
    "\n",
    "    - **HasCrCard(신용카드 보유 여부)**\n",
    "        - 분포\n",
    "            - 신용카드 보유 고객(1)이 75.4%, 비보유 고객(0)이 24.6%의 분포로 보유한 고객이 더 많다\n",
    "        - 이탈\n",
    "            - 신용카드 보유 여부와 관계없이 이탈하지 않은 고객이 더 많다.\n",
    "\n",
    "    - **IsActiveMemebr(활성 회원 여부)**\n",
    "        - 분포\n",
    "          - 비활성회원이 50.2%, 활성회원이 49.7%로 차이가 매우 적었다.\n",
    "        - 이탈\n",
    "            - 비활성 회원의 이탈율이 더 높다.\n",
    "\n",
    "    - **EstimatedSalary(추정 연봉)**\n",
    "        - 평균\n",
    "            - 112574.82\n",
    "        - 분포\n",
    "            - 급여가 0에서 200000까지 고르게 분포\n",
    "                - 주요 구간 : 50000 - 175000\n",
    "\n",
    "    - **Exited(이탈 여부)**\n",
    "        - 분포\n",
    "            - 전체 고객 중 이탈하지 않은 사람(0)이 78.8%, 이탈자(1)는 21.2%로 대략 8:2 비율\n",
    "\n",
    "- BoxPlot\n",
    "    - CreditScore\n",
    "        - 이상치\n",
    "            - O\n",
    "            - 신용 점수 하단에 이상치 다수 존재\n",
    "                - 특히 400이하 낮은 점수 고객, 점수가 낮은 일부 고객층 포함\n",
    "        - 중앙값\n",
    "            - 659\n",
    "        - 분포\n",
    "            - 약간 오른쪽으로 치우친 분포\n",
    "                - 왼쪽꼬리\n",
    "\n",
    "    - Age\n",
    "        - 이상치\n",
    "            - O\n",
    "            - 60 이상의 나이에서 이상치 다수 존재\n",
    "                - 특히 80세 이상 고객이 드물게 포함, 고령층 소수 포함\n",
    "        - 중앙값\n",
    "            - 37\n",
    "        - 분포\n",
    "            - 오른쪽 긴 꼬리\n",
    "    - Balance\n",
    "        - 이상치\n",
    "            - X\n",
    "        - 중앙값\n",
    "            - 0\n",
    "    - EstimatedSalary\n",
    "        - 이상치\n",
    "            - X\n",
    "        - 중앙값\n",
    "            - 117,948"
   ]
  },
  {
   "cell_type": "markdown",
   "metadata": {
    "id": "cDdyydHJBjJp"
   },
   "source": [
    "##### test 시각화\n"
   ]
  },
  {
   "cell_type": "code",
   "execution_count": null,
   "metadata": {
    "colab": {
     "base_uri": "https://localhost:8080/",
     "height": 1000
    },
    "executionInfo": {
     "elapsed": 6696,
     "status": "ok",
     "timestamp": 1739784103357,
     "user": {
      "displayName": "이정수",
      "userId": "14428595979203344897"
     },
     "user_tz": -540
    },
    "id": "PKRTwCHIBkND",
    "outputId": "1a834fff-8e1f-4950-deb1-297a4f26ee49"
   },
   "outputs": [],
   "source": [
    "fig, axes = plt.subplots(5, 2, figsize=(15, 20))\n",
    "\n",
    "# Credit Score\n",
    "sns.histplot(test['CreditScore'], bins=30, kde=True, ax=axes[0, 0])\n",
    "custom_histogram(axes[0, 0], test['CreditScore'])\n",
    "axes[0, 0].set_title('Credit Score Distribution')\n",
    "\n",
    "# Geography\n",
    "ax_geo = sns.countplot(data=test, x='Geography', ax=axes[0, 1])\n",
    "custom_barplot(ax_geo, test.shape[0])\n",
    "axes[0, 1].set_title('Geography Distribution')\n",
    "\n",
    "# Gender\n",
    "ax_gender = sns.countplot(data=test, x='Gender', ax=axes[1, 0])\n",
    "custom_barplot(ax_gender, test.shape[0])\n",
    "axes[1, 0].set_title('Gender Distribution')\n",
    "\n",
    "# Age\n",
    "sns.histplot(test['Age'], bins=30, kde=True, ax=axes[1, 1])\n",
    "custom_histogram(axes[1, 1], test['Age'])\n",
    "axes[1, 1].set_title('Age Distribution')\n",
    "\n",
    "# Tenure\n",
    "ax_tenure = sns.countplot(data=test, x='Tenure', ax=axes[2, 0])\n",
    "custom_barplot(ax_tenure, test.shape[0])\n",
    "axes[2, 0].set_title('Tenure Distribution')\n",
    "\n",
    "# Balance\n",
    "sns.histplot(test['Balance'], bins=30, kde=True, ax=axes[2, 1])\n",
    "custom_histogram(axes[2, 1], test['Balance'])\n",
    "axes[2, 1].set_title('Balance Distribution')\n",
    "\n",
    "# NumOfProducts\n",
    "ax_num_products = sns.countplot(data=test, x='NumOfProducts', ax=axes[3, 0])\n",
    "custom_barplot(ax_num_products, test.shape[0])\n",
    "axes[3, 0].set_title('NumOfProducts Distribution')\n",
    "\n",
    "# HasCrCard\n",
    "ax_has_crcard = sns.countplot(data=test, x='HasCrCard', ax=axes[3, 1])\n",
    "custom_barplot(ax_has_crcard, test.shape[0])\n",
    "axes[3, 1].set_title('HasCrCard Distribution')\n",
    "\n",
    "# IsActiveMember\n",
    "ax_active_member = sns.countplot(data=test, x='IsActiveMember', ax=axes[4, 0])\n",
    "custom_barplot(ax_active_member, test.shape[0])\n",
    "axes[4, 0].set_title('IsActiveMember Distribution')\n",
    "\n",
    "# Estimated Salary\n",
    "sns.histplot(test['EstimatedSalary'], bins=30, kde=True, ax=axes[4, 1])\n",
    "custom_histogram(axes[4, 1], test['EstimatedSalary'])\n",
    "axes[4, 1].set_title('Estimated Salary Distribution')\n",
    "\n",
    "plt.tight_layout()\n",
    "plt.show()"
   ]
  },
  {
   "cell_type": "code",
   "execution_count": null,
   "metadata": {
    "colab": {
     "base_uri": "https://localhost:8080/",
     "height": 787
    },
    "executionInfo": {
     "elapsed": 1312,
     "status": "ok",
     "timestamp": 1739784104667,
     "user": {
      "displayName": "이정수",
      "userId": "14428595979203344897"
     },
     "user_tz": -540
    },
    "id": "ws1atbS-CYHz",
    "outputId": "75d651f9-fa1f-499a-ef25-cfaf8c89515c"
   },
   "outputs": [],
   "source": [
    "fig, axes = plt.subplots(2, 2, figsize=(10, 8))\n",
    "\n",
    "# Credit Score\n",
    "sns.boxplot(y=test['CreditScore'], ax=axes[0, 0])\n",
    "custom_boxplot(axes[0, 0], test['CreditScore'])\n",
    "axes[0, 0].set_title('Credit Score')\n",
    "\n",
    "# Age\n",
    "sns.boxplot(y=test['Age'], ax=axes[0, 1])\n",
    "custom_boxplot(axes[0, 1], test['Age'])\n",
    "axes[0, 1].set_title('Age')\n",
    "\n",
    "# Balance\n",
    "sns.boxplot(y=test['Balance'], ax=axes[1, 0])\n",
    "custom_boxplot(axes[1, 0], test['Balance'])\n",
    "axes[1, 0].set_title('Balance')\n",
    "\n",
    "# Estimated Salary\n",
    "sns.boxplot(y=test['EstimatedSalary'], ax=axes[1, 1])\n",
    "custom_boxplot(axes[1, 1], test['EstimatedSalary'])\n",
    "axes[1, 1].set_title('Estimated Salary')\n",
    "\n",
    "plt.tight_layout()\n",
    "plt.show()"
   ]
  },
  {
   "cell_type": "markdown",
   "metadata": {
    "id": "LnvqEpG3Nf-_"
   },
   "source": [
    "###### test 시각화 해석\n"
   ]
  },
  {
   "cell_type": "markdown",
   "metadata": {
    "id": "6BW-K_whNdiI"
   },
   "source": [
    "- BarPlot, HistPlot 해석\n",
    "    - **Credit Score(신용점수)**\n",
    "        - 평균\n",
    "            - 656.53\n",
    "        - 분포\n",
    "            - 대체로 정규분포 형태\n",
    "            - 신용 점수 분포가 넓게 퍼져있어 다양한 점수 분포\n",
    "            - 신용점수가 600-700 사이에 가장 많은 고객이 분포\n",
    "\n",
    "    - **Geography(고객 거주 국가)**\n",
    "        - 분포\n",
    "            - France가 전체의 57.4%로 가장 많고, 그 다음 Spain 21.7%, Germany 20.8% 순서\n",
    "\n",
    "    - **Gender(고객 성별)**\n",
    "        - 분포\n",
    "            - 남성이 약 56.3%, 여성이 43.7%\n",
    "\n",
    "    - **Age(고객 연령)**\n",
    "        - 평균\n",
    "            - 38.12\n",
    "        - 분포\n",
    "            - 대체로 정규분포 형태\n",
    "            - 30,40대에 주 고객층이 모여있다\n",
    "            - 연령이 증가할수록 고객 수가 급격히 감소하는 경향\n",
    "                - 젊은 고객층(30-40대)에서 고객수가 집중\n",
    "\n",
    "    - **Tenure(은행 이용 기간)**\n",
    "        - 분포\n",
    "            - 모든 기간에 고객수가 고르게 분포되어 있지만, 0년과 10년에 소폭 감소\n",
    "\n",
    "    - **Balance(계좌잔액)**\n",
    "        - 평균\n",
    "            - 55333.61\n",
    "        - 분포\n",
    "            - 0인 경우가 가장 많으며, 0을 제외한 나머지 값들은 정규분포에 가깝게 분포\n",
    "            - 주로 50,000~200,000 구간에 집중\n",
    "\n",
    "    - **NumOfProducts(고객 이용 은행 상품 수)**\n",
    "        - 분포\n",
    "            - 1개 또는 2개 상품을 보유한 고객이 대부분\n",
    "                - 1개(46.9%), 2개(51.2%)\n",
    "\n",
    "    - **HasCrCard(신용카드 보유 여부)**\n",
    "        - 분포\n",
    "            - 신용카드 보유 고객(1)이 73.3%, 비보유 고객(0)이 24.7%의 분포로 보유한 고객이 더 많다\n",
    "\n",
    "    - **IsActiveMemebr(활성 회원 여부)**\n",
    "        - 분포\n",
    "          - 비활성회원이 50.5%, 활성회원이 49.5%로 차이가 매우 적었다.\n",
    "\n",
    "    - **EstimatedSalary(추정 연봉)**\n",
    "        - 평균\n",
    "            - 112315.15\n",
    "        - 분포\n",
    "            - 급여가 0에서 200000까지 고르게 분포\n",
    "                - 주요 구간 : 50000 - 175000\n",
    "\n",
    "- BoxPlot\n",
    "    - CreditScore\n",
    "        - 이상치\n",
    "            - O\n",
    "            - 신용 점수 하단에 이상치 다수 존재\n",
    "                - 특히 400이하 낮은 점수 고객, 점수가 낮은 일부 고객층 포함\n",
    "        - 중앙값\n",
    "            - 660\n",
    "        - 분포\n",
    "            - 약간 오른쪽으로 치우친 분포\n",
    "                - 왼쪽꼬리\n",
    "\n",
    "    - Age\n",
    "        - 이상치\n",
    "            - O\n",
    "            - 60 이상의 나이에서 이상치 다수 존재\n",
    "                - 특히 80세 이상 고객이 드물게 포함, 고령층 소수 포함\n",
    "        - 중앙값\n",
    "            - 37\n",
    "        - 분포\n",
    "            - 오른쪽 긴 꼬리\n",
    "    - Balance\n",
    "        - 이상치\n",
    "            - X\n",
    "        - 중앙값\n",
    "            - 0\n",
    "    - EstimatedSalary\n",
    "        - 이상치\n",
    "            - X\n",
    "        - 중앙값\n",
    "            - 117,832.23\n"
   ]
  },
  {
   "cell_type": "markdown",
   "metadata": {
    "id": "SUCEyNCO9I1w"
   },
   "source": [
    "### 데이터 파악 후 전처리 계획\n",
    "\n",
    "```\n",
    "# ID, Surname 제거\n",
    "\n",
    "\n",
    "# Credit Score => 로그 변환, 스케일링 진행 가능성\n",
    "- 대체로 정규 분포\n",
    "- 신용점수 하단에 이상치 다수 존재 -> 왼쪽꼬리\n",
    "- 필요시 로그 변환 진행\n",
    "- 분포가 넓게 퍼져있다 -> 필요시 스케일링 진행\n",
    "\n",
    "\n",
    "\n",
    "# Geography => OneHot Encoding\n",
    "- 문자형,범주형 변수 : 인코딩 진행\n",
    "- 고유값 3개\n",
    "- 순서 X\n",
    "- OneHot Encoding 진행 가능성\n",
    "\n",
    "# Gender => Label, Binary Encoding\n",
    "- 문자형,범주형 변수 : 인코딩 진행\n",
    "- 고유값 2개 : 라벨 인코딩 or 이진 인코딩\n",
    "\n",
    "# Age => 로그 변환, 스케일링, 구간 변환 가능성\n",
    "- 대체로 정규분포 형태\n",
    "- 60세 이상 이상치 존재 -> 오른쪽 꼬리\n",
    "- 필요시 로그 변환 진행\n",
    "- 분포가 넓게 퍼져있다(20대 – 90대) -> 필요시 스케일링 진행\n",
    "- 분포 30,40대 집중 / 60대 이상은 극소수 -> 이상치(60대 이상)들을 포함시키기 위해 age를 구간으로 사용할 가능성\n",
    "\n",
    "# Tenure => 그대로 or Label Encoding\n",
    "- 정수형,범주형 변수 : 그대로 사용 or Label Encoding(일관성 위해 인코딩 진행)\n",
    "- 0년, 10년만 소폭 감소\n",
    "\n",
    "# Balance => 로그변환, 스케일링, 이항변수, 클러스터링(범주형) 가능성\n",
    "- 0인 경우가 매우 많고, 나머지가 정규분포에 가까움 -> 왼쪽 꼬리\n",
    "- 필요시 로그 변환 혹은 스케일링\n",
    "- 0 처리 -> 이항변수(범주형)로 만드는 방법\n",
    "- 범주형(낮음, 중간, 높음) : 클러스터링\n",
    "\n",
    "# NumOfProducts => OneHot Encoding 가능성\n",
    "- 정수형, 범주형 변수\n",
    "- 순서가 없다\n",
    "- OneHot Encoding 가능성\n",
    "- 1개(46.9%), 2개(51.1%)가 대부분\n",
    "\n",
    "# HasCrCard => Label Encoding 가능성\n",
    "- 정수형, 범주형 변수\n",
    "- 순서 X\n",
    "- 이진 변수\n",
    "-> Label Encoding 적합 가능성(일관성 위해)\n",
    "\n",
    "\n",
    "# IsActiveMember => Label Encoding 가능성\n",
    "- 정수형, 범주형 변수\n",
    "- 순서\n",
    "- 이진 변수\n",
    "-> LabelEncoding 적합해보임(일관성 위해)\n",
    "\n",
    "# EstimatedSalary => 스케일링 가능성\n",
    "- 분포가 넓게 퍼져있다(0-200000)\n",
    "- 주요 구간 : 5000 - 175000\n",
    "-> 스케일링 가능성\n",
    "\n",
    "# Exited\n",
    "\n",
    "```"
   ]
  },
  {
   "cell_type": "markdown",
   "metadata": {
    "id": "ssH-dt0uyvNU"
   },
   "source": [
    "### 1. 전처리 진행\n",
    "- 다중공선성 확인\n",
    "- ID, Surname 제거\n",
    "- 스케일링 X\n",
    "- 인코딩 O\n",
    "- 이상치 처리 X\n",
    "- 중복치 처리 X\n",
    "- 파생변수 X\n"
   ]
  },
  {
   "cell_type": "markdown",
   "metadata": {
    "id": "Sfy-k7KQbzZO"
   },
   "source": [
    "#### 변수 제거 및 인코딩"
   ]
  },
  {
   "cell_type": "code",
   "execution_count": null,
   "metadata": {
    "colab": {
     "base_uri": "https://localhost:8080/",
     "height": 70
    },
    "executionInfo": {
     "elapsed": 288,
     "status": "ok",
     "timestamp": 1739784112057,
     "user": {
      "displayName": "이정수",
      "userId": "14428595979203344897"
     },
     "user_tz": -540
    },
    "id": "UMBKnB5xKANP",
    "outputId": "af4835ed-84d6-4b16-b12f-381eae708e06"
   },
   "outputs": [],
   "source": [
    "# train, test 동시 진행\n",
    "\n",
    "# Id, Surname 제거\n",
    "train.drop(columns=['id','Surname'],inplace=True)\n",
    "test.drop(columns=['id','Surname'],inplace=True)\n",
    "\n",
    "# Geography -> OneHot Encoding\n",
    "train = pd.get_dummies(train, columns=['Geography'],dtype=int)\n",
    "test = pd.get_dummies(test, columns=['Geography'], dtype=int)\n",
    "\n",
    "# Gender -> Label Encoding\n",
    "encoder = LabelEncoder()\n",
    "train['Gender'] = encoder.fit_transform(train['Gender'])\n",
    "test['Gender'] = encoder.transform(test['Gender'])\n",
    "\n",
    "'''\n",
    "- 매칭 값 확인 -\n",
    "코드 :\n",
    "    original_classes = encoder.classes_\n",
    "    mapping = {}\n",
    "    for i, original in enumerate(original_classes):\n",
    "        mapping[original] = i\n",
    "    print(\"매핑:\", mapping)\n",
    "\n",
    "결과 :\n",
    "    매핑: {'Female': 0, 'Male': 1}\n",
    "'''\n",
    "\n",
    "# Tenure -> Label Encoding\n",
    "encoder = LabelEncoder()\n",
    "train['Tenure'] = encoder.fit_transform(train['Tenure'])\n",
    "test['Tenure'] = encoder.transform(test['Tenure'])\n",
    "\n",
    "'''\n",
    "- 매칭 값 확인 -\n",
    "코드 :\n",
    "    original_classes = encoder.classes_\n",
    "    mapping = {}\n",
    "    for i, original in enumerate(original_classes):\n",
    "        mapping[original] = i\n",
    "    print(\"매핑:\", mapping)\n",
    "\n",
    "결과 :\n",
    "    매핑: {0: 0, 1: 1, 2: 2, 3: 3, 4: 4, 5: 5, 6: 6, 7: 7, 8: 8, 9: 9, 10: 10}\n",
    "'''\n",
    "\n",
    "# NumOfProducts -> OneHot Encoding\n",
    "train = pd.get_dummies(train, columns=['NumOfProducts'],dtype=int)\n",
    "test = pd.get_dummies(test, columns=['NumOfProducts'], dtype=int)\n",
    "\n",
    "# HasCrCard -> Label Encoding\n",
    "encoder = LabelEncoder()\n",
    "train['HasCrCard'] = encoder.fit_transform(train['HasCrCard'])\n",
    "test['HasCrCard'] = encoder.transform(test['HasCrCard'])\n",
    "\n",
    "'''\n",
    "- 매칭 값 확인 -\n",
    "코드 :\n",
    "    original_classes = encoder.classes_\n",
    "    mapping = {}\n",
    "    for i, original in enumerate(original_classes):\n",
    "        mapping[original] = i\n",
    "    print(\"매핑:\", mapping)\n",
    "\n",
    "결과 :\n",
    "    매핑: {0.0: 0, 1.0: 1}\n",
    "'''\n",
    "\n",
    "# IsActiveMember -> Label Encoding\n",
    "encoder = LabelEncoder()\n",
    "train['IsActiveMember'] = encoder.fit_transform(train['IsActiveMember'])\n",
    "test['IsActiveMember'] = encoder.transform(test['IsActiveMember'])\n",
    "\n",
    "'''\n",
    "- 매칭 값 확인 -\n",
    "코드 :\n",
    "    original_classes = encoder.classes_\n",
    "    mapping = {}\n",
    "    for i, original in enumerate(original_classes):\n",
    "        mapping[original] = i\n",
    "    print(\"매핑:\", mapping)\n",
    "\n",
    "결과 :\n",
    "    매핑: {0.0: 0, 1.0: 1}\n",
    "'''"
   ]
  },
  {
   "cell_type": "markdown",
   "metadata": {
    "id": "FkZ0Tz_f-Hvp"
   },
   "source": [
    "#### 다중공선성(VIF)\n",
    "\n",
    "- 인코딩으로 인한 더미변수 제외 모두 다중공선성 X"
   ]
  },
  {
   "cell_type": "markdown",
   "metadata": {
    "id": "NrPENKouUAQc"
   },
   "source": [
    "```\n",
    "              Feature       VIF\n",
    "0          CustomerId  1.000260\n",
    "1         CreditScore  1.000737\n",
    "2              Gender  1.008577\n",
    "3                 Age  1.044343\n",
    "4              Tenure  1.000365\n",
    "5             Balance  1.696069\n",
    "6           HasCrCard  1.001405\n",
    "7      IsActiveMember  1.010977\n",
    "8     EstimatedSalary  1.000438\n",
    "9    Geography_France       inf\n",
    "10  Geography_Germany       inf\n",
    "11    Geography_Spain       inf\n",
    "12    NumOfProducts_1       inf\n",
    "13    NumOfProducts_2       inf\n",
    "14    NumOfProducts_3       inf\n",
    "15    NumOfProducts_4       inf\n",
    "```"
   ]
  },
  {
   "cell_type": "code",
   "execution_count": null,
   "metadata": {
    "colab": {
     "base_uri": "https://localhost:8080/"
    },
    "executionInfo": {
     "elapsed": 5764,
     "status": "ok",
     "timestamp": 1731134174604,
     "user": {
      "displayName": "이정수",
      "userId": "14428595979203344897"
     },
     "user_tz": -540
    },
    "id": "rjZeRfE4-JHb",
    "outputId": "69db75d6-3974-48cc-f65a-8cbae587d528"
   },
   "outputs": [],
   "source": [
    "# target 변수 제외: train_features\n",
    "train_features = train.drop(columns=['Exited'])\n",
    "\n",
    "# VIF 계산 : (exog : Any, exog_idx : Any ) -> (독립변수, 독립변수 인덱스) -> 독립변수 : 독립 변수들을 포함하는 2D 배열이나 데이터프레임 /\n",
    "vif_data = pd.DataFrame()\n",
    "vif_data['Feature'] = train_features.columns\n",
    "vif_data['VIF'] = [variance_inflation_factor(train_features.values, i) for i in range(train_features.shape[1])]\n",
    "print(vif_data)"
   ]
  },
  {
   "cell_type": "markdown",
   "metadata": {
    "id": "304CAyBHQFw-"
   },
   "source": [
    "#### 추가 시각화_상관관계 히트맵"
   ]
  },
  {
   "cell_type": "markdown",
   "metadata": {
    "id": "3AJEN7o4QRoS"
   },
   "source": [
    "- 더미변수끼리의 상관계수 비교 제외\n",
    "- Exited\n",
    "    - 양\n",
    "        - **Age(0.34)**\n",
    "            - 연령이 높을 수록 이탈율 다소 높다\n",
    "        - NumOfProducts_1(0.31)\n",
    "            - 은행 상품수를 1개 보유할 때 이탈율 다소 높다\n",
    "        - Geography_Germany(0.21)\n",
    "            - 독일 거주하는 고객이 이탈할 가능성 다소 높다\n",
    "        - Balacne(0.13)\n",
    "            - 잔고가 높은 고객이 이탈 가능성이 조금 높다\n",
    "            - 낮음\n",
    "\n",
    "    - 음\n",
    "        - **NumOfProducts_2(-0.38)**\n",
    "            - 은행 상품수를 2개 보유할 때 이탈율 다소 감소\n",
    "        - IsActiveMember(-0.21)\n",
    "            - 활동적인 고객일수록 이탈 가능성이 다소 낮다\n",
    "        - Gender(-0.15)\n",
    "            - 남성인 고객이 이탈 가능성이 약간 더 낮다\n",
    "        - Geography_France(-0.13)\n",
    "            - 프랑스의 거주하는 고객이 이탈할 가능성 다소 낮다\n",
    "\n",
    "- 전체\n",
    "    - 양\n",
    "        - **Geography_Germany ↔ Balance(0.54)**\n",
    "            - 독일 거주 고객일수록 잔고가 높은 가능성\n",
    "        - NumOfProducts_1 ↔ Balance(0.41)\n",
    "            - 상품을 1개 보유한 고객일수록 잔고가 높을 가능성\n",
    "        - Age ↔ NumOfProducts_1(0.14)\n",
    "            - 연령이 높을수록 상품을 1개 보유할 가능성\n",
    "        - NumOfProducts_1 ↔ Geography_Germany(0.13)\n",
    "            - 상품을 1개 보유하는 고객이 독일에 거주할 가능성\n",
    "    - 음\n",
    "        - **NumOfProducts_2 ↔ Balance (-0.41)**\n",
    "            - 상품을 2개 보유할수록 잔고가 낮을 가능성\n",
    "        - Balance ↔ Geography_France (-0.33)\n",
    "            - 프랑스 거주 고객은 잔고가 낮을 가능성\n",
    "        - NumOfProducts_2 ↔ Age (-0.17)\n",
    "            - 상품을 2개 보유한 고객은 나이가 어릴 가능성\n",
    "        - NumOfProducts_2 ↔ Geography_Germany(-0.15)\n",
    "            - 상품을 2개 보유한 고객은 독일 거주 가능성이 낮다"
   ]
  },
  {
   "cell_type": "code",
   "execution_count": null,
   "metadata": {
    "colab": {
     "base_uri": "https://localhost:8080/",
     "height": 809
    },
    "executionInfo": {
     "elapsed": 2673,
     "status": "ok",
     "timestamp": 1739784123907,
     "user": {
      "displayName": "이정수",
      "userId": "14428595979203344897"
     },
     "user_tz": -540
    },
    "id": "IIO-HNQQNncd",
    "outputId": "e7c694a1-32f8-46a3-b382-8f0c777a37ae"
   },
   "outputs": [],
   "source": [
    "corr = train.corr()\n",
    "\n",
    "# 히트맵 시각화\n",
    "plt.figure(figsize=(15, 13))\n",
    "sns.heatmap(corr, annot=True, cmap='coolwarm', fmt='.2f', center=0, cbar=True)\n",
    "\n",
    "# 그래프 제목 추가\n",
    "plt.title('Correlation Heatmap')\n",
    "\n",
    "# 그래프 출력\n",
    "plt.show()"
   ]
  },
  {
   "cell_type": "markdown",
   "metadata": {
    "id": "Vy50TIcyfCS-"
   },
   "source": [
    "#### 클러스터링"
   ]
  },
  {
   "cell_type": "code",
   "execution_count": null,
   "metadata": {
    "colab": {
     "base_uri": "https://localhost:8080/",
     "height": 1000
    },
    "executionInfo": {
     "elapsed": 2292,
     "status": "ok",
     "timestamp": 1731134182194,
     "user": {
      "displayName": "이정수",
      "userId": "14428595979203344897"
     },
     "user_tz": -540
    },
    "id": "8vhChmxKfDuf",
    "outputId": "effeef79-5577-4278-c63e-23835d67863c"
   },
   "outputs": [],
   "source": [
    "import scipy.cluster.hierarchy as sch\n",
    "import matplotlib.pyplot as plt\n",
    "\n",
    "# 상관관계 계산\n",
    "corr = train.corr()\n",
    "\n",
    "# 상관관계 클러스터링\n",
    "sns.clustermap(corr, method='ward', cmap='coolwarm', annot=True, fmt=\".2f\",\n",
    "               figsize=(10, 10), dendrogram_ratio=(.1, .2))\n",
    "plt.title('Correlation Clustering')\n",
    "plt.show()"
   ]
  },
  {
   "cell_type": "markdown",
   "metadata": {
    "id": "2G5Y8cnPtdjI"
   },
   "source": [
    "## 2.모델링"
   ]
  },
  {
   "cell_type": "markdown",
   "metadata": {
    "id": "_8R3HVAltxBQ"
   },
   "source": [
    "### 데이터 분리"
   ]
  },
  {
   "cell_type": "code",
   "execution_count": null,
   "metadata": {
    "colab": {
     "base_uri": "https://localhost:8080/"
    },
    "executionInfo": {
     "elapsed": 326,
     "status": "ok",
     "timestamp": 1739776939282,
     "user": {
      "displayName": "이정수",
      "userId": "14428595979203344897"
     },
     "user_tz": -540
    },
    "id": "lliz5MSJtew-",
    "outputId": "3294e704-49c2-40f4-d590-ed536d309950"
   },
   "outputs": [],
   "source": [
    "# feature, target 분리\n",
    "train_feature = train.drop(columns='Exited')\n",
    "train_target = train['Exited']\n",
    "\n",
    "# 데이터 분리\n",
    "X_train, X_valid, y_train, y_valid = train_test_split(train_feature, train_target,\n",
    "                                                      test_size = 0.3,\n",
    "                                                      random_state=0)\n",
    "\n",
    "# 분리 데이터 크기 확인\n",
    "for i in [X_train, X_valid, y_train, y_valid] :\n",
    "  print(i.shape)"
   ]
  },
  {
   "cell_type": "markdown",
   "metadata": {
    "id": "GgVLDijEqmr7"
   },
   "source": [
    "### AutoML\n",
    "- gbc : Gradient Boosting Classifier\n",
    "- lightgbm : Light Gradient Boosting Machine\n",
    "- catboost : CatBoost Classifier\n",
    "- xgboost : Extreme Gradient Boosting\n",
    "- ada : Ada Boost Classifier"
   ]
  },
  {
   "cell_type": "code",
   "execution_count": null,
   "metadata": {
    "colab": {
     "base_uri": "https://localhost:8080/",
     "height": 1000,
     "referenced_widgets": [
      "93c858ac8a4145ee974151647642d443",
      "40429e984461496d8af23949c26a246a",
      "d2b523aa30bd4396a1a392c8558f3c73",
      "d96971f92ee94c2ab1dae4c48b3af721",
      "748ae0641d6a4ca690f811bc2c63b3e5",
      "19d04f90d0224d089cdd2a67851f297d",
      "9ba32fc6f8b1441cb334afff502ae0f0",
      "7a479a38558c40ab8641d77a1e979b3e",
      "8147828cf6404a5aaed8f085eba1f072",
      "12572c7de1894ee3897a500a9f60afa4",
      "bbc3cc52640f45f9b480b04b060f0d35"
     ]
    },
    "executionInfo": {
     "elapsed": 536116,
     "status": "ok",
     "timestamp": 1733378872490,
     "user": {
      "displayName": "이정수",
      "userId": "14428595979203344897"
     },
     "user_tz": -540
    },
    "id": "mbJDcVJpqoxP",
    "outputId": "a6bcffda-5faf-4452-bbdb-66b5c9e2e544"
   },
   "outputs": [],
   "source": [
    "# 인덱스 번호 새로 할당\n",
    "X_train_automl = X_train.reset_index(drop=True)\n",
    "y_train_automl = y_train.reset_index(drop=True)\n",
    "\n",
    "# X_train, y_train 합치기\n",
    "Xy_train_automl = pd.concat([X_train_automl, y_train_automl], axis=1)\n",
    "\n",
    "# AutoML 모델 세팅\n",
    "clf = setup(data=Xy_train_automl,\n",
    "            target = 'Exited',\n",
    "            train_size = 0.7,\n",
    "            data_split_shuffle=True,\n",
    "            session_id = 0,\n",
    "            fold = 5\n",
    "            )\n",
    "\n",
    "# AutoML top5 model 설정\n",
    "top5_model = compare_models(fold=5, round=3, n_select=5, sort = 'AUC', errors='ignore',verbose=True)\n",
    "top5_model"
   ]
  },
  {
   "cell_type": "markdown",
   "metadata": {
    "id": "z_DT7T5f6S2O"
   },
   "source": [
    "### Optuna\n",
    "- gbc\n",
    "```\n",
    "Best AUC: 0.8879903418757644\n",
    "Best hyperparameters:\n",
    "  n_estimators: 441\n",
    "  learning_rate: 0.045696033561884446\n",
    "  max_depth: 7\n",
    "  min_samples_split: 2\n",
    "  min_samples_leaf: 2\n",
    "  subsample: 0.9753636860597981\n",
    "  max_features: log2\n",
    "  loss: exponential\n",
    "  ccp_alpha: 2.8658360294722587e-05\n",
    "  validation_fraction: 0.27267380097000604\n",
    "  n_iter_no_change: 17\n",
    "  tol: 0.005721221703263734\n",
    "  min_impurity_decrease: 0.04492762681125898\n",
    "  max_leaf_nodes: 65\n",
    "```\n",
    "- lightgbm\n",
    "```\n",
    "Best AUC: 0.8893180320851476\n",
    "Best hyperparameters:\n",
    "  num_boost_round: 424\n",
    "  learning_rate: 0.04631415040823912\n",
    "  num_leaves: 38\n",
    "  max_depth: 9\n",
    "  min_data_in_leaf: 47\n",
    "  feature_fraction: 0.9024601968835392\n",
    "  bagging_fraction: 0.7342793249627353\n",
    "  bagging_freq: 2\n",
    "  min_gain_to_split: 0.3017007245252093\n",
    "  lambda_l1: 0.07886266683723922\n",
    "  lambda_l2: 0.0859776680854032\n",
    "  tree_learner: serial\n",
    "  max_bin: 310\n",
    "  early_stopping_rounds: 38\n",
    "  num_threads: 3\n",
    "  scale_pos_weight: 3.8048327134060944\n",
    "```\n",
    "- CatBoost\n",
    "```\n",
    "Best AUC: 0.8894975131185816\n",
    "Best hyperparameters:\n",
    "  iterations: 622\n",
    "  learning_rate: 0.15620856452750326\n",
    "  depth: 3\n",
    "  l2_leaf_reg: 0.023092783762797234\n",
    "  random_strength: 0.013271842224732251\n",
    "  bagging_temperature: 6.81082830068841\n",
    "  grow_policy: SymmetricTree\n",
    "  border_count: 117\n",
    "  od_wait: 15\n",
    "```\n",
    "- xgboost\n",
    "```\n",
    "Best AUC: 0.8855466532778464\n",
    "Best hyperparameters:\n",
    "  num_round: 173\n",
    "  alpha: 0.8296136024447837\n",
    "  base_score: 0.549188827783536\n",
    "  booster: gbtree\n",
    "  colsample_bylevel: 0.6341674144934313\n",
    "  colsample_bynode: 0.7675482440337507\n",
    "  colsample_bytree: 0.8777999787302608\n",
    "  eta: 0.28259482675888387\n",
    "  eval_metric: auc\n",
    "  gamma: 0.2819080182819892\n",
    "  grow_policy: depthwise\n",
    "  lambda: 3.426745960231184\n",
    "  max_bin: 340\n",
    "  max_delta_step: 10\n",
    "  max_depth: 9\n",
    "  max_leaves: 33\n",
    "  min_child_weight: 4.375849619589128\n",
    "  objective: binary:logistic\n",
    "  scale_pos_weight: 7.596583814614301\n",
    "  seed: 55\n",
    "  subsample: 0.9365805881615846\n",
    "  verbosity: 2\n",
    "  early_stopping_rounds: 54\n",
    "```\n",
    "- ada\n",
    "```\n",
    "Best AUC: 0.887546021751948\n",
    "Best hyperparameters:\n",
    "  n_estimators: 194\n",
    "  learning_rate: 0.07457707279949315\n",
    "  algorithm: SAMME.R\n",
    "  random_state: 641\n",
    "  max_depth: 4\n",
    "  min_samples_split: 9\n",
    "  min_samples_leaf: 2\n",
    "  max_features: None\n",
    "  max_leaf_nodes: 52\n",
    "  min_impurity_decrease: 0.0003868616444805657\n",
    "```\n"
   ]
  },
  {
   "cell_type": "markdown",
   "metadata": {
    "id": "RTcA7UCC6bhI"
   },
   "source": [
    "#### GBC : Gradient Boosting Classifier"
   ]
  },
  {
   "cell_type": "code",
   "execution_count": null,
   "metadata": {
    "colab": {
     "base_uri": "https://localhost:8080/"
    },
    "executionInfo": {
     "elapsed": 2576220,
     "status": "ok",
     "timestamp": 1731159808779,
     "user": {
      "displayName": "이정수",
      "userId": "14428595979203344897"
     },
     "user_tz": -540
    },
    "id": "M7i9VdpY748u",
    "outputId": "c52f41c9-bca1-4313-f22a-40900494e67f"
   },
   "outputs": [],
   "source": [
    "sampler = TPESampler(seed=0)\n",
    "\n",
    "def objective(trial):\n",
    "    params = {\n",
    "        'n_estimators': trial.suggest_int('n_estimators', 100, 500),                          # 트리의 개수\n",
    "        'learning_rate': trial.suggest_float('learning_rate', 0.01, 0.2),                     # 학습률\n",
    "        'max_depth': trial.suggest_int('max_depth', 3, 10),                                   # 트리의 최대 깊이\n",
    "        'min_samples_split': trial.suggest_int('min_samples_split', 2, 10),                   # 분할을 위한 최소 샘플 수\n",
    "        'min_samples_leaf': trial.suggest_int('min_samples_leaf', 1, 10),                     # 리프 노드에 최소한 있어야 할 샘플 수\n",
    "        'subsample': trial.suggest_float('subsample', 0.6, 1.0),                              # 샘플링 비율\n",
    "        'max_features': trial.suggest_categorical('max_features', ['sqrt', 'log2', None]),    # 분할에 사용할 특성의 수\n",
    "        'loss': trial.suggest_categorical('loss', ['log_loss', 'exponential']),               # 손실 함수\n",
    "        'ccp_alpha': trial.suggest_float('ccp_alpha', 0.0, 0.1),                              # 가지치기 파라미터\n",
    "        'random_state': 0,                                                                    # 고정된 랜덤 시드\n",
    "        'validation_fraction': trial.suggest_float('validation_fraction', 0.1, 0.3),          # 검증 데이터 비율\n",
    "        'n_iter_no_change': trial.suggest_int('n_iter_no_change', 5, 20),                     # 성능 향상이 없을 경우 훈련 중단\n",
    "        'tol': trial.suggest_float('tol', 1e-4, 1e-2),                                        # 수렴을 위한 tolerance 값\n",
    "        'min_impurity_decrease': trial.suggest_float('min_impurity_decrease', 0.0, 0.1),      # 불순도 감소 기준\n",
    "        'max_leaf_nodes': trial.suggest_int('max_leaf_nodes', 10, 100),                       # 최대 리프 노드 수\n",
    "    }\n",
    "\n",
    "    cv = StratifiedKFold(n_splits=5, shuffle=True, random_state=0)\n",
    "    auc_list = []\n",
    "\n",
    "    for _, (train_index, valid_index) in enumerate(cv.split(train_feature,train_target)):\n",
    "        X_train, y_train = train_feature.iloc[train_index], train_target.iloc[train_index]\n",
    "        X_valid, y_valid = train_feature.iloc[valid_index], train_target.iloc[valid_index]\n",
    "\n",
    "\n",
    "        gbc_model = GradientBoostingClassifier(**params)\n",
    "        gbc_model.fit(X_train, y_train)\n",
    "\n",
    "        # 예측 확률 계산\n",
    "        y_prob = gbc_model.predict_proba(X_valid)[:,1]\n",
    "        auc_score = roc_auc_score(y_valid, y_prob)\n",
    "        auc_list.append(auc_score)\n",
    "\n",
    "    # 평균 auc 반환\n",
    "    mean_auc = np.mean(auc_list)\n",
    "    return mean_auc\n",
    "\n",
    "# optuna 최적화 실행(AUC 최대화)\n",
    "optuna_gbc = optuna.create_study(direction='maximize', sampler=sampler)\n",
    "optuna_gbc.optimize(objective, n_trials=50)\n",
    "\n",
    "# 최적 결과 출력\n",
    "best_trial = optuna_gbc.best_trial\n",
    "print(f\"Best AUC: {best_trial.value}\")\n",
    "print(\"Best hyperparameters:\")\n",
    "for key, value in best_trial.params.items():\n",
    "    print(f\"  {key}: {value}\")"
   ]
  },
  {
   "cell_type": "markdown",
   "metadata": {
    "id": "I-njRTo9ByOR"
   },
   "source": [
    "#### LightGBM : Light Gradient Boosting Machine"
   ]
  },
  {
   "cell_type": "code",
   "execution_count": null,
   "metadata": {
    "colab": {
     "base_uri": "https://localhost:8080/",
     "output_embedded_package_id": "1V76yoF5ya4IP0lry8fdnu3g-I07VBVgo"
    },
    "executionInfo": {
     "elapsed": 41850,
     "status": "ok",
     "timestamp": 1732028906591,
     "user": {
      "displayName": "이정수",
      "userId": "14428595979203344897"
     },
     "user_tz": -540
    },
    "id": "qw-u2hikHHZK",
    "outputId": "0c36f0e9-a21f-443b-dee3-a8608c5bfa93"
   },
   "outputs": [],
   "source": [
    "sampler = TPESampler(seed=0)\n",
    "\n",
    "def objective(trial):\n",
    "    params = {\n",
    "        'num_boost_round': trial.suggest_int('num_boost_round', 100, 1000),                                   # 최대 부스팅 반복 횟수 (트리의 수) / default: 100\n",
    "        'learning_rate': trial.suggest_float('learning_rate', 0.01, 0.1),                                     # 학습률 (각 예제마다 가중치를 업데이트하는 비율) / default: 0.1\n",
    "        'num_leaves': trial.suggest_int('num_leaves', 31, 128),                                               # 트리의 최대 잎 수 / default: 64\n",
    "        'max_depth': trial.suggest_int('max_depth', -1, 15),                                                  # 트리의 최대 깊이 / default: 6\n",
    "        'min_data_in_leaf': trial.suggest_int('min_data_in_leaf', 20, 100),                                   # 각 리프 노드에 최소 데이터 수 / default: 3\n",
    "        'feature_fraction': trial.suggest_float('feature_fraction', 0.6, 1.0),                                # 각 트리에서 선택할 특징의 비율 / default: 0.9\n",
    "        'bagging_fraction': trial.suggest_float('bagging_fraction', 0.6, 1.0),                                # 배깅의 비율 (데이터의 일부를 무작위로 선택) / default: 0.9\n",
    "        'bagging_freq': trial.suggest_int('bagging_freq', 1, 10),                                             # 배깅을 수행하는 빈도 / default: 1\n",
    "        'min_gain_to_split': trial.suggest_float('min_gain_to_split', 0.0, 1.0),                              # 각 트리에서 사용할 최소 게인 / default: 0.0\n",
    "        'lambda_l1': trial.suggest_float('lambda_l1', 0.0, 0.1),                                              # L1 정규화 / default: 0.0\n",
    "        'lambda_l2': trial.suggest_float('lambda_l2', 0.0, 0.1),                                              # L2 정규화 / default: 0.0\n",
    "        'tree_learner': trial.suggest_categorical('tree_learner', ['serial', 'feature', 'data', 'voting']),   # 트리 훈련자 유형 / default: 'serial'\n",
    "        'max_bin': trial.suggest_int('max_bin', 255, 512),                                                    # 최대 빈 수 (기능 값을 버킷화하는 데 사  용) / default: 255\n",
    "        'early_stopping_rounds': trial.suggest_int('early_stopping_rounds', 10, 50),                          # 조기 중단 라운드 / default: 10\n",
    "        'metric': 'auc',                                                                                      # 평가 지표 (auc 고정)\n",
    "        'num_threads': trial.suggest_int('num_threads', 1, 8),                                                # 트리 학습에 사용하는 스레드 수 / default: 0\n",
    "        'scale_pos_weight': trial.suggest_float('scale_pos_weight', 1.0, 5.0),                                # 스케일링된 레이블의 가중치 (바이너리 분류에만 사용) / default: 1.0\n",
    "        'verbosity': 0                                                                                        # 인쇄메시지\n",
    "    }\n",
    "\n",
    "    cv = StratifiedKFold(n_splits=5, shuffle=True, random_state=0)\n",
    "    auc_list = []\n",
    "\n",
    "    for _, (train_index, valid_index) in enumerate(cv.split(train_feature,train_target)):\n",
    "        X_train, y_train = train_feature.iloc[train_index], train_target.iloc[train_index]\n",
    "        X_valid, y_valid = train_feature.iloc[valid_index], train_target.iloc[valid_index]\n",
    "\n",
    "        # LightGBM 모델\n",
    "        train_data = lgb.Dataset(X_train, label=y_train)\n",
    "        valid_data = lgb.Dataset(X_valid, label=y_valid)\n",
    "\n",
    "        # lightGBM 모델 학습\n",
    "        lgb_model = lgb.train(\n",
    "            params,\n",
    "            train_data,\n",
    "            valid_sets = [train_data, valid_data]\n",
    "        )\n",
    "\n",
    "        # 예측 확률 계산\n",
    "        y_prob = lgb_model.predict(X_valid)\n",
    "        auc_score = roc_auc_score(y_valid, y_prob)\n",
    "        auc_list.append(auc_score)\n",
    "\n",
    "    # 평균 auc 반환\n",
    "    mean_auc = np.mean(auc_list)\n",
    "    return mean_auc\n",
    "\n",
    "# optuna 최적화 실행(AUC 최대화)\n",
    "optuna_lgb = optuna.create_study(direction='maximize', sampler=sampler)\n",
    "optuna_lgb.optimize(objective, n_trials=50)\n",
    "\n",
    "# 최적 결과 출력\n",
    "best_trial = optuna_lgb.best_trial\n",
    "print(f\"Best AUC: {best_trial.value}\")\n",
    "print(\"Best hyperparameters:\")\n",
    "for key, value in best_trial.params.items():\n",
    "    print(f\"  {key}: {value}\")"
   ]
  },
  {
   "cell_type": "markdown",
   "metadata": {
    "id": "t8gMTKMdx-Gw"
   },
   "source": [
    "#### CatBoost : CatBoost Classifier"
   ]
  },
  {
   "cell_type": "code",
   "execution_count": null,
   "metadata": {
    "colab": {
     "base_uri": "https://localhost:8080/"
    },
    "executionInfo": {
     "elapsed": 6829471,
     "status": "ok",
     "timestamp": 1733385834289,
     "user": {
      "displayName": "이정수",
      "userId": "14428595979203344897"
     },
     "user_tz": -540
    },
    "id": "dROq_yyVyGG_",
    "outputId": "ab870f36-85e5-4845-9784-25d7ed12df7b"
   },
   "outputs": [],
   "source": [
    "sampler = TPESampler(seed=0)\n",
    "\n",
    "def objective(trial):\n",
    "    # 하이퍼파라미터 정의\n",
    "    params = {\n",
    "        \"iterations\": trial.suggest_int(\"iterations\", 100, 1000),                                               # 트리 개수 (Boosting 반복 횟수) / default: 1000\n",
    "        \"learning_rate\": trial.suggest_loguniform(\"learning_rate\", 1e-4, 1.0),                                  # 학습률 (트리의 가중치를 조정하는 비율) / default: 0.03\n",
    "        \"depth\": trial.suggest_int(\"depth\", 1, 16),                                                             # 트리의 최대 깊이 (과적합 방지) / default: 6\n",
    "        \"l2_leaf_reg\": trial.suggest_loguniform(\"l2_leaf_reg\", 1e-2, 10.0),                                     # L2 정규화 계수 (과적합 방지) / default: 3.0\n",
    "        \"random_strength\": trial.suggest_loguniform(\"random_strength\", 1e-2, 10.0),                             # 트리 분할 시 무작위성 정도 (과적합 방지) / default: 1.0\n",
    "        \"bagging_temperature\": trial.suggest_loguniform(\"bagging_temperature\", 1e-5, 10.0),                     # 베이지안 부트스트랩 샘플링 강도 (1 이상이면 샘플링 강화) / default: 1.0\n",
    "        \"grow_policy\": trial.suggest_categorical(\"grow_policy\", [\"SymmetricTree\", \"Depthwise\", \"Lossguide\"]),   # 트리 성장 정책 (균형 성장 vs 깊이 우선 vs 손실 기반) / default: SymmetricTree\n",
    "        \"border_count\": trial.suggest_int(\"border_count\", 1, 255),                                              # 연속형 피처를 구간화할 때 사용할 분할 개수 / default: 254\n",
    "        \"thread_count\": -1,                                                                                     # 사용할 CPU 스레드 개수 (-1이면 모든 코어 사용) / default: -1\n",
    "        \"random_seed\": 42,                                                                                      # 재현 가능성을 위한 난수 시드 고정 / default: 없음\n",
    "        \"eval_metric\": \"AUC\",                                                                                   # 평가 지표 (Area Under Curve) / default: Logloss\n",
    "        \"verbose\": 0,                                                                                           # 학습 과정 출력 여부 (0이면 출력 안 함)\n",
    "        \"od_type\": \"Iter\",                                                                                      # 조기 종료 조건 (Iteration 기반) / default: IncToDec\n",
    "        \"od_wait\": trial.suggest_int(\"od_wait\", 10, 50),                                                        # 조기 종료를 위한 대기 스텝 수 / default: 50\n",
    "        \"task_type\": \"CPU\",                                                                                     # 실행 환경 설정 (CPU 사용)\n",
    "        \"loss_function\": \"Logloss\"                                                                              # 손실 함수 (이진 분류 문제에서는 Logloss 사용)\n",
    "    }\n",
    "\n",
    "\n",
    "    cv = StratifiedKFold(n_splits=5, shuffle=True, random_state=0)\n",
    "    auc_list = []\n",
    "\n",
    "    for _, (train_index, valid_index) in enumerate(cv.split(train_feature,train_target)):\n",
    "        X_train, y_train = train_feature.iloc[train_index], train_target.iloc[train_index]\n",
    "        X_valid, y_valid = train_feature.iloc[valid_index], train_target.iloc[valid_index]\n",
    "\n",
    "\n",
    "        cat_model = CatBoostClassifier(**params)\n",
    "        cat_model.fit(X_train, y_train,\n",
    "                      eval_set = (X_valid, y_valid),early_stopping_rounds = 50, verbose = 0)\n",
    "\n",
    "        # 예측 확률 계산\n",
    "        y_score = cat_model.predict_proba(X_valid)[:,1]\n",
    "        auc_score = roc_auc_score(y_valid, y_score)\n",
    "        auc_list.append(auc_score)\n",
    "\n",
    "    # 평균 auc 반환\n",
    "    mean_auc = np.mean(auc_list)\n",
    "    return mean_auc\n",
    "\n",
    "# optuna 최적화 실행(AUC 최대화)\n",
    "optuna_cat = optuna.create_study(direction='maximize', sampler=sampler)\n",
    "optuna_cat.optimize(objective, n_trials=50)\n",
    "\n",
    "# 최적 결과 출력\n",
    "best_trial = optuna_cat.best_trial\n",
    "print(f\"Best AUC: {best_trial.value}\")\n",
    "print(\"Best hyperparameters:\")\n",
    "for key, value in best_trial.params.items():\n",
    "    print(f\"  {key}: {value}\")"
   ]
  },
  {
   "cell_type": "markdown",
   "metadata": {
    "id": "V40L3QULOnqI"
   },
   "source": [
    "#### XGBoost : Extreme Gradient Boosting"
   ]
  },
  {
   "cell_type": "code",
   "execution_count": null,
   "metadata": {
    "colab": {
     "base_uri": "https://localhost:8080/"
    },
    "executionInfo": {
     "elapsed": 212701,
     "status": "ok",
     "timestamp": 1732029592125,
     "user": {
      "displayName": "이정수",
      "userId": "14428595979203344897"
     },
     "user_tz": -540
    },
    "id": "lW5A3Q1sOuMN",
    "outputId": "2a7d8cc4-fcaa-41d7-b3ff-0af79a5f2733"
   },
   "outputs": [],
   "source": [
    "sampler = TPESampler(seed=0)\n",
    "\n",
    "def objective(trial):\n",
    "    params = {\n",
    "        'num_round': trial.suggest_int('num_round', 100, 1000),                               # 부스팅 반복 횟수 (트리 개수) / default: 100\n",
    "        'alpha': trial.suggest_float('alpha', 0.0, 1.0),                                      # L1 정규화 항 (Lasso 규제, 가중치 감소 효과) / default: 0.0\n",
    "        'base_score': trial.suggest_float('base_score', 0.0, 1.0),                            # 초기 예측값 (모든 샘플의 기본 예측값) / default: 0.5\n",
    "        'booster': trial.suggest_categorical('booster', ['gbtree', 'gblinear']),              # 부스팅 방식 ('gbtree': 트리 기반, 'gblinear': 선형 모델) / default: 'gbtree'\n",
    "        'colsample_bylevel': trial.suggest_float('colsample_bylevel', 0.1, 1.0),              # 트리의 각 레벨에서 선택할 피처 비율 / default: 1.0\n",
    "        'colsample_bynode': trial.suggest_float('colsample_bynode', 0.1, 1.0),                # 트리 각 노드에서 선택할 피처 비율 / default: 1.0\n",
    "        'colsample_bytree': trial.suggest_float('colsample_bytree', 0.1, 1.0),                # 각 트리에서 선택할 피처 비율 (컬럼 샘플링) / default: 1.0\n",
    "        'eta': trial.suggest_float('eta', 0.01, 0.3),                                         # 학습률 (트리 가중치 업데이트 비율) / default: 0.3\n",
    "        'eval_metric': 'auc',                                                                 # 평가 지표 (AUC로 고정)\n",
    "        'gamma': trial.suggest_float('gamma', 0.0, 1.0),                                      # 트리 분할을 위한 최소 손실 감소값 (클수록 보수적 분할) / default: 0.0\n",
    "        'grow_policy': trial.suggest_categorical('grow_policy', ['depthwise', 'lossguide']),  # 트리 성장 방식 ('depthwise': 깊이 우선, 'lossguide': 손실 기반) / default: 'depthwise'\n",
    "        'lambda': trial.suggest_float('lambda', 0.0, 10.0),                                   # L2 정규화 항 (Ridge 규제, 과적합 방지) / default: 1.0\n",
    "        'max_bin': trial.suggest_int('max_bin', 10, 512),                                     # 연속형 변수를 이산화할 때 사용할 빈 개수 / default: 256\n",
    "        'max_delta_step': trial.suggest_int('max_delta_step', 0, 10),                         # 클래스 불균형 보정 (가중치 변화 제한) / default: 0\n",
    "        'max_depth': trial.suggest_int('max_depth', 3, 12),                                   # 개별 트리의 최대 깊이 (깊을수록 모델 복잡도 증가) / default: 6\n",
    "        'max_leaves': trial.suggest_int('max_leaves', 0, 50),                                 # 트리의 최대 리프 노드 개수 (0이면 제한 없음) / default: 0\n",
    "        'min_child_weight': trial.suggest_float('min_child_weight', 0.1, 10.0),               # 리프 노드가 분할되기 위한 최소 가중치 합 (클수록 덜 분할) / default: 1.0\n",
    "        'objective': 'binary:logistic',                                                       # 학습 목표 (이진 분류: 로지스틱 회귀) / default: 'binary:logistic'\n",
    "        'scale_pos_weight': trial.suggest_float('scale_pos_weight', 0.1, 10.0),               # 불균형 데이터 조정 가중치 / default: 1.0\n",
    "        'seed': trial.suggest_int('seed', 0, 1000),                                           # 난수 시드 (재현 가능성 확보) / default: 0\n",
    "        'subsample': trial.suggest_float('subsample', 0.5, 1.0),                              # 트리 학습 시 사용하는 샘플링 비율 (과적합 방지) / default: 1.0\n",
    "        'verbosity': trial.suggest_int('verbosity', 0, 3),                                    # 출력 메시지 수준 (0: 없음, 3: 상세 로그) / default: 1\n",
    "    }\n",
    "\n",
    "    cv = StratifiedKFold(n_splits=5, shuffle=True, random_state=0)\n",
    "    auc_list = []\n",
    "\n",
    "    for _, (train_index, valid_index) in enumerate(cv.split(train_feature,train_target)):\n",
    "        X_train, y_train = train_feature.iloc[train_index], train_target.iloc[train_index]\n",
    "        X_valid, y_valid = train_feature.iloc[valid_index], train_target.iloc[valid_index]\n",
    "\n",
    "        dtrain = xgb.DMatrix(X_train, label=y_train)\n",
    "        dvalid = xgb.DMatrix(X_valid, label=y_valid)\n",
    "\n",
    "        xgb_model = xgb.train(\n",
    "            params,\n",
    "            dtrain,\n",
    "            evals=[(dtrain, 'train'), (dvalid, 'valid')],\n",
    "            early_stopping_rounds=trial.suggest_int('early_stopping_rounds', 10, 100)\n",
    "        )\n",
    "\n",
    "        # 예측 확률 계산\n",
    "        y_prob = xgb_model.predict(dvalid)\n",
    "        auc_score = roc_auc_score(y_valid, y_prob)\n",
    "        auc_list.append(auc_score)\n",
    "\n",
    "    # 평균 auc 반환\n",
    "    mean_auc = np.mean(auc_list)\n",
    "    return mean_auc\n",
    "\n",
    "# optuna 최적화 실행(AUC 최대화)\n",
    "optuna_xgb = optuna.create_study(direction='maximize', sampler=sampler)\n",
    "optuna_xgb.optimize(objective, n_trials=50)\n",
    "\n",
    "# 최적 결과 출력\n",
    "best_trial = optuna_xgb.best_trial\n",
    "print(f\"Best AUC: {best_trial.value}\")\n",
    "print(\"Best hyperparameters:\")\n",
    "for key, value in best_trial.params.items():\n",
    "    print(f\"  {key}: {value}\")"
   ]
  },
  {
   "cell_type": "markdown",
   "metadata": {
    "id": "JbF7oIrLfUZf"
   },
   "source": [
    "#### AdaBoost : Ada Boost Classifier"
   ]
  },
  {
   "cell_type": "code",
   "execution_count": null,
   "metadata": {
    "colab": {
     "base_uri": "https://localhost:8080/"
    },
    "executionInfo": {
     "elapsed": 4268917,
     "status": "ok",
     "timestamp": 1731682285471,
     "user": {
      "displayName": "이정수",
      "userId": "14428595979203344897"
     },
     "user_tz": -540
    },
    "id": "jrOzDy9dgC0k",
    "outputId": "2bb69d7b-bc38-4264-ef63-a5735222f1c3"
   },
   "outputs": [],
   "source": [
    "sampler = TPESampler(seed=0)\n",
    "\n",
    "def objective(trial):\n",
    "    params = {\n",
    "        'n_estimators': trial.suggest_int('n_estimators', 10, 500),                         # 부스팅할 약한 학습기의 개수 / default: 50\n",
    "        'learning_rate': trial.suggest_float('learning_rate', 0.01, 1.0, log=True),         # 학습률 (작을수록 보수적 학습) / default: 1.0\n",
    "        'algorithm': trial.suggest_categorical('algorithm', ['SAMME', 'SAMME.R']),          # 부스팅 알고리즘 ('SAMME': 분류기 확률 사용 안 함, 'SAMME.R': 확률 사용) / default: 'SAMME.R'\n",
    "        'random_state': trial.suggest_int('random_state', 0, 1000)                          # 난수 시드 (재현 가능성 확보) / default: None\n",
    "    }\n",
    "\n",
    "    # 기본 학습기 (약한 학습기)로 결정 트리 사용 시 세부 하이퍼파라미터 설정\n",
    "    base_estimator_params = {\n",
    "        'max_depth': trial.suggest_int('max_depth', 1, 10),                                 # 트리의 최대 깊이 (깊을수록 복잡한 모델) / default: None (무제한)\n",
    "        'min_samples_split': trial.suggest_int('min_samples_split', 2, 20),                 # 노드를 분할하기 위한 최소 샘플 개수 / default: 2\n",
    "        'min_samples_leaf': trial.suggest_int('min_samples_leaf', 1, 20),                   # 리프 노드에 있어야 하는 최소 샘플 개수 / default: 1\n",
    "        'max_features': trial.suggest_categorical('max_features', [None, 'sqrt', 'log2']),  # 트리 분할 시 사용할 최대 특성 개수 / default: None (모든 특성 사용)\n",
    "        'max_leaf_nodes': trial.suggest_int('max_leaf_nodes', 10, 100, log=True),           # 리프 노드 최대 개수 (과적합 방지) / default: None (제한 없음)\n",
    "        'min_impurity_decrease': trial.suggest_float('min_impurity_decrease', 0.0, 0.1)     # 최소 불순도 감소 기준 (값이 클수록 덜 분할) / default: 0.0\n",
    "    }\n",
    "\n",
    "\n",
    "    cv = StratifiedKFold(n_splits=5, shuffle=True, random_state=0)\n",
    "    auc_list = []\n",
    "\n",
    "    for _, (train_index, valid_index) in enumerate(cv.split(train_feature,train_target)):\n",
    "        X_train, y_train = train_feature.iloc[train_index], train_target.iloc[train_index]\n",
    "        X_valid, y_valid = train_feature.iloc[valid_index], train_target.iloc[valid_index]\n",
    "\n",
    "\n",
    "        base_estimator = DecisionTreeClassifier(**base_estimator_params)\n",
    "\n",
    "\n",
    "        ada_model = AdaBoostClassifier(estimator=  base_estimator, **params)\n",
    "        ada_model.fit(X_train,y_train)\n",
    "\n",
    "        # 예측 확률 계산\n",
    "        y_prob = ada_model.predict_proba(X_valid)[:,1]\n",
    "        auc_score = roc_auc_score(y_valid, y_prob)\n",
    "        auc_list.append(auc_score)\n",
    "\n",
    "    # 평균 auc 반환\n",
    "    mean_auc = np.mean(auc_list)\n",
    "    return mean_auc\n",
    "\n",
    "# optuna 최적화 실행(AUC 최대화)\n",
    "optuna_ada = optuna.create_study(direction='maximize', sampler=sampler)\n",
    "optuna_ada.optimize(objective, n_trials=50)\n",
    "\n",
    "# 최적 결과 출력\n",
    "best_trial = optuna_ada.best_trial\n",
    "print(f\"Best AUC: {best_trial.value}\")\n",
    "print(\"Best hyperparameters:\")\n",
    "for key, value in best_trial.params.items():\n",
    "    print(f\"  {key}: {value}\")"
   ]
  },
  {
   "cell_type": "markdown",
   "metadata": {
    "id": "_W58-5ySSrDt"
   },
   "source": [
    "### 보팅 : 서로 다른 알고리즘을 가진 분류기 결합"
   ]
  },
  {
   "cell_type": "markdown",
   "metadata": {
    "id": "sKs-sf68SsHJ"
   },
   "source": [
    "- 하드 보팅\n",
    "    - 예측값들 중 다수 분류기가 결정한 예측값을 최종 보팅 결괏값(다수결)\n",
    "- **소프트 보팅**\n",
    "    - **레이블 값 결정 확률을 모두 더하고 이를 평균해서 이들 중 확률이 가장 높은 레이블 값**\n",
    "        - gbc: 0.8879903418757644\n",
    "        - lightgbm: 0.8893180320851476\n",
    "        - catboost: 0.8894975131185816(가장 높은 성능)\n",
    "        - xgboost: 0.8855466532778464\n",
    "        - ada: 0.887546021751948\n",
    "        "
   ]
  },
  {
   "cell_type": "markdown",
   "metadata": {
    "id": "NYokUQOZYThK"
   },
   "source": [
    "#### 조합 생성"
   ]
  },
  {
   "cell_type": "code",
   "execution_count": null,
   "metadata": {
    "colab": {
     "base_uri": "https://localhost:8080/"
    },
    "executionInfo": {
     "elapsed": 268,
     "status": "ok",
     "timestamp": 1734416476269,
     "user": {
      "displayName": "이정수",
      "userId": "14428595979203344897"
     },
     "user_tz": -540
    },
    "id": "LE9VZ5uXYV0B",
    "outputId": "d875f221-9fdb-4a81-8e8d-68add806d672"
   },
   "outputs": [],
   "source": [
    "models = ['catboost','lightgbm','gbc','ada','xgboost']\n",
    "\n",
    "model_combinations = []\n",
    "for i in range(1,len(models) + 1) :\n",
    "  model_combinations.extend(combinations(models,i))\n",
    "\n",
    "\n",
    "for combo in model_combinations :\n",
    "  print(combo)"
   ]
  },
  {
   "cell_type": "markdown",
   "metadata": {
    "id": "8r7fs7_JfkFg"
   },
   "source": [
    "#### 가중치"
   ]
  },
  {
   "cell_type": "code",
   "execution_count": null,
   "metadata": {
    "id": "RWN0h4XFfllY"
   },
   "outputs": [],
   "source": [
    "roc_score = {\n",
    "    'catboost' :  0.8894975131185816,\n",
    "    'lightgbm' : 0.8893180320851476,\n",
    "    'gbc' : 0.8879903418757644,\n",
    "    'ada' : 0.887546021751948,\n",
    "    'xgboost' : 0.8855466532778464\n",
    "}\n",
    "\n",
    "total_roc = sum(roc_score.values())\n",
    "weights = {model : roc_score[model] / total_roc for model in roc_score}"
   ]
  },
  {
   "cell_type": "markdown",
   "metadata": {
    "id": "cTf6jn4uIYN-"
   },
   "source": [
    "#### 소프트 보팅 구현"
   ]
  },
  {
   "cell_type": "code",
   "execution_count": null,
   "metadata": {
    "colab": {
     "base_uri": "https://localhost:8080/"
    },
    "executionInfo": {
     "elapsed": 7051188,
     "status": "ok",
     "timestamp": 1733492555372,
     "user": {
      "displayName": "이정수",
      "userId": "14428595979203344897"
     },
     "user_tz": -540
    },
    "id": "lp7jGnq4IbMq",
    "outputId": "32c130fa-a2fe-4bc7-eecd-30eae8a4d45a"
   },
   "outputs": [],
   "source": [
    "# 각 모델의 최적 하이퍼파라미터로 초기화된 모델\n",
    "models_dict = {\n",
    "    'catboost': CatBoostClassifier(\n",
    "        iterations=622,\n",
    "        learning_rate=0.15620856452750326,\n",
    "        depth=3,\n",
    "        l2_leaf_reg=0.023092783762797234,\n",
    "        random_strength=0.013271842224732251,\n",
    "        bagging_temperature=6.81082830068841,\n",
    "        grow_policy='SymmetricTree',\n",
    "        border_count=117,\n",
    "        od_wait=15,\n",
    "        verbose=0,  # 학습 중 출력 비활성화\n",
    "        random_state=42\n",
    "    ),\n",
    "    'lightgbm': LGBMClassifier(\n",
    "        n_estimators=424,  # num_boost_round 대신 n_estimators로 변경\n",
    "        learning_rate=0.04631415040823912,\n",
    "        num_leaves=38,\n",
    "        max_depth=9,\n",
    "        min_child_samples=47,\n",
    "        feature_fraction=0.9024601968835392,\n",
    "        bagging_fraction=0.7342793249627353,\n",
    "        bagging_freq=2,\n",
    "        min_split_gain=0.3017007245252093,\n",
    "        reg_alpha=0.07886266683723922,\n",
    "        reg_lambda=0.0859776680854032,\n",
    "        tree_learner='serial',\n",
    "        max_bin=310,\n",
    "        num_threads=3,\n",
    "        scale_pos_weight=3.8048327134060944\n",
    "    ),\n",
    "    'gbc': GradientBoostingClassifier(\n",
    "        n_estimators=441,\n",
    "        learning_rate=0.045696033561884446,\n",
    "        max_depth=7,\n",
    "        min_samples_split=2,\n",
    "        min_samples_leaf=2,\n",
    "        subsample=0.9753636860597981,\n",
    "        max_features='log2',\n",
    "        loss='exponential',\n",
    "        ccp_alpha=2.8658360294722587e-05,\n",
    "        validation_fraction=0.27267380097000604,\n",
    "        n_iter_no_change=17,\n",
    "        tol=0.005721221703263734,\n",
    "        min_impurity_decrease=0.04492762681125898,\n",
    "        max_leaf_nodes=65\n",
    "    ),\n",
    "    'ada': AdaBoostClassifier(\n",
    "        estimator=DecisionTreeClassifier(\n",
    "            max_depth=4,\n",
    "            min_samples_split=9,\n",
    "            min_samples_leaf=2,\n",
    "            max_features=None,\n",
    "            max_leaf_nodes=52,\n",
    "            min_impurity_decrease=0.0003868616444805657,\n",
    "            random_state=641\n",
    "        ),\n",
    "        n_estimators=194,\n",
    "        learning_rate=0.07457707279949315,\n",
    "        algorithm='SAMME.R',\n",
    "        random_state=641\n",
    "    ),\n",
    "    'xgboost': XGBClassifier(\n",
    "        n_estimators=173,  # num_round 대신 n_estimators로 변경\n",
    "        alpha=0.8296136024447837,\n",
    "        base_score=0.549188827783536,\n",
    "        booster='gbtree',\n",
    "        colsample_bylevel=0.6341674144934313,\n",
    "        colsample_bynode=0.7675482440337507,\n",
    "        colsample_bytree=0.8777999787302608,\n",
    "        learning_rate=0.28259482675888387,\n",
    "        eval_metric='auc',\n",
    "        gamma=0.2819080182819892,\n",
    "        grow_policy='depthwise',\n",
    "        reg_lambda=3.426745960231184,\n",
    "        max_bin=340,\n",
    "        max_delta_step=10,\n",
    "        max_depth=9,\n",
    "        max_leaves=33,\n",
    "        min_child_weight=4.375849619589128,\n",
    "        objective='binary:logistic',\n",
    "        scale_pos_weight=7.596583814614301,\n",
    "        random_state=55,\n",
    "        subsample=0.9365805881615846,\n",
    "        verbosity=2\n",
    "    )\n",
    "}\n",
    "\n",
    "# 소프트 보팅 성능 평가\n",
    "best_combo = None\n",
    "best_auc = 0\n",
    "results = []\n",
    "\n",
    "# 교차검증 설정\n",
    "cv = StratifiedKFold(n_splits=5, shuffle=True, random_state=42)\n",
    "\n",
    "for combo in model_combinations:\n",
    "    estimators = [(name, models_dict[name]) for name in combo]\n",
    "    weights_for_combo = [weights[name] for name in combo]\n",
    "\n",
    "    voting_clf = VotingClassifier(\n",
    "        estimators=estimators,\n",
    "        voting='soft',\n",
    "        weights=weights_for_combo\n",
    "    )\n",
    "\n",
    "    roc_list = []  # 교차검증 roc 기록\n",
    "\n",
    "    # 교차 검증 루프\n",
    "    for train_idx, valid_idx in cv.split(train_feature, train_target):\n",
    "        X_train, y_train = train_feature.iloc[train_idx], train_target.iloc[train_idx]\n",
    "        X_valid, y_valid = train_feature.iloc[valid_idx], train_target.iloc[valid_idx]\n",
    "\n",
    "        # 모델 학습\n",
    "        voting_clf.fit(X_train, y_train)\n",
    "\n",
    "        # 예측 및 ROC 계산\n",
    "        y_prob = voting_clf.predict_proba(X_valid)[:, 1]\n",
    "        roc = roc_auc_score(y_valid, y_prob)\n",
    "        roc_list.append(roc)\n",
    "\n",
    "    # 교차 검증 평균 AUC 계산\n",
    "    mean_roc = sum(roc_list) / len(roc_list)\n",
    "\n",
    "    # 결과 저장\n",
    "    results.append({\n",
    "        \"combination\": combo,\n",
    "        \"mean_roc\": mean_roc,\n",
    "        \"roc_per_fold\": roc_list,  # 폴드별 점수 추가\n",
    "        \"weights\": weights_for_combo\n",
    "    })\n",
    "\n",
    "# 결과 정렬 (ROC 기준 내림차순)\n",
    "results = sorted(results, key=lambda x: x[\"mean_roc\"], reverse=True)\n",
    "\n",
    "# 모든 결과 출력\n",
    "print(\"=\" * 50)\n",
    "print(\"All Voting Model Results:\")\n",
    "print(\"=\" * 50)\n",
    "for result in results:\n",
    "    print(f\"Combination: {result['combination']}, Mean ROC: {result['mean_roc']:.4f}, \"\n",
    "          f\"Fold AUCs: {result['roc_per_fold']}, Weights: {result['weights']}\")\n",
    "\n",
    "# 최적의 결과 출력\n",
    "best_result = results[0]           #  가장 높은 점수\n",
    "print(\"=\" * 50)\n",
    "print(f\"Best Model Combination: {best_result['combination']}\")\n",
    "print(f\"Best AUC: {best_result['mean_roc']:.4f}\")\n",
    "print(f\"Fold AUCs: {best_result['roc_per_fold']}\")\n",
    "print(f\"Best Weights: {best_result['weights']}\")\n",
    "print(\"=\" * 50)"
   ]
  },
  {
   "cell_type": "markdown",
   "metadata": {
    "id": "0s5ZNWFpMRyR"
   },
   "source": [
    "## 3.최종 모델\n",
    "\n",
    "```\n",
    "Best Model Combination: ('catboost', 'lightgbm', 'gbc')\n",
    "Best AUC: 0.8900\n",
    "Fold AUCs: [0.8900562631197824, 0.8898752206337519, 0.8913648217131387, 0.8912097065381658, 0.8874405758789176]\n",
    "Best Weights: [0.20034185481390882, 0.20030143023417502, 0.2000023940758461]\n",
    "```"
   ]
  },
  {
   "cell_type": "markdown",
   "metadata": {
    "id": "uKIq3y0kOw-a"
   },
   "source": [
    "### 데이터 분리"
   ]
  },
  {
   "cell_type": "code",
   "execution_count": null,
   "metadata": {
    "id": "Ac8OiSMmOyBS"
   },
   "outputs": [],
   "source": [
    "# feature, target 분리\n",
    "train_feature = train.drop(columns='Exited')\n",
    "train_target = train['Exited']\n",
    "\n",
    "# 데이터 분리\n",
    "X_train, X_valid, y_train, y_valid = train_test_split(train_feature, train_target,\n",
    "                                                      test_size = 0.3,\n",
    "                                                      random_state=0)"
   ]
  },
  {
   "cell_type": "markdown",
   "metadata": {
    "id": "QBXTx6-rVhy3"
   },
   "source": [
    "### 모델 생성\n",
    "\n",
    "```\n",
    "<최종점수>\n",
    "Final Model AUC Score: 0.8903\n",
    "```"
   ]
  },
  {
   "cell_type": "code",
   "execution_count": null,
   "metadata": {
    "colab": {
     "base_uri": "https://localhost:8080/"
    },
    "executionInfo": {
     "elapsed": 45291,
     "status": "ok",
     "timestamp": 1739776996399,
     "user": {
      "displayName": "이정수",
      "userId": "14428595979203344897"
     },
     "user_tz": -540
    },
    "id": "hAT1AtVRMWPD",
    "outputId": "913ef997-04b6-40ce-d31b-d2038624f4d0"
   },
   "outputs": [],
   "source": [
    "final_models = {\n",
    "    'lightgbm': LGBMClassifier(\n",
    "        n_estimators=424,\n",
    "        learning_rate=0.04631415040823912,\n",
    "        num_leaves=38,\n",
    "        max_depth=9,\n",
    "        min_child_samples=47,\n",
    "        feature_fraction=0.9024601968835392,\n",
    "        bagging_fraction=0.7342793249627353,\n",
    "        bagging_freq=2,\n",
    "        min_split_gain=0.3017007245252093,\n",
    "        reg_alpha=0.07886266683723922,\n",
    "        reg_lambda=0.0859776680854032,\n",
    "        tree_learner='serial',\n",
    "        max_bin=310,\n",
    "        num_threads=3,\n",
    "        scale_pos_weight=3.8048327134060944\n",
    "    ),\n",
    "    'catboost': CatBoostClassifier(\n",
    "        iterations=622,\n",
    "        learning_rate=0.15620856452750326,\n",
    "        depth=3,\n",
    "        l2_leaf_reg=0.023092783762797234,\n",
    "        random_strength=0.013271842224732251,\n",
    "        bagging_temperature=6.81082830068841,\n",
    "        grow_policy='SymmetricTree',\n",
    "        border_count=117,\n",
    "        od_wait=15,\n",
    "        verbose=0,\n",
    "        random_state=42\n",
    "    ),\n",
    "    'gbc': GradientBoostingClassifier(\n",
    "        n_estimators=441,\n",
    "        learning_rate=0.045696033561884446,\n",
    "        max_depth=7,\n",
    "        min_samples_split=2,\n",
    "        min_samples_leaf=2,\n",
    "        subsample=0.9753636860597981,\n",
    "        max_features='log2',\n",
    "        loss='exponential',\n",
    "        ccp_alpha=2.8658360294722587e-05,\n",
    "        validation_fraction=0.27267380097000604,\n",
    "        n_iter_no_change=17,\n",
    "        tol=0.005721221703263734,\n",
    "        min_impurity_decrease=0.04492762681125898,\n",
    "        max_leaf_nodes=65\n",
    "    )\n",
    "\n",
    "}\n",
    "\n",
    "# 소프트 보팅 모델 생성\n",
    "final_voting_model = VotingClassifier(\n",
    "    estimators=[('lightgbm', final_models['lightgbm']), ('catboost', final_models['catboost']),('gbc', final_models['gbc'])],\n",
    "    voting='soft',\n",
    "    weights=[0.20034185481390882, 0.20030143023417502, 0.2000023940758461]  # 최적 가중치 적용\n",
    ")\n",
    "\n",
    "# 학습\n",
    "final_voting_model.fit(X_train, y_train)\n",
    "\n",
    "# 예측\n",
    "y_prob = final_voting_model.predict_proba(X_valid)[:, 1]\n",
    "auc_score = roc_auc_score(y_valid, y_prob)\n",
    "\n",
    "# 결과 출력\n",
    "print(f\"Final Model AUC Score: {auc_score:.4f}\")"
   ]
  },
  {
   "cell_type": "markdown",
   "metadata": {
    "id": "K7AE0-lJv_08"
   },
   "source": [
    "### 제출 파일 생성"
   ]
  },
  {
   "cell_type": "code",
   "execution_count": null,
   "metadata": {
    "colab": {
     "base_uri": "https://localhost:8080/"
    },
    "executionInfo": {
     "elapsed": 3369,
     "status": "ok",
     "timestamp": 1733727069494,
     "user": {
      "displayName": "이정수",
      "userId": "14428595979203344897"
     },
     "user_tz": -540
    },
    "id": "buHb0XpRPyNJ",
    "outputId": "b36ce475-a07d-44a4-82fd-62aaa907e9c3"
   },
   "outputs": [],
   "source": [
    "# 테스트 데이터 예측\n",
    "test_prob = final_voting_model.predict_proba(test)[:, 1]\n",
    "\n",
    "submission['Exited'] = test_prob\n",
    "submission.to_csv('origin_submission.csv',index=False)"
   ]
  },
  {
   "cell_type": "markdown",
   "metadata": {
    "id": "DJPuLQYZ4csE"
   },
   "source": [
    "### 변수 중요도"
   ]
  },
  {
   "cell_type": "code",
   "execution_count": null,
   "metadata": {
    "colab": {
     "base_uri": "https://localhost:8080/"
    },
    "executionInfo": {
     "elapsed": 387,
     "status": "ok",
     "timestamp": 1739774039340,
     "user": {
      "displayName": "이정수",
      "userId": "14428595979203344897"
     },
     "user_tz": -540
    },
    "id": "Hmv75x3LnKO7",
    "outputId": "ea66c6c1-5b45-4b3d-f5ba-bc2c4fc90872"
   },
   "outputs": [],
   "source": [
    "import numpy as np\n",
    "feature_importance = np.array([0.1, 0.3, 0.05, 0.4, 0.15])\n",
    "\n",
    "sorted_indices = np.argsort(feature_importance)  # 0.05(2번 인덱스), 0.1(0번 인덱스), 0.15(4번 인덱스), 0.3(1번 인덱스), 0.4(3번 인덱스)\n",
    "print(sorted_indices)   # [2 0 4 1 3]\n",
    "# 출력: [2 0 4 1 3] (작은 값부터 정렬된 인덱스)\n",
    "\n",
    "# 내림차순으로 정렬된 인덱스 -> 큰것부터 작은 것으로\n",
    "sorted_indices_desc = np.argsort(feature_importance)[::-1]\n",
    "print(sorted_indices_desc)  # [3 1 4 0 2]"
   ]
  },
  {
   "cell_type": "code",
   "execution_count": null,
   "metadata": {
    "colab": {
     "base_uri": "https://localhost:8080/",
     "height": 1000
    },
    "executionInfo": {
     "elapsed": 17713,
     "status": "error",
     "timestamp": 1739777021350,
     "user": {
      "displayName": "이정수",
      "userId": "14428595979203344897"
     },
     "user_tz": -540
    },
    "id": "KIivy1mLE703",
    "outputId": "6c2d0795-ee4b-4817-a9fd-869176ee73a4"
   },
   "outputs": [],
   "source": [
    "# 1. Feature Importance 계산 및 시각화(각 모델 feature importance 평균 사용)\n",
    "\n",
    "def plot_feature_importance(model, model_columns):\n",
    "    feature_importance = np.zeros(len(model_columns))\n",
    "    for name, estimator in final_voting_model.named_estimators_.items():                            # named_estimators_ : 개별 추정기(estimator)들을 딕셔너리 형태로 저장\n",
    "        if hasattr(estimator, \"feature_importances_\"):                                              # hasattr(객체, \"속성_이름\") : 객체가 속성을 갖고 있으면 True, 아니면 False 반환\n",
    "            feature_importance += estimator.feature_importances_                                    # 각각의 모델 변수 중요도 더하기\n",
    "    feature_importance /= len(final_voting_model.named_estimators_)                                 # 모델 개수로 나누기\n",
    "\n",
    "    # Feature 중요도 시각화\n",
    "    sorted_idx = np.argsort(feature_importance)[::-1]                                               # np.argsort() : 정렬된 값의 인덱스 반환 [start:stop:step] / [:: -1] -> 내림차순으로 변경\n",
    "    sorted_features = np.array(model_columns)[sorted_idx]                                           # 변수 중요도에 따라 변수 명 정렬(인덱스따라)\n",
    "    sorted_importances = feature_importance[sorted_idx]                                             # 변수 중요도에 따라 값 정렬\n",
    "\n",
    "    plt.figure(figsize=(10, 8))\n",
    "    bars = plt.barh(range(len(model_columns)), sorted_importances[::-1], align=\"center\")            # barh : 가로 막대그래프 생성(기본적으로 y값 작은것부터 위로 쌓임) / sorted_importances[::-1] : 막대 길이 조정 / align : 막대 중심 위치\n",
    "    plt.yticks(range(len(model_columns)), sorted_features[::-1])                                    # sorted_features[::-1] 사용 이유 : 위와 동일. 기본적으로 작은것부터 위로 쌓임\n",
    "    plt.xlabel(\"Feature Importance\")\n",
    "    plt.title(\"Feature Importance from Model\")\n",
    "\n",
    "    # 막대에 값 표시\n",
    "    for bar, value in zip(bars, sorted_importances[::-1]):\n",
    "        plt.text(bar.get_width(), bar.get_y() + bar.get_height()/2, f'{value:.2f}', va='center')    # plt.text(x, y, s, va='center') / bar.get_width() : 텍스트 x좌표, bar.get_y() + bar.get_height()/2 : 텍스트 y좌표, f'{value:.2f}', va='center' : 표시 할 텍스트\n",
    "\n",
    "    plt.show()\n",
    "\n",
    "# 2. Permutation Importance 계산 및 시각화\n",
    "def plot_permutation_importance(model, X_valid, y_valid, feature_names):\n",
    "    perm_importance = permutation_importance(\n",
    "        model, X_valid, y_valid, scoring='roc_auc', n_repeats=5, random_state=42\n",
    "    )\n",
    "\n",
    "    # Feature 중요도 정렬\n",
    "    sorted_idx = np.argsort(perm_importance.importances_mean)[::-1]                                 # 중요도 높은 순서로 정렬\n",
    "    sorted_features = np.array(feature_names)[sorted_idx]                                           # 정렬된 변수명\n",
    "    sorted_importances = perm_importance.importances_mean[sorted_idx]                               # 정렬된 변수 중요도\n",
    "\n",
    "    # Feature 중요도 시각화\n",
    "    plt.figure(figsize=(10, 8))\n",
    "    bars = plt.barh(range(len(feature_names)), sorted_importances[::-1], align=\"center\")            # 내림차순 정렬한 막대그래프\n",
    "    plt.yticks(range(len(feature_names)), sorted_features[::-1])                                    # y축 변수명도 동일한 순서로 정렬\n",
    "    plt.xlabel(\"Permutation Importance\")\n",
    "    plt.title(\"Permutation Importance from Validation Set\")\n",
    "\n",
    "    # 막대에 값 표시\n",
    "    for bar, value in zip(bars, sorted_importances[::-1]):\n",
    "        plt.text(bar.get_width(), bar.get_y() + bar.get_height()/2, f'{value:.4f}', va='center')\n",
    "\n",
    "    plt.show()\n",
    "\n",
    "# Feature Importance 그래프 생성\n",
    "plot_feature_importance(final_voting_model, train_feature.columns)\n",
    "\n",
    "# Permutation Importance 그래프 생성\n",
    "plot_permutation_importance(final_voting_model, X_valid, y_valid, train_feature.columns)\n"
   ]
  },
  {
   "cell_type": "markdown",
   "metadata": {
    "id": "8HwYX5BkE4s4"
   },
   "source": [
    "#### feature importance\n"
   ]
  },
  {
   "cell_type": "code",
   "execution_count": null,
   "metadata": {
    "colab": {
     "base_uri": "https://localhost:8080/",
     "height": 493
    },
    "executionInfo": {
     "elapsed": 750,
     "status": "ok",
     "timestamp": 1734416736990,
     "user": {
      "displayName": "이정수",
      "userId": "14428595979203344897"
     },
     "user_tz": -540
    },
    "id": "U_KST9hW6wBw",
    "outputId": "16cc8e27-cc51-4631-ca2d-360184f9d500"
   },
   "outputs": [],
   "source": [
    "from IPython.display import Image\n",
    "\n",
    "Image('/content/drive/MyDrive/파이널 프로젝트_이정수/분류/원본_feature_importance.png')"
   ]
  },
  {
   "cell_type": "markdown",
   "metadata": {
    "id": "AahzZEkq8NLb"
   },
   "source": [
    "#### permutation importance"
   ]
  },
  {
   "cell_type": "code",
   "execution_count": null,
   "metadata": {
    "colab": {
     "base_uri": "https://localhost:8080/",
     "height": 493
    },
    "executionInfo": {
     "elapsed": 784,
     "status": "ok",
     "timestamp": 1734416771129,
     "user": {
      "displayName": "이정수",
      "userId": "14428595979203344897"
     },
     "user_tz": -540
    },
    "id": "D6KDGdGY9jEo",
    "outputId": "faea0fe9-110c-4989-9c36-f4728d9c7b35"
   },
   "outputs": [],
   "source": [
    "Image('/content/drive/MyDrive/파이널 프로젝트_이정수/분류/원본_permutation_importance.png')"
   ]
  },
  {
   "cell_type": "markdown",
   "metadata": {
    "id": "GvV4_fpZR_D_"
   },
   "source": [
    "# 최종 모델 실행 코드\n",
    "\n",
    "- 성능 : Final Model AUC Score: 0.8902"
   ]
  },
  {
   "cell_type": "code",
   "execution_count": null,
   "metadata": {
    "id": "yQW923jrmneD"
   },
   "outputs": [],
   "source": [
    "# 기본 패키지\n",
    "import pandas as pd  # 데이터프레임 생성 및 조작\n",
    "import numpy as np  # 수치 계산 및 배열 처리\n",
    "\n",
    "# 시각화\n",
    "import matplotlib.pyplot as plt  # 기본적인 시각화 도구\n",
    "import seaborn as sns  # 고급 시각화 도구 (matplotlib 기반)\n",
    "import scipy.cluster.hierarchy as sch # 클러스터링\n",
    "\n",
    "\n",
    "# 데이터 전처리\n",
    "from sklearn.preprocessing import LabelEncoder  # 레이블 인코딩\n",
    "# pd.get_dummies로 OneHotEncoder 대체 가능\n",
    "\n",
    "# 데이터 분할\n",
    "from sklearn.model_selection import train_test_split  # 데이터 분리\n",
    "from sklearn.model_selection import StratifiedKFold  # 층화 교차 검증\n",
    "\n",
    "# 다중공선성 확인\n",
    "from statsmodels.stats.outliers_influence import variance_inflation_factor  # 분산팽창계수(VIF) 계산\n",
    "\n",
    "# 계층적 클러스터링\n",
    "import scipy.cluster.hierarchy as sch  # 계층적 군집화 알고리즘\n",
    "\n",
    "# Optuna: 하이퍼파라미터 최적화\n",
    "import optuna  # 최적화 도구\n",
    "from optuna.samplers import TPESampler  # 샘플링 알고리즘 (TPE)\n",
    "\n",
    "# 머신러닝 모델들\n",
    "from sklearn.ensemble import GradientBoostingClassifier  # Gradient Boosting 모델\n",
    "from sklearn.ensemble import RandomForestClassifier  # Random Forest 모델\n",
    "from sklearn.ensemble import AdaBoostClassifier  # AdaBoost 모델\n",
    "from sklearn.tree import DecisionTreeClassifier  # 의사결정 트리 모델\n",
    "\n",
    "# LightGBM\n",
    "from lightgbm import LGBMClassifier  # LightGBM 분류기\n",
    "import lightgbm as lgb  # LightGBM 라이브러리\n",
    "\n",
    "# XGBoost\n",
    "from xgboost import XGBClassifier  # XGBoost 분류기\n",
    "import xgboost as xgb  # XGBoost 라이브러리\n",
    "\n",
    "# CatBoost\n",
    "from catboost import CatBoostClassifier, Pool  # CatBoost 분류기 및 데이터 준비 객체\n",
    "from catboost.utils import eval_metric  # CatBoost 평가 지표 계산\n",
    "\n",
    "# 성능 평가 지표\n",
    "from sklearn.metrics import roc_auc_score  # ROC AUC 점수 계산\n",
    "\n",
    "# 모델 앙상블\n",
    "from sklearn.ensemble import VotingClassifier  # 앙상블 학습을 위한 VotingClassifier\n",
    "\n",
    "# 기타 도구\n",
    "from itertools import combinations  # 조합 생성\n",
    "from sklearn.inspection import permutation_importance  # 변수 중요도 계산 (Permutation Importance)\n",
    "\n",
    "# 출력 관련\n",
    "from IPython.display import Image  # Jupyter Notebook에서 이미지 표시\n",
    "\n",
    "# PyCaret: AutoML (자동화된 머신러닝 워크플로우)\n",
    "from pycaret.classification import *\n",
    "\n",
    "# 설정\n",
    "pd.set_option('display.max_columns', None)  # 최대 컬럼 설정"
   ]
  },
  {
   "cell_type": "code",
   "execution_count": null,
   "metadata": {
    "id": "dz3AHRQ_SA_3"
   },
   "outputs": [],
   "source": [
    "# 데이터 불러오기\n",
    "train = pd.read_csv('/content/drive/MyDrive/파이널 프로젝트_이정수/분류/train.csv')\n",
    "test = pd.read_csv('/content/drive/MyDrive/파이널 프로젝트_이정수/분류/test.csv')\n",
    "submission = pd.read_csv('/content/drive/MyDrive/파이널 프로젝트_이정수/분류/sample_submission.csv')\n",
    "\n",
    "# 변수 제거 및 인코딩\n",
    "# train, test 동시 진행\n",
    "\n",
    "# Id, Surname 제거\n",
    "train.drop(columns=['id','Surname'],inplace=True)\n",
    "test.drop(columns=['id','Surname'],inplace=True)\n",
    "\n",
    "# Geography -> OneHot Encoding\n",
    "train = pd.get_dummies(train, columns=['Geography'],dtype=int)\n",
    "test = pd.get_dummies(test, columns=['Geography'], dtype=int)\n",
    "\n",
    "# Gender -> Label Encoding\n",
    "encoder = LabelEncoder()\n",
    "train['Gender'] = encoder.fit_transform(train['Gender'])\n",
    "test['Gender'] = encoder.transform(test['Gender'])\n",
    "\n",
    "# Tenure -> Label Encoding\n",
    "encoder = LabelEncoder()\n",
    "train['Tenure'] = encoder.fit_transform(train['Tenure'])\n",
    "test['Tenure'] = encoder.transform(test['Tenure'])\n",
    "\n",
    "\n",
    "# NumOfProducts -> OneHot Encoding\n",
    "train = pd.get_dummies(train, columns=['NumOfProducts'],dtype=int)\n",
    "test = pd.get_dummies(test, columns=['NumOfProducts'], dtype=int)\n",
    "\n",
    "# HasCrCard -> Label Encoding\n",
    "encoder = LabelEncoder()\n",
    "train['HasCrCard'] = encoder.fit_transform(train['HasCrCard'])\n",
    "test['HasCrCard'] = encoder.transform(test['HasCrCard'])\n",
    "\n",
    "# IsActiveMember -> Label Encoding\n",
    "encoder = LabelEncoder()\n",
    "train['IsActiveMember'] = encoder.fit_transform(train['IsActiveMember'])\n",
    "test['IsActiveMember'] = encoder.transform(test['IsActiveMember'])\n",
    "\n",
    "# feature, target 분리\n",
    "train_feature = train.drop(columns='Exited')\n",
    "train_target = train['Exited']\n",
    "\n",
    "# 데이터 분리\n",
    "X_train, X_valid, y_train, y_valid = train_test_split(train_feature, train_target,\n",
    "                                                      test_size = 0.3,\n",
    "                                                      random_state=0)\n",
    "\n",
    "# 최종 모델 생성 : final_models\n",
    "final_models = {\n",
    "    'lightgbm': LGBMClassifier(\n",
    "        n_estimators=424,  # num_boost_round 대신 n_estimators로 변경\n",
    "        learning_rate=0.04631415040823912,\n",
    "        num_leaves=38,\n",
    "        max_depth=9,\n",
    "        min_child_samples=47,\n",
    "        feature_fraction=0.9024601968835392,\n",
    "        bagging_fraction=0.7342793249627353,\n",
    "        bagging_freq=2,\n",
    "        min_split_gain=0.3017007245252093,\n",
    "        reg_alpha=0.07886266683723922,\n",
    "        reg_lambda=0.0859776680854032,\n",
    "        tree_learner='serial',\n",
    "        max_bin=310,\n",
    "        num_threads=3,\n",
    "        scale_pos_weight=3.8048327134060944\n",
    "    ),\n",
    "    'catboost': CatBoostClassifier(\n",
    "        iterations=622,\n",
    "        learning_rate=0.15620856452750326,\n",
    "        depth=3,\n",
    "        l2_leaf_reg=0.023092783762797234,\n",
    "        random_strength=0.013271842224732251,\n",
    "        bagging_temperature=6.81082830068841,\n",
    "        grow_policy='SymmetricTree',\n",
    "        border_count=117,\n",
    "        od_wait=15,\n",
    "        verbose=0,  # 학습 중 출력 비활성화\n",
    "        random_state=42\n",
    "    ),\n",
    "    'gbc': GradientBoostingClassifier(\n",
    "        n_estimators=441,\n",
    "        learning_rate=0.045696033561884446,\n",
    "        max_depth=7,\n",
    "        min_samples_split=2,\n",
    "        min_samples_leaf=2,\n",
    "        subsample=0.9753636860597981,\n",
    "        max_features='log2',\n",
    "        loss='exponential',\n",
    "        ccp_alpha=2.8658360294722587e-05,\n",
    "        validation_fraction=0.27267380097000604,\n",
    "        n_iter_no_change=17,\n",
    "        tol=0.005721221703263734,\n",
    "        min_impurity_decrease=0.04492762681125898,\n",
    "        max_leaf_nodes=65\n",
    "    )\n",
    "\n",
    "}\n",
    "\n",
    "# 소프트 보팅 모델 생성\n",
    "final_voting_model = VotingClassifier(\n",
    "    estimators=[('lightgbm', final_models['lightgbm']), ('catboost', final_models['catboost']),('gbc', final_models['gbc'])],\n",
    "    voting='soft',\n",
    "    weights=[0.20034185481390882, 0.20030143023417502, 0.2000023940758461]  # 최적 가중치 적용\n",
    ")\n",
    "\n",
    "# 학습\n",
    "final_voting_model.fit(X_train, y_train)\n",
    "\n",
    "# 예측\n",
    "y_prob = final_voting_model.predict_proba(X_valid)[:, 1]\n",
    "auc_score = roc_auc_score(y_valid, y_prob)\n",
    "\n",
    "# 결과 출력\n",
    "print(f\"Final Model AUC Score: {auc_score:.4f}\")\n",
    "\n",
    "# 제출 파일 생성\n",
    "# 테스트 데이터 예측\n",
    "test_prob = final_voting_model.predict_proba(test)[:, 1]\n",
    "\n",
    "submission['Exited'] = test_prob\n",
    "submission.to_csv('origin_submission.csv',index=False)"
   ]
  }
 ],
 "metadata": {
  "colab": {
   "authorship_tag": "ABX9TyMF5LWDMfMbwo9D+qo2I2iJ",
   "mount_file_id": "1mvFM-YwLGQ7FPYyZPjCs4TrrQkt3rV2Y",
   "provenance": []
  },
  "kernelspec": {
   "display_name": "Python 3",
   "name": "python3"
  },
  "language_info": {
   "name": "python"
  }
 },
 "nbformat": 4,
 "nbformat_minor": 0
}

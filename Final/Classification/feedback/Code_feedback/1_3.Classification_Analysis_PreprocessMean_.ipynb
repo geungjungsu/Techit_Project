{
 "cells": [
  {
   "cell_type": "markdown",
   "metadata": {
    "id": "doWYKNu2Fk-m"
   },
   "source": [
    "# 파이널 프로젝트 : 은행 이탈 고객 예측\n",
    "\n",
    "\n",
    "\n",
    "- **분류**\n",
    "- 회귀"
   ]
  },
  {
   "cell_type": "markdown",
   "metadata": {
    "id": "t4aILU62GyAx"
   },
   "source": [
    "- 데이터\n",
    "    - URL : https://www.kaggle.com/competitions/playground-series-s4e1\n",
    "    - train : 훈련 데이터 세트\n",
    "    - test : 테스트 데이터 세트\n",
    "    - sample_submission : 올바른 형식의 샘플 제출 파일\n",
    "\n",
    "- 평가 지표\n",
    "    - ROC Curve\n",
    "\n",
    "\n",
    "- 변수\n",
    "    - Features(X)\n",
    "        - ID : 순번\n",
    "        - Customer ID: 각 고객의 고유 식별번호\n",
    "        - Surname: 고객의 성\n",
    "        - Credit Score: 고객의 신용점수\n",
    "        - Geography: 고객이 거주하는 국가\n",
    "        - Gender: 고객의 성별\n",
    "        - Age: 고객의 나이\n",
    "        - Tenure: 고객이 은행을 이용한 기간\n",
    "        - Balance: 고객의 계좌 잔액\n",
    "        - NumOfProducts: 고객이 이용하는 은행 상품의 수(ex. 예금,적금)\n",
    "        - HasCrCard: 신용카드 보유 여부\n",
    "        - IsActiveMember: 활성 회원 여부\n",
    "        - EstimatedSalary: 고객의 예상 연봉\n",
    "    - Target(Y)\n",
    "        - Exited: 고객 이탈 여부\n",
    "\n",
    "\n",
    "\n",
    "\n",
    "\n"
   ]
  },
  {
   "cell_type": "markdown",
   "metadata": {
    "id": "sRprJD9vJdoz"
   },
   "source": [
    "## 1.전처리"
   ]
  },
  {
   "cell_type": "markdown",
   "metadata": {
    "id": "Ht-aGeONva6I"
   },
   "source": [
    "### 패키지"
   ]
  },
  {
   "cell_type": "markdown",
   "metadata": {
    "id": "cULrDCXMtd2b"
   },
   "source": [
    "#### 먼저 설치 후 재시작해야하는 패키지"
   ]
  },
  {
   "cell_type": "code",
   "execution_count": null,
   "metadata": {
    "colab": {
     "base_uri": "https://localhost:8080/",
     "height": 1000
    },
    "executionInfo": {
     "elapsed": 97480,
     "status": "ok",
     "timestamp": 1739854664750,
     "user": {
      "displayName": "이정수",
      "userId": "14428595979203344897"
     },
     "user_tz": -540
    },
    "id": "P5KFvZEgtgjC",
    "outputId": "d4aee4f0-a5e7-46c6-af62-1c2d4f840244"
   },
   "outputs": [],
   "source": [
    "!pip install pycaret\n",
    "!pip install optuna\n",
    "!pip install catboost"
   ]
  },
  {
   "cell_type": "markdown",
   "metadata": {
    "id": "ONaeVa-BEAy0"
   },
   "source": [
    "#### 일반 패키지"
   ]
  },
  {
   "cell_type": "code",
   "execution_count": null,
   "metadata": {
    "executionInfo": {
     "elapsed": 11623,
     "status": "ok",
     "timestamp": 1739854818866,
     "user": {
      "displayName": "이정수",
      "userId": "14428595979203344897"
     },
     "user_tz": -540
    },
    "id": "1qHkck4p_-eh"
   },
   "outputs": [],
   "source": [
    "# 기본 패키지\n",
    "import pandas as pd\n",
    "import numpy as np\n",
    "\n",
    "# 설정\n",
    "pd.set_option('display.max_columns', None)  # 최대 컬럼 설정\n",
    "\n",
    "# 시각화\n",
    "import matplotlib.pyplot as plt\n",
    "import seaborn as sns\n",
    "\n",
    "# 출력 관련(이미지 표시)\n",
    "from IPython.display import Image\n",
    "\n",
    "# 계층적 클러스터링\n",
    "import scipy.cluster.hierarchy as sch  # 계층적 군집화 알고리즘\n",
    "\n",
    "# 데이터 전처리\n",
    "## 인코딩\n",
    "from sklearn.preprocessing import LabelEncoder\n",
    "from sklearn.preprocessing import OneHotEncoder # pd.get_dummies로 OneHotEncoder 대체\n",
    "## 스케일링\n",
    "from sklearn.preprocessing import StandardScaler, RobustScaler, MinMaxScaler\n",
    "\n",
    "# 데이터 분할\n",
    "from sklearn.model_selection import train_test_split\n",
    "from sklearn.model_selection import StratifiedKFold\n",
    "\n",
    "# 다중공선성 확인(VIF)\n",
    "from statsmodels.stats.outliers_influence import variance_inflation_factor\n",
    "\n",
    "# PyCaret: AutoML (자동화된 머신러닝 워크플로우, 모델 선택)\n",
    "from pycaret.classification import *\n",
    "\n",
    "# Optuna: 하이퍼파라미터 최적화\n",
    "import optuna\n",
    "from optuna.samplers import TPESampler  # 샘플링 알고리즘 (TPE)\n",
    "\n",
    "# 머신러닝 모델\n",
    "## GBR\n",
    "from sklearn.ensemble import GradientBoostingClassifier\n",
    "## AdaBoost\n",
    "from sklearn.ensemble import AdaBoostClassifier\n",
    "## LightGBM\n",
    "from lightgbm import LGBMClassifier\n",
    "import lightgbm as lgb\n",
    "## DecisionTree\n",
    "from sklearn.tree import DecisionTreeClassifier\n",
    "## XGBoost\n",
    "from xgboost import XGBClassifier\n",
    "import xgboost as xgb\n",
    "## CatBoost\n",
    "from catboost import CatBoostClassifier, Pool # pool : catboost에서 데이터 관리위한 특수 클래스(데이터 컨테이너), 범주 변수 자동 인식, 데이터 빠른 처리 등\n",
    "from catboost.utils import eval_metric\n",
    "\n",
    "# 성능 평가 지표\n",
    "from sklearn.metrics import roc_auc_score  # ROC AUC 점수 계산\n",
    "\n",
    "# 모델 앙상블\n",
    "from sklearn.ensemble import VotingClassifier  # 앙상블 학습을 위한 VotingClassifier\n",
    "\n",
    "# 조합 생성 함수\n",
    "from itertools import combinations\n",
    "\n",
    "# 변수 중요도\n",
    "from sklearn.inspection import permutation_importance"
   ]
  },
  {
   "cell_type": "markdown",
   "metadata": {
    "id": "GF-g_HQ2vceq"
   },
   "source": [
    "### 피쳐요약표\n"
   ]
  },
  {
   "cell_type": "markdown",
   "metadata": {
    "id": "NGlfFU1XEK-v"
   },
   "source": [
    "- 타입\n",
    "- 고유값수\n",
    "- 타입\n",
    "- 고유값수\n",
    "- 결측치수\n",
    "- 중복치수\n",
    "- 최소값\n",
    "- 최대값\n",
    "- 예시1\n",
    "- 예시2"
   ]
  },
  {
   "cell_type": "code",
   "execution_count": null,
   "metadata": {
    "executionInfo": {
     "elapsed": 2,
     "status": "ok",
     "timestamp": 1739854818867,
     "user": {
      "displayName": "이정수",
      "userId": "14428595979203344897"
     },
     "user_tz": -540
    },
    "id": "VI_ehA1SJkuq"
   },
   "outputs": [],
   "source": [
    "# 피쳐요약표\n",
    "def feature_summary(df):\n",
    "  df_temp = pd.DataFrame()\n",
    "  df_temp['타입'] = df.dtypes\n",
    "  df_temp['고유값수'] = df.nunique()\n",
    "  df_temp['결측치수'] = df.isnull().sum()\n",
    "  df_temp['중복치수'] = df.apply(lambda x: x.duplicated().sum())\n",
    "  df_temp['최소값'] = df.min()\n",
    "  df_temp['최대값'] = df.max()\n",
    "  df_temp['예시1'] = df.iloc[0]\n",
    "  df_temp['예시2'] = df.iloc[1]\n",
    "  return df_temp"
   ]
  },
  {
   "cell_type": "markdown",
   "metadata": {
    "id": "zeQa3a23vde7"
   },
   "source": [
    "### 데이터 불러오기\n",
    "- train\n",
    "- test\n",
    "- submission"
   ]
  },
  {
   "cell_type": "code",
   "execution_count": null,
   "metadata": {
    "executionInfo": {
     "elapsed": 2930,
     "status": "ok",
     "timestamp": 1739854821795,
     "user": {
      "displayName": "이정수",
      "userId": "14428595979203344897"
     },
     "user_tz": -540
    },
    "id": "vp5I5sojFAY2"
   },
   "outputs": [],
   "source": [
    "train = pd.read_csv('/content/drive/MyDrive/파이널 프로젝트_이정수/분류/train.csv')\n",
    "test = pd.read_csv('/content/drive/MyDrive/파이널 프로젝트_이정수/분류/test.csv')\n",
    "submission = pd.read_csv('/content/drive/MyDrive/파이널 프로젝트_이정수/분류/sample_submission.csv')"
   ]
  },
  {
   "cell_type": "markdown",
   "metadata": {
    "id": "J03o0KeD8XYs"
   },
   "source": [
    "#### 데이터 파악"
   ]
  },
  {
   "cell_type": "markdown",
   "metadata": {
    "id": "5dqZvbVyvs-N"
   },
   "source": [
    "##### 데이터 크기\n"
   ]
  },
  {
   "cell_type": "markdown",
   "metadata": {
    "id": "IvGo94bTEOVi"
   },
   "source": [
    "\n",
    "- train\n",
    "    - 데이터 : 165034\n",
    "    - 변수 : 14\n",
    "- test\n",
    "    - 데이터 : 110023\n",
    "    - 변수 : 13\n",
    "- submission\n",
    "    - 데이터 : 110023\n",
    "    - 변수 : 2"
   ]
  },
  {
   "cell_type": "code",
   "execution_count": null,
   "metadata": {
    "colab": {
     "base_uri": "https://localhost:8080/"
    },
    "executionInfo": {
     "elapsed": 3,
     "status": "ok",
     "timestamp": 1739854821796,
     "user": {
      "displayName": "이정수",
      "userId": "14428595979203344897"
     },
     "user_tz": -540
    },
    "id": "ez-CsFGIFPWo",
    "outputId": "90c0cbc3-a631-4bc9-d27d-d00fea45f211"
   },
   "outputs": [],
   "source": [
    "for i in [train, test,submission] :\n",
    "  print(i.shape)"
   ]
  },
  {
   "cell_type": "markdown",
   "metadata": {
    "id": "Sc7VAaxyZVS7"
   },
   "source": [
    "##### 데이터 타입, 결측\n",
    "\n",
    "- **train**\n",
    "  - 결측치\n",
    "      - 0개\n",
    "  - 타입\n",
    "      - Int64, float64 : 11개\n",
    "      - object : 3개\n",
    "          - Surname : 고객의 성\n",
    "          - Geography : 고객이 거주하는 국가\n",
    "          - Gender : 고객의 성별\n",
    "- **test**\n",
    "  - 결측치\n",
    "      - 0개\n",
    "  - 타입\n",
    "      - train과 동일(Exited 제외)\n",
    "- **submission**\n",
    "  - 결측치\n",
    "      - 0개\n",
    "  - 타입\n",
    "      - int64, float64"
   ]
  },
  {
   "cell_type": "markdown",
   "metadata": {
    "id": "Yd1EOewxbiEN"
   },
   "source": [
    "#### 시각화\n",
    "- **Barplot**\n",
    "    - Surname : 범주형 변수이지만 고유값 수가 2797개로 부적합\n",
    "    - Geography\n",
    "    - Gender\n",
    "    - NumOfProducts\n",
    "    - HasCrCard\n",
    "    - IsActiveMember\n",
    "    - Exited\n",
    "- **Histplot, 밀도추정그래프, BoxPlot, ScatterPlot**\n",
    "    - CreditScore\n",
    "    - Age\n",
    "    - Tenure\n",
    "    - Balance\n",
    "    - EstimatedSalary\n",
    "\n",
    "- **상관관계 히트맵**"
   ]
  },
  {
   "cell_type": "markdown",
   "metadata": {
    "id": "-VxPBy3opUjs"
   },
   "source": [
    "##### 시각화 함수 생성"
   ]
  },
  {
   "cell_type": "code",
   "execution_count": null,
   "metadata": {
    "executionInfo": {
     "elapsed": 2,
     "status": "ok",
     "timestamp": 1739854821796,
     "user": {
      "displayName": "이정수",
      "userId": "14428595979203344897"
     },
     "user_tz": -540
    },
    "id": "uwziivYtcx29"
   },
   "outputs": [],
   "source": [
    "# 1. BarPlot\n",
    "def custom_barplot(ax, count):\n",
    "    for bar in ax.patches:                                                            # ax.patches : 그래프 그려지는 모든 도형 요소\n",
    "        if bar.get_height() == 0: continue                                            # 막대의 높이가 0이면 건너뜀\n",
    "        rate = bar.get_height() / count * 100                                         # 백분율 계산\n",
    "\n",
    "        ax.text(x=bar.get_x() + bar.get_width() / 2,                                  # 막대의 중앙 위치 : bar.get_x(막대의 왼쪽 x좌표), bar.get_width(막대의 너비 = 가로 길이)\n",
    "                y=bar.get_height() + count * 0.005,                                   # 막대 위쪽에 텍스트 위치 : bar.get_height(막대의 높이 = 세로 길이)\n",
    "                s=f'{rate:1.1f}%', ha='center')                                       # 비율 텍스트 추가\n",
    "\n",
    "    ax.set_ylabel('')                                                                 # y축 레이블 제거\n",
    "    return ax                                                                         # 수정된 Axes 객체 반환\n",
    "\n",
    "# 2. Histogram\n",
    "def custom_histogram(ax, data):\n",
    "    mean = data.mean()                                                                # 데이터 평균 계산\n",
    "    ax.text(x=ax.get_xlim()[0] + 0.05 * (ax.get_xlim()[1] - ax.get_xlim()[0]),        # 왼쪽 여백\n",
    "            y=max([bar.get_height() for bar in ax.patches]) * 0.85,                   # y 위치 조정\n",
    "            s=f'Mean: {mean:.2f}', ha='left', color='red')                            # 평균값 표시\n",
    "\n",
    "    ax.set_ylabel('')                                                                 # y축 레이블 제거\n",
    "    return ax                                                                         # 수정된 Axes 객체 반환\n",
    "\n",
    "# 3. Box Plot\n",
    "def custom_boxplot(ax, data):\n",
    "    y_median = np.median(data)                                                        # 중앙값 계산\n",
    "    ax.text(x=1.02, y=y_median, s=f'Median: {y_median:.2f}', ha='left', color='red')  # 중앙값 표시\n"
   ]
  },
  {
   "cell_type": "markdown",
   "metadata": {
    "id": "2TIWd9xNBf0X"
   },
   "source": [
    "##### train 시각화\n"
   ]
  },
  {
   "cell_type": "code",
   "execution_count": null,
   "metadata": {
    "colab": {
     "base_uri": "https://localhost:8080/",
     "height": 1000
    },
    "executionInfo": {
     "elapsed": 21875,
     "status": "ok",
     "timestamp": 1732463225555,
     "user": {
      "displayName": "이정수",
      "userId": "14428595979203344897"
     },
     "user_tz": -540
    },
    "id": "V0i1Abikfxe9",
    "outputId": "c720c6ae-5af6-4c35-a961-456666555ac1"
   },
   "outputs": [],
   "source": [
    "fig, axes = plt.subplots(6, 2, figsize=(15, 20))\n",
    "\n",
    "# Credit Score Distribution\n",
    "sns.histplot(train['CreditScore'], bins=30, kde=True, ax=axes[0, 0])\n",
    "custom_histogram(axes[0, 0], train['CreditScore'])  # CreditScore 데이터 전달\n",
    "axes[0, 0].set_title('Credit Score Distribution')\n",
    "\n",
    "# Geography Distribution\n",
    "ax_geo = sns.countplot(data=train, x='Geography', hue='Exited', ax=axes[0, 1])\n",
    "custom_barplot(ax_geo, train.shape[0])  # 비율 추가\n",
    "axes[0, 1].set_title('Geography Distribution')\n",
    "\n",
    "# Gender Distribution\n",
    "ax_gender = sns.countplot(data=train, x='Gender', hue='Exited', ax=axes[1, 0])\n",
    "custom_barplot(ax_gender, train.shape[0])  # 비율 추가\n",
    "axes[1, 0].set_title('Gender Distribution')\n",
    "\n",
    "# Age Distribution\n",
    "sns.histplot(train['Age'], bins=30, kde=True, ax=axes[1, 1])\n",
    "custom_histogram(axes[1, 1], train['Age'])  # Age 데이터 전달\n",
    "axes[1, 1].set_title('Age Distribution')\n",
    "\n",
    "# Tenure Distribution\n",
    "ax_tenure = sns.countplot(data=train, x='Tenure', hue='Exited', ax=axes[2, 0])\n",
    "custom_barplot(ax_tenure, train.shape[0])  # 비율 추가\n",
    "axes[2, 0].set_title('Tenure Distribution')\n",
    "\n",
    "# Balance Distribution\n",
    "sns.histplot(train['Balance'], bins=30, kde=True, ax=axes[2, 1])\n",
    "custom_histogram(axes[2, 1], train['Balance'])  # Balance 데이터 전달\n",
    "axes[2, 1].set_title('Balance Distribution')\n",
    "\n",
    "# NumOfProducts Distribution\n",
    "ax_num_products = sns.countplot(data=train, x='NumOfProducts', hue='Exited', ax=axes[3, 0])\n",
    "custom_barplot(ax_num_products, train.shape[0])  # 비율 추가\n",
    "axes[3, 0].set_title('NumOfProducts Distribution')\n",
    "\n",
    "# HasCrCard Distribution\n",
    "ax_has_crcard = sns.countplot(data=train, x='HasCrCard', hue='Exited', ax=axes[3, 1])\n",
    "custom_barplot(ax_has_crcard, train.shape[0])  # 비율 추가\n",
    "axes[3, 1].set_title('HasCrCard Distribution')\n",
    "\n",
    "# IsActiveMember Distribution\n",
    "ax_active_member = sns.countplot(data=train, x='IsActiveMember', hue='Exited', ax=axes[4, 0])\n",
    "custom_barplot(ax_active_member, train.shape[0])  # 비율 추가\n",
    "axes[4, 0].set_title('IsActiveMember Distribution')\n",
    "\n",
    "# Estimated Salary Distribution\n",
    "sns.histplot(train['EstimatedSalary'], bins=30, kde=True, ax=axes[4, 1])\n",
    "custom_histogram(axes[4, 1], train['EstimatedSalary'])  # Estimated Salary 데이터 전달\n",
    "axes[4, 1].set_title('Estimated Salary Distribution')\n",
    "\n",
    "# Exited Distribution\n",
    "ax_exited = sns.countplot(data=train, x='Exited', ax=axes[5, 0])\n",
    "custom_barplot(ax_exited, train.shape[0])  # 비율 추가\n",
    "axes[5, 0].set_title('Exited Distribution')\n",
    "\n",
    "plt.tight_layout()\n",
    "plt.show()"
   ]
  },
  {
   "cell_type": "code",
   "execution_count": null,
   "metadata": {
    "colab": {
     "base_uri": "https://localhost:8080/",
     "height": 801
    },
    "executionInfo": {
     "elapsed": 3061,
     "status": "ok",
     "timestamp": 1732463228605,
     "user": {
      "displayName": "이정수",
      "userId": "14428595979203344897"
     },
     "user_tz": -540
    },
    "id": "zz2zNPZxrwdn",
    "outputId": "b67f64b7-62ac-4945-8614-ccd500e5e4cf"
   },
   "outputs": [],
   "source": [
    "# 박스플롯을 그릴 수직 축 배열 설정\n",
    "fig, axes = plt.subplots(2, 2, figsize=(10, 8))\n",
    "\n",
    "# Credit Score 박스플롯\n",
    "sns.boxplot(y=train['CreditScore'], ax=axes[0, 0])\n",
    "custom_boxplot(axes[0, 0], train['CreditScore'])  # 중앙값 텍스트 추가\n",
    "axes[0, 0].set_title('Credit Score')\n",
    "\n",
    "# Age 박스플롯\n",
    "sns.boxplot(y=train['Age'], ax=axes[0, 1])\n",
    "custom_boxplot(axes[0, 1], train['Age'])  # 중앙값 텍스트 추가\n",
    "axes[0, 1].set_title('Age')\n",
    "\n",
    "# Balance 박스플롯\n",
    "sns.boxplot(y=train['Balance'], ax=axes[1, 0])\n",
    "custom_boxplot(axes[1, 0], train['Balance'])  # 중앙값 텍스트 추가\n",
    "axes[1, 0].set_title('Balance')\n",
    "\n",
    "# Estimated Salary 박스플롯\n",
    "sns.boxplot(y=train['EstimatedSalary'], ax=axes[1, 1])\n",
    "custom_boxplot(axes[1, 1], train['EstimatedSalary'])  # 중앙값 텍스트 추가\n",
    "axes[1, 1].set_title('Estimated Salary')\n",
    "\n",
    "plt.tight_layout()  # 그래프 사이의 간격을 조정하여 보기 좋게 배치\n",
    "plt.show()"
   ]
  },
  {
   "cell_type": "markdown",
   "metadata": {
    "id": "1FwQaRntElCB"
   },
   "source": [
    "###### train 시각화 해석"
   ]
  },
  {
   "cell_type": "markdown",
   "metadata": {
    "id": "h4aqTZLcEh4r"
   },
   "source": [
    "- BarPlot, HistPlot 해석\n",
    "    - **Credit Score(신용점수)**\n",
    "        - 평균\n",
    "            - 656.45\n",
    "        - 분포\n",
    "            - 대체로 정규분포 형태\n",
    "            - 신용 점수 분포가 넓게 퍼져있어 다양한 점수 분포\n",
    "            - 신용점수가 600-700 사이에 가장 많은 고객이 분포\n",
    "\n",
    "    - **Geography(고객 거주 국가)**\n",
    "        - 분포\n",
    "            - France가 전체의 57.1%로 가장 많고, 그 다음 Spain 22%, Germany 20.9% 순서\n",
    "        - 이탈\n",
    "            - 세 국가 모두 이탈하지 않은 고객(0)이 이탈 고객(1)보다 많다\n",
    "                - 프랑스는 이탈 비율이 낮고, 독일은 상대적으로 높은 이탈율을 보인다\n",
    "\n",
    "    - **Gender(고객 성별)**\n",
    "        - 분포\n",
    "            - 남성이 약 56.5%, 여성이 43.6%로 대략 6:4 비율\n",
    "        - 이탈\n",
    "            - 남성, 여성 모두 이탈하지 않은 사람(0)이 이탈자(1)보다 많다\n",
    "                - 남성보다 여성이 이탈 비율이 더 높다\n",
    "\n",
    "    - **Age(고객 연령)**\n",
    "        - 평균\n",
    "            - 38.13\n",
    "        - 분포\n",
    "            - 대체로 정규분포 형태\n",
    "            - 30,40대에 주 고객층이 모여있다\n",
    "            - 나이가 많을 수록 고객 수가 급격히 감소하는 경향\n",
    "                - 젊은 고객층(30-40대)에서 고객수가 집중\n",
    "\n",
    "    - **Tenure(은행 이용 기간)**\n",
    "        - 분포\n",
    "            - 모든 기간에 고객수가 고르게 분포되어 있지만, 0년과 10년에 소폭 감소\n",
    "        - 이탈\n",
    "            - 이용 기간에 관계없이 이탈하지 않은 사람이(0)이 이탈자(1) 보다 많다\n",
    "\n",
    "    - **Balance(계좌잔액)**\n",
    "        - 평균\n",
    "            - 55478.09\n",
    "        - 분포\n",
    "            - 0인 경우가 가장 많으며, 0을 제외한 나머지 값들은 정규분포에 가깝게 분포\n",
    "            - 주로 50,000~200,000 구간에 집중\n",
    "\n",
    "    - **NumOfProducts(고객 이용 은행 상품 수)**\n",
    "        - 분포\n",
    "            - 1개 또는 2개 상품을 보유한 고객이 대부분\n",
    "                - 1개(46.9%), 2개(51.1%)\n",
    "        - 이탈\n",
    "            - 상품 개수가 1개인 고객의 이탈 비율이 상대적으로 높다\n",
    "\n",
    "    - **HasCrCard(신용카드 보유 여부)**\n",
    "        - 분포\n",
    "            - 신용카드 보유 고객(1)이 75.4%, 비보유 고객(0)이 24.6%의 분포로 보유한 고객이 더 많다\n",
    "        - 이탈\n",
    "            - 신용카드 보유 여부와 관계없이 이탈하지 않은 고객이 더 많다.\n",
    "\n",
    "    - **IsActiveMemebr(활성 회원 여부)**\n",
    "        - 분포\n",
    "          - 비활성회원이 50.2%, 활성회원이 49.7%로 차이가 매우 적었다.\n",
    "        - 이탈\n",
    "            - 비활성 회원의 이탈율이 더 높다.\n",
    "\n",
    "    - **EstimatedSalary(추정 연봉)**\n",
    "        - 평균\n",
    "            - 112574.82\n",
    "        - 분포\n",
    "            - 급여가 0에서 200000까지 고르게 분포\n",
    "                - 주요 구간 : 50000 - 175000\n",
    "\n",
    "    - **Exited(이탈 여부)**\n",
    "        - 분포\n",
    "            - 전체 고객 중 이탈하지 않은 사람(0)이 78.8%, 이탈자(1)는 21.2%로 대략 8:2 비율\n",
    "            \n",
    "- BoxPlot 해석\n",
    "    - CreditScore\n",
    "        - 이상치\n",
    "            - O\n",
    "            - 신용 점수 하단에 이상치 다수 존재\n",
    "                - 특히 400이하 낮은 점수 고객, 점수가 낮은 일부 고객층 포함\n",
    "        - 중앙값\n",
    "            - 659\n",
    "        - 분포\n",
    "            - 약간 오른쪽으로 치우친 분포\n",
    "                - 왼쪽꼬리\n",
    "\n",
    "    - Age\n",
    "        - 이상치\n",
    "            - O\n",
    "            - 60 이상의 나이에서 이상치 다수 존재\n",
    "                - 특히 80세 이상 고객이 드물게 포함, 고령층 소수 포함\n",
    "        - 중앙값\n",
    "            - 37\n",
    "        - 분포\n",
    "            - 오른쪽 긴 꼬리\n",
    "    - Balance\n",
    "        - 이상치\n",
    "            - X\n",
    "        - 중앙값\n",
    "            - 0\n",
    "    - EstimatedSalary\n",
    "        - 이상치\n",
    "            - X\n",
    "        - 중앙값\n",
    "            - 117,948"
   ]
  },
  {
   "cell_type": "markdown",
   "metadata": {
    "id": "cDdyydHJBjJp"
   },
   "source": [
    "##### test 시각화\n"
   ]
  },
  {
   "cell_type": "code",
   "execution_count": null,
   "metadata": {
    "colab": {
     "base_uri": "https://localhost:8080/",
     "height": 1000
    },
    "executionInfo": {
     "elapsed": 13889,
     "status": "ok",
     "timestamp": 1732463242491,
     "user": {
      "displayName": "이정수",
      "userId": "14428595979203344897"
     },
     "user_tz": -540
    },
    "id": "PKRTwCHIBkND",
    "outputId": "6394715e-e6dd-4062-8044-aab52488fce8"
   },
   "outputs": [],
   "source": [
    "fig, axes = plt.subplots(5, 2, figsize=(15, 20))\n",
    "\n",
    "# Credit Score Distribution\n",
    "sns.histplot(test['CreditScore'], bins=30, kde=True, ax=axes[0, 0])\n",
    "custom_histogram(axes[0, 0], test['CreditScore'])  # CreditScore 데이터 전달\n",
    "axes[0, 0].set_title('Credit Score Distribution')\n",
    "\n",
    "# Geography Distribution (without hue)\n",
    "ax_geo = sns.countplot(data=test, x='Geography', ax=axes[0, 1])\n",
    "custom_barplot(ax_geo, test.shape[0])  # 비율 추가\n",
    "axes[0, 1].set_title('Geography Distribution')\n",
    "\n",
    "# Gender Distribution (without hue)\n",
    "ax_gender = sns.countplot(data=test, x='Gender', ax=axes[1, 0])\n",
    "custom_barplot(ax_gender, test.shape[0])  # 비율 추가\n",
    "axes[1, 0].set_title('Gender Distribution')\n",
    "\n",
    "# Age Distribution\n",
    "sns.histplot(test['Age'], bins=30, kde=True, ax=axes[1, 1])\n",
    "custom_histogram(axes[1, 1], test['Age'])  # Age 데이터 전달\n",
    "axes[1, 1].set_title('Age Distribution')\n",
    "\n",
    "# Tenure Distribution (without hue)\n",
    "ax_tenure = sns.countplot(data=test, x='Tenure', ax=axes[2, 0])\n",
    "custom_barplot(ax_tenure, test.shape[0])  # 비율 추가\n",
    "axes[2, 0].set_title('Tenure Distribution')\n",
    "\n",
    "# Balance Distribution\n",
    "sns.histplot(test['Balance'], bins=30, kde=True, ax=axes[2, 1])\n",
    "custom_histogram(axes[2, 1], test['Balance'])  # Balance 데이터 전달\n",
    "axes[2, 1].set_title('Balance Distribution')\n",
    "\n",
    "# NumOfProducts Distribution (without hue)\n",
    "ax_num_products = sns.countplot(data=test, x='NumOfProducts', ax=axes[3, 0])\n",
    "custom_barplot(ax_num_products, test.shape[0])  # 비율 추가\n",
    "axes[3, 0].set_title('NumOfProducts Distribution')\n",
    "\n",
    "# HasCrCard Distribution (without hue)\n",
    "ax_has_crcard = sns.countplot(data=test, x='HasCrCard', ax=axes[3, 1])\n",
    "custom_barplot(ax_has_crcard, test.shape[0])  # 비율 추가\n",
    "axes[3, 1].set_title('HasCrCard Distribution')\n",
    "\n",
    "# IsActiveMember Distribution (without hue)\n",
    "ax_active_member = sns.countplot(data=test, x='IsActiveMember', ax=axes[4, 0])\n",
    "custom_barplot(ax_active_member, test.shape[0])  # 비율 추가\n",
    "axes[4, 0].set_title('IsActiveMember Distribution')\n",
    "\n",
    "# Estimated Salary Distribution\n",
    "sns.histplot(test['EstimatedSalary'], bins=30, kde=True, ax=axes[4, 1])\n",
    "custom_histogram(axes[4, 1], test['EstimatedSalary'])  # Estimated Salary 데이터 전달\n",
    "axes[4, 1].set_title('Estimated Salary Distribution')\n",
    "\n",
    "plt.tight_layout()\n",
    "plt.show()\n"
   ]
  },
  {
   "cell_type": "code",
   "execution_count": null,
   "metadata": {
    "colab": {
     "base_uri": "https://localhost:8080/",
     "height": 801
    },
    "executionInfo": {
     "elapsed": 669,
     "status": "ok",
     "timestamp": 1732463243157,
     "user": {
      "displayName": "이정수",
      "userId": "14428595979203344897"
     },
     "user_tz": -540
    },
    "id": "ws1atbS-CYHz",
    "outputId": "9cb58494-5e60-4e93-c9d7-d5eafa47a654"
   },
   "outputs": [],
   "source": [
    "# 박스플롯을 그릴 수직 축 배열 설정\n",
    "fig, axes = plt.subplots(2, 2, figsize=(10, 8))\n",
    "\n",
    "# Credit Score 박스플롯\n",
    "sns.boxplot(y=test['CreditScore'], ax=axes[0, 0])\n",
    "custom_boxplot(axes[0, 0], test['CreditScore'])  # 중앙값 텍스트 추가\n",
    "axes[0, 0].set_title('Credit Score')\n",
    "\n",
    "# Age 박스플롯\n",
    "sns.boxplot(y=test['Age'], ax=axes[0, 1])\n",
    "custom_boxplot(axes[0, 1], test['Age'])  # 중앙값 텍스트 추가\n",
    "axes[0, 1].set_title('Age')\n",
    "\n",
    "# Balance 박스플롯\n",
    "sns.boxplot(y=test['Balance'], ax=axes[1, 0])\n",
    "custom_boxplot(axes[1, 0], test['Balance'])  # 중앙값 텍스트 추가\n",
    "axes[1, 0].set_title('Balance')\n",
    "\n",
    "# Estimated Salary 박스플롯\n",
    "sns.boxplot(y=test['EstimatedSalary'], ax=axes[1, 1])\n",
    "custom_boxplot(axes[1, 1], test['EstimatedSalary'])  # 중앙값 텍스트 추가\n",
    "axes[1, 1].set_title('Estimated Salary')\n",
    "\n",
    "plt.tight_layout()  # 그래프 사이의 간격을 조정하여 보기 좋게 배치\n",
    "plt.show()"
   ]
  },
  {
   "cell_type": "markdown",
   "metadata": {
    "id": "F2iDtlDREslR"
   },
   "source": [
    "###### train 시각화 해석"
   ]
  },
  {
   "cell_type": "markdown",
   "metadata": {
    "id": "yN7gUXSQEr84"
   },
   "source": [
    "- BarPlot, HistPlot 해석\n",
    "    - - **Credit Score(신용점수)**\n",
    "    - 평균\n",
    "        - 656.53\n",
    "    - 분포\n",
    "        - 대체로 정규분포 형태\n",
    "        - 신용 점수 분포가 넓게 퍼져있어 다양한 점수 분포\n",
    "        - 신용점수가 600-700 사이에 가장 많은 고객이 분포\n",
    "\n",
    "- **Geography(고객 거주 국가)**\n",
    "    - 분포\n",
    "        - France가 전체의 57.4%로 가장 많고, 그 다음 Spain 21.7%, Germany 20.8% 순서\n",
    "\n",
    "- **Gender(고객 성별)**\n",
    "    - 분포\n",
    "        - 남성이 약 56.3%, 여성이 43.7%\n",
    "\n",
    "- **Age(고객 연령)**\n",
    "    - 평균\n",
    "        - 38.12\n",
    "    - 분포\n",
    "        - 대체로 정규분포 형태\n",
    "        - 30,40대에 주 고객층이 모여있다\n",
    "        - 연령이 증가할수록 고객 수가 급격히 감소하는 경향\n",
    "            - 젊은 고객층(30-40대)에서 고객수가 집중\n",
    "\n",
    "- **Tenure(은행 이용 기간)**\n",
    "    - 분포\n",
    "        - 모든 기간에 고객수가 고르게 분포되어 있지만, 0년과 10년에 소폭 감소\n",
    "\n",
    "- **Balance(계좌잔액)**\n",
    "    - 평균\n",
    "        - 55333.61\n",
    "    - 분포\n",
    "        - 0인 경우가 가장 많으며, 0을 제외한 나머지 값들은 정규분포에 가깝게 분포\n",
    "        - 주로 50,000~200,000 구간에 집중\n",
    "\n",
    "- **NumOfProducts(고객 이용 은행 상품 수)**\n",
    "    - 분포\n",
    "        - 1개 또는 2개 상품을 보유한 고객이 대부분\n",
    "            - 1개(46.9%), 2개(51.2%)\n",
    "\n",
    "- **HasCrCard(신용카드 보유 여부)**\n",
    "    - 분포\n",
    "        - 신용카드 보유 고객(1)이 73.3%, 비보유 고객(0)이 24.7%의 분포로 보유한 고객이 더 많다\n",
    "\n",
    "- **IsActiveMemebr(활성 회원 여부)**\n",
    "    - 분포\n",
    "      - 비활성회원이 50.5%, 활성회원이 49.5%로 차이가 매우 적었다.\n",
    "\n",
    "- **EstimatedSalary(추정 연봉)**\n",
    "    - 평균\n",
    "        - 112315.15\n",
    "    - 분포\n",
    "        - 급여가 0에서 200000까지 고르게 분포\n",
    "            - 주요 구간 : 50000 - 175000\n",
    "- BoxPlot 해석\n",
    "    - CreditScore\n",
    "        - 이상치\n",
    "            - O\n",
    "            - 신용 점수 하단에 이상치 다수 존재\n",
    "                - 특히 400이하 낮은 점수 고객, 점수가 낮은 일부 고객층 포함\n",
    "        - 중앙값\n",
    "            - 660\n",
    "        - 분포\n",
    "            - 약간 오른쪽으로 치우친 분포\n",
    "                - 왼쪽꼬리\n",
    "\n",
    "    - Age\n",
    "        - 이상치\n",
    "            - O\n",
    "            - 60 이상의 나이에서 이상치 다수 존재\n",
    "                - 특히 80세 이상 고객이 드물게 포함, 고령층 소수 포함\n",
    "        - 중앙값\n",
    "            - 37\n",
    "        - 분포\n",
    "            - 오른쪽 긴 꼬리\n",
    "    - Balance\n",
    "        - 이상치\n",
    "            - X\n",
    "        - 중앙값\n",
    "            - 0\n",
    "    - EstimatedSalary\n",
    "        - 이상치\n",
    "            - X\n",
    "        - 중앙값\n",
    "            - 117,832.23"
   ]
  },
  {
   "cell_type": "markdown",
   "metadata": {
    "id": "SUCEyNCO9I1w"
   },
   "source": [
    "### 데이터 파악 후 전처리 계획\n",
    "\n",
    "```\n",
    "# ID, Surname 제거\n",
    "\n",
    "\n",
    "# Credit Score => 로그 변환, 스케일링 진행 가능성\n",
    "- 대체로 정규 분포\n",
    "- 신용점수 하단에 이상치 다수 존재 -> 왼쪽꼬리\n",
    "- 필요시 로그 변환 진행\n",
    "- 분포가 넓게 퍼져있다 -> 필요시 스케일링 진행\n",
    "\n",
    "# Geography => OneHot Encoding\n",
    "- 문자형,범주형 변수 : 인코딩 진행\n",
    "- 고유값 3개\n",
    "- 순서 X\n",
    "- OneHot Encoding 진행 가능성\n",
    "\n",
    "# Gender => Label, Binary Encoding\n",
    "- 문자형,범주형 변수 : 인코딩 진행\n",
    "- 고유값 2개 : 라벨 인코딩 or 이진 인코딩\n",
    "\n",
    "# Age => 로그 변환, 스케일링, 구간 변환 가능성\n",
    "- 대체로 정규분포 형태\n",
    "- 60세 이상 이상치 존재 -> 오른쪽 꼬리\n",
    "- 필요시 로그 변환 진행\n",
    "- 분포가 넓게 퍼져있다(20대 – 90대) -> 필요시 스케일링 진행\n",
    "- 분포 30,40대 집중 / 60대 이상은 극소수 -> 이상치(60대 이상)들을 포함시키기 위해 age를 구간으로 사용할 가능성\n",
    "\n",
    "# Tenure => 그대로 or Label Encoding\n",
    "- 정수형,범주형 변수 : 그대로 사용 or Label Encoding(일관성 위해 인코딩 진행)\n",
    "- 0년, 10년만 소폭 감소\n",
    "\n",
    "# Balance => 로그변환, 스케일링, 이항변수, 클러스터링(범주형) 가능성\n",
    "- 0인 경우가 매우 많고, 나머지가 정규분포에 가까움 -> 왼쪽 꼬리\n",
    "- 필요시 로그 변환 혹은 스케일링\n",
    "- 0 처리 -> 이항변수(범주형)로 만드는 방법\n",
    "- 범주형(낮음, 중간, 높음) : 클러스터링\n",
    "\n",
    "# NumOfProducts => OneHot Encoding 가능성\n",
    "- 정수형, 범주형 변수\n",
    "- 순서가 없다\n",
    "- OneHot Encoding 가능성\n",
    "- 1개(46.9%), 2개(51.1%)가 대부분\n",
    "\n",
    "# HasCrCard => Label Encoding 가능성\n",
    "- 정수형, 범주형 변수\n",
    "- 순서 X\n",
    "- 이진 변수\n",
    "-> Label Encoding 적합 가능성(일관성 위해)\n",
    "\n",
    "\n",
    "# IsActiveMember => Label Encoding 가능성\n",
    "- 정수형, 범주형 변수\n",
    "- 순서\n",
    "- 이진 변수\n",
    "-> LabelEncoding 적합해보임(일관성 위해)\n",
    "\n",
    "# EstimatedSalary => 스케일링 가능성\n",
    "- 분포가 넓게 퍼져있다(0-200000)\n",
    "- 주요 구간 : 5000 - 175000\n",
    "-> 스케일링 가능성\n",
    "\n",
    "# Exited\n",
    "\n",
    "```"
   ]
  },
  {
   "cell_type": "markdown",
   "metadata": {
    "id": "ssH-dt0uyvNU"
   },
   "source": [
    "### 전처리 진행\n",
    "- 파생변수 O\n",
    "- ID, Surname 제거\n",
    "- 인코딩 O\n",
    "- 이상치 확인\n",
    "- 중복치 처리 O\n",
    "- 스케일링 O\n",
    "- 다중공선성 확인\n",
    "\n"
   ]
  },
  {
   "cell_type": "markdown",
   "metadata": {
    "id": "Sfy-k7KQbzZO"
   },
   "source": [
    "#### 변수 제거\n",
    "- Id, Surname"
   ]
  },
  {
   "cell_type": "code",
   "execution_count": null,
   "metadata": {
    "executionInfo": {
     "elapsed": 1272,
     "status": "ok",
     "timestamp": 1739854828135,
     "user": {
      "displayName": "이정수",
      "userId": "14428595979203344897"
     },
     "user_tz": -540
    },
    "id": "zPgFcFwrFi_b"
   },
   "outputs": [],
   "source": [
    "# train, test 동시 진행\n",
    "## Id, Surname 제거\n",
    "train.drop(columns=['id','Surname'],inplace=True)\n",
    "test.drop(columns=['id','Surname'],inplace=True)"
   ]
  },
  {
   "cell_type": "markdown",
   "metadata": {
    "id": "zZzZ4uN3kgcH"
   },
   "source": [
    "#### 이상치\n",
    "- 그래프를 통한 이상치들은 의미상 제외하기엔 무리가 있으므로 유지\n",
    "- 음수 존재 X\n",
    "- 처리 할 값 X"
   ]
  },
  {
   "cell_type": "code",
   "execution_count": null,
   "metadata": {
    "colab": {
     "base_uri": "https://localhost:8080/"
    },
    "executionInfo": {
     "elapsed": 880,
     "status": "ok",
     "timestamp": 1739854832458,
     "user": {
      "displayName": "이정수",
      "userId": "14428595979203344897"
     },
     "user_tz": -540
    },
    "id": "ueu8wjoDqy6i",
    "outputId": "6c7d19a9-84ad-4b9a-bf50-80a557455ed9"
   },
   "outputs": [],
   "source": [
    "# 음수 존재 여부 확인\n",
    "for i in ['CreditScore','Age','Tenure','Balance','EstimatedSalary' ] :\n",
    "  print(i ,':', train[i].min())"
   ]
  },
  {
   "cell_type": "markdown",
   "metadata": {
    "id": "oXyse6susqEB"
   },
   "source": [
    "#### 중복치\n",
    "- 동시에 중복 불가\n",
    "    - **모든 값 중복**\n",
    "        - 30개\n",
    "        - 제거(train data만)\n",
    "    - CustomerId 중복\n",
    "        - 155733개\n",
    "        - 고유값으로써 기능이 없으므로 중복치 유지"
   ]
  },
  {
   "cell_type": "code",
   "execution_count": null,
   "metadata": {
    "colab": {
     "base_uri": "https://localhost:8080/"
    },
    "executionInfo": {
     "elapsed": 418,
     "status": "ok",
     "timestamp": 1739854873091,
     "user": {
      "displayName": "이정수",
      "userId": "14428595979203344897"
     },
     "user_tz": -540
    },
    "id": "ukywdLRi_Xat",
    "outputId": "cdaa9482-92aa-4ef4-878d-f271a576f9f4"
   },
   "outputs": [],
   "source": [
    "# 모든 열의 값이 동일한 중복치\n",
    "train[train.duplicated(keep=False)].sort_values('CustomerId')\n",
    "\n",
    "# CustomerId만 동일한 중복치\n",
    "train[train.duplicated(subset=['CustomerId'],keep=False)].sort_values('CustomerId').shape[0]\n",
    "\n",
    "# CustomerID 고유값 수\n",
    "train['CustomerId'].nunique()"
   ]
  },
  {
   "cell_type": "markdown",
   "metadata": {
    "id": "OMwHRz4Vu3y1"
   },
   "source": [
    "##### 중복치 제거"
   ]
  },
  {
   "cell_type": "code",
   "execution_count": null,
   "metadata": {
    "executionInfo": {
     "elapsed": 576,
     "status": "ok",
     "timestamp": 1739854874096,
     "user": {
      "displayName": "이정수",
      "userId": "14428595979203344897"
     },
     "user_tz": -540
    },
    "id": "CsIqtt2L_P50"
   },
   "outputs": [],
   "source": [
    "train = train.drop_duplicates()"
   ]
  },
  {
   "cell_type": "markdown",
   "metadata": {
    "id": "W7CcML_fbmXq"
   },
   "source": [
    "#### 파생변수_1\n",
    "\n",
    "- 단일 모델 범주화_1\n",
    "    - Age_group\n",
    "        - 연령대(10살 단위)\n",
    "        - 특이점\n",
    "            - BoxPlot의 IQR을 통한 그룹 구분 추가\n",
    "                - 10대\n",
    "                - 20대\n",
    "                - 30대\n",
    "                - 40대\n",
    "                - 50대 - 57세\n",
    "                - 57세 초과\n",
    "    - Balance_group\n",
    "        - 0과 1"
   ]
  },
  {
   "cell_type": "markdown",
   "metadata": {
    "id": "M5UGCRs49Ix6"
   },
   "source": [
    "##### Age_group"
   ]
  },
  {
   "cell_type": "code",
   "execution_count": null,
   "metadata": {
    "colab": {
     "base_uri": "https://localhost:8080/"
    },
    "executionInfo": {
     "elapsed": 435,
     "status": "ok",
     "timestamp": 1739854876690,
     "user": {
      "displayName": "이정수",
      "userId": "14428595979203344897"
     },
     "user_tz": -540
    },
    "id": "2yKpcxwJbplY",
    "outputId": "9d902edf-c3c8-4c61-c5c6-05309ddfcd89"
   },
   "outputs": [],
   "source": [
    "# Age 이상치\n",
    "## train, test : 57세부터 이상치로 확인\n",
    "\n",
    "Q1 = np.quantile(train['Age'],0.25)\n",
    "Q3 = np.quantile(train['Age'],0.75)\n",
    "IQR = Q3-Q1\n",
    "\n",
    "Outlier_Age_over = Q3 + 1.5*IQR\n",
    "Outlier_Age_over\n",
    "\n",
    "train[train['Age'] > 57].shape # 6391\n",
    "train[train['Age'] < 57].shape # 157627\n",
    "\n",
    "\n",
    "Q1_test = np.quantile(test['Age'],0.25)\n",
    "Q3_test = np.quantile(test['Age'],0.75)\n",
    "IQR_test = Q3-Q1\n",
    "\n",
    "Outlier_Age_over_test = Q3 + 1.5*IQR_test\n",
    "Outlier_Age_over_test"
   ]
  },
  {
   "cell_type": "markdown",
   "metadata": {
    "id": "p46sAlJHg7CM"
   },
   "source": [
    "###### Age_group 생성\n"
   ]
  },
  {
   "cell_type": "code",
   "execution_count": null,
   "metadata": {
    "executionInfo": {
     "elapsed": 748,
     "status": "ok",
     "timestamp": 1739854882083,
     "user": {
      "displayName": "이정수",
      "userId": "14428595979203344897"
     },
     "user_tz": -540
    },
    "id": "uTjzwIcOg9vk"
   },
   "outputs": [],
   "source": [
    "bins = [0,19,29,39,49,57,np.inf]\n",
    "labels = [10,20,30,40,50,57]\n",
    "train['Age_group'] = pd.cut(train['Age'], bins= bins,labels = labels,right=True)\n",
    "test['Age_group'] = pd.cut(test['Age'], bins= bins,labels = labels,right=True)"
   ]
  },
  {
   "cell_type": "markdown",
   "metadata": {
    "id": "7eUu16j0gWRw"
   },
   "source": [
    "##### Balance_group"
   ]
  },
  {
   "cell_type": "code",
   "execution_count": null,
   "metadata": {
    "colab": {
     "base_uri": "https://localhost:8080/",
     "height": 178
    },
    "executionInfo": {
     "elapsed": 415,
     "status": "ok",
     "timestamp": 1739854883598,
     "user": {
      "displayName": "이정수",
      "userId": "14428595979203344897"
     },
     "user_tz": -540
    },
    "id": "JwaxnC2VgYqC",
    "outputId": "e715588a-6958-4f94-e229-8ac6b13e8112"
   },
   "outputs": [],
   "source": [
    "# Balance 고유값 수\n",
    "## - Balance = 0 : 89633\n",
    "## - Balance != 0 : 75371\n",
    "train[train['Balance'] == 0].shape # 89633\n",
    "train[train['Balance'] != 0].shape # 75371\n",
    "\n",
    "train['Balance'].min()  # 0\n",
    "train['Balance'].max()  # 250898.09\n",
    "\n",
    "train['Balance'].apply(lambda x: '0' if x == 0 else '1').value_counts()"
   ]
  },
  {
   "cell_type": "markdown",
   "metadata": {
    "id": "Zji90_eYIeWG"
   },
   "source": [
    "###### Balance 생성\n",
    "\n"
   ]
  },
  {
   "cell_type": "code",
   "execution_count": null,
   "metadata": {
    "executionInfo": {
     "elapsed": 423,
     "status": "ok",
     "timestamp": 1739854896393,
     "user": {
      "displayName": "이정수",
      "userId": "14428595979203344897"
     },
     "user_tz": -540
    },
    "id": "ijkByAVVIdlZ"
   },
   "outputs": [],
   "source": [
    "train['Balance_group'] = train['Balance'].apply(lambda x: 0 if x == 0 else 1)\n",
    "test['Balance_group'] = test['Balance'].apply(lambda x: 0 if x == 0 else 1)"
   ]
  },
  {
   "cell_type": "markdown",
   "metadata": {
    "id": "f4_smm4gcQB0"
   },
   "source": [
    "#### 로그변환 & 스케일링\n",
    "```\n",
    "- StandardScaler : Mean = 0, std = 1\n",
    "    - 데이터 정규분포에 가까운 경우\n",
    "    - 변수 크기 차이가 크고, 이상치 적을 때\n",
    "\n",
    "- RobustScaler : Median, IQR 사용\n",
    "    - 이상치 영향 최소화\n",
    "    - 중앙값 기준으로 스케일링 하므로 분포가 비대칭적인 경우 효율\n",
    "    - 데이터가 정규분포를 따르는 경우, StandarScaler만큼 효과적이지 않을 수 있다\n",
    "\n",
    "- MinMaxScaler : Min = 0 , Max = 1 사이 스케일링\n",
    "    - 데이터가 특정 범위내로 제한되어야 할 때\n",
    "    - 값의 분포가 균등하지 않을때\n",
    "    - 딥러닝 모델에서 주로 사용\n",
    "    - 해석이 쉽다\n",
    "    - 값의 분포를 유지하며 스케일링\n",
    "    - 이상치에 민감\n",
    "```\n",
    "\n",
    "- Balance, Age : 로그변환\n",
    "- CreditScore, Age, Balance, EstimatedSalary : 스케일링\n",
    "    - CreditScore, Age\n",
    "        - RobustScaler\n",
    "    - Balance\n",
    "        - MinMaxScaler\n",
    "    - estimatedSalary\n",
    "        - StandardScaler\n"
   ]
  },
  {
   "cell_type": "code",
   "execution_count": null,
   "metadata": {
    "executionInfo": {
     "elapsed": 415,
     "status": "ok",
     "timestamp": 1739854898935,
     "user": {
      "displayName": "이정수",
      "userId": "14428595979203344897"
     },
     "user_tz": -540
    },
    "id": "q4z0YAJESqMK"
   },
   "outputs": [],
   "source": [
    "scaled_features = {\n",
    "    'CreditScore': RobustScaler(),\n",
    "    'EstimatedSalary': StandardScaler(),\n",
    "    'Age': ('log', RobustScaler()),        # 로그 변환 후 스케일링\n",
    "    'Balance': ('log1p', MinMaxScaler())   # 로그 변환 후 스케일링\n",
    "}\n",
    "\n",
    "# 로그변환, 스케일링 적용\n",
    "for feature, scaled_info in scaled_features.items() :\n",
    "  if isinstance(scaled_info, tuple) :\n",
    "    log_info, scaler = scaled_info\n",
    "    if log_info == 'log' :\n",
    "      train_feature = np.log(train[[feature]])\n",
    "      test_feature = np.log(test[[feature]])\n",
    "    elif log_info == 'log1p' :\n",
    "      train_feature = np.log1p(train[[feature]])\n",
    "      test_feature = np.log1p(test[[feature]])\n",
    "  else :\n",
    "    scaler = scaled_info\n",
    "    train_feature = train[[feature]]\n",
    "    test_feature = test[[feature]]\n",
    "\n",
    "  # 스케일링 적용\n",
    "  scaled_feature = feature + '_Scaled'\n",
    "  train[scaled_feature] = scaler.fit_transform(train_feature)\n",
    "  test[scaled_feature] = scaler.transform(test_feature)"
   ]
  },
  {
   "cell_type": "markdown",
   "metadata": {
    "id": "WnMRxxry1Rg9"
   },
   "source": [
    "#### 스케일링 후 시각화"
   ]
  },
  {
   "cell_type": "code",
   "execution_count": null,
   "metadata": {
    "colab": {
     "base_uri": "https://localhost:8080/",
     "height": 801
    },
    "executionInfo": {
     "elapsed": 6779,
     "status": "ok",
     "timestamp": 1739854908789,
     "user": {
      "displayName": "이정수",
      "userId": "14428595979203344897"
     },
     "user_tz": -540
    },
    "id": "2L5rO_ep1RXF",
    "outputId": "fdb620a9-98f7-453b-e7fe-633a406945c6"
   },
   "outputs": [],
   "source": [
    "fig, axes = plt.subplots(2, 2, figsize=(10, 8))\n",
    "\n",
    "# Credit Score Distribution\n",
    "sns.histplot(train['CreditScore_Scaled'], bins=30, kde=True, ax=axes[0, 0])\n",
    "axes[0, 0].set_title('Credit Score Distribution')\n",
    "\n",
    "# Age Distribution\n",
    "sns.histplot(train['Age_Scaled'], bins=30, kde=True, ax=axes[0, 1])\n",
    "axes[0, 1].set_title('Age Distribution')\n",
    "\n",
    "# Balance Distribution\n",
    "sns.histplot(train['Balance_Scaled'], bins=30, kde=True, ax=axes[1, 0])\n",
    "axes[1, 0].set_title('Balance Distribution')\n",
    "\n",
    "# Estimated Salary Distribution\n",
    "sns.histplot(train['EstimatedSalary_Scaled'], bins=30, kde=True, ax=axes[1, 1])\n",
    "axes[1, 1].set_title('Estimated Salary Distribution')\n",
    "\n",
    "plt.tight_layout()\n",
    "plt.show()"
   ]
  },
  {
   "cell_type": "markdown",
   "metadata": {
    "id": "uIPlmk4uuhIR"
   },
   "source": [
    "#### 파생변수_2\n"
   ]
  },
  {
   "cell_type": "markdown",
   "metadata": {
    "id": "Y3bCDmoGtv_9"
   },
   "source": [
    "##### 1.단일 모델 범주화\n",
    "\n",
    "- NumOfProducts_group(0과 1, 나머지)\n",
    "\n",
    "```\n",
    "근거_1 : 이탈율이 3개와 4개가 극단적으로 높다. 1개 및 2개와 다른 성격을 지니고 있다 판단. 또한 이탈율이 높으므로 충분히 의미 있는 변수가 될 수 있다 판단.\n",
    "train.groupby('NumOfProducts')['Exited'].mean()\n",
    "\n",
    "                    Exited\n",
    "NumOfProducts\n",
    "1\t              0.347122\n",
    "2\t              0.060421\n",
    "3\t              0.882516\n",
    "4\t              0.875789\n",
    "\n",
    "\n",
    "근거_2 : 원본 모델링 모델에서 NumOfProducts의 feature_importance와 permutation_importance의 중요도가 상대적으로 높다. 따라서 의미있는 변수라 판단 -> 의미적으로 살리는 것이 좋아보임\n",
    "<gbc feature_importance TOP 5>\n",
    "Age: 0.326\n",
    "NumOfProducts_2: 0.179\n",
    "NumOfProducts_1: 0.141\n",
    "IsActiveMember: 0.096\n",
    "Balance: 0.063\n",
    "Final_voting_model permutation importance TOP 5\n",
    "\n",
    "<final_voting_model permutation_importance>\n",
    "NumOfProducts_2: 0.158\n",
    "Age: 0.088\n",
    "IsActiveMember: 0.029\n",
    "Balance: 0.024\n",
    "NumOfProducts_1: 0.021\n",
    "\n",
    "```\n"
   ]
  },
  {
   "cell_type": "code",
   "execution_count": null,
   "metadata": {
    "colab": {
     "base_uri": "https://localhost:8080/",
     "height": 241
    },
    "executionInfo": {
     "elapsed": 432,
     "status": "ok",
     "timestamp": 1735284429447,
     "user": {
      "displayName": "이정수",
      "userId": "14428595979203344897"
     },
     "user_tz": -540
    },
    "id": "jv-WkTxXLwST",
    "outputId": "8465e0c7-df78-4be3-e4e7-1c20e5f9bf9e"
   },
   "outputs": [],
   "source": [
    "train.groupby('NumOfProducts')['Exited'].mean()"
   ]
  },
  {
   "cell_type": "markdown",
   "metadata": {
    "id": "B8iNN4po-g_c"
   },
   "source": [
    "###### 1_1. NumOfProducts_group 생성"
   ]
  },
  {
   "cell_type": "code",
   "execution_count": null,
   "metadata": {
    "executionInfo": {
     "elapsed": 559,
     "status": "ok",
     "timestamp": 1739854913033,
     "user": {
      "displayName": "이정수",
      "userId": "14428595979203344897"
     },
     "user_tz": -540
    },
    "id": "p9N1VsmZQHKX"
   },
   "outputs": [],
   "source": [
    "def NumOfProducts_new_categorize(x) :\n",
    "  if x == 1 :\n",
    "    return 1\n",
    "  elif x ==2 :\n",
    "    return 2\n",
    "  else :\n",
    "    return 34\n",
    "\n",
    "train['NumOfProducts_group'] = train['NumOfProducts'].apply(NumOfProducts_new_categorize)\n",
    "test['NumOfProducts_group'] = test['NumOfProducts'].apply(NumOfProducts_new_categorize)"
   ]
  },
  {
   "cell_type": "markdown",
   "metadata": {
    "id": "tD7bnDmlc_5N"
   },
   "source": [
    "##### 2.유의미 변수 정리"
   ]
  },
  {
   "cell_type": "markdown",
   "metadata": {
    "id": "SIg6-X_ykjVx"
   },
   "source": [
    "- **이탈원인**\n",
    "    - 수준 낮은 고객 서비스\n",
    "        - Tenure, NumOfProducts, HasCrCard, IsActiveMember\n",
    "    - 목표 시장에 대한 이해 부족(변화하는 고객 파악 X)\n",
    "        - Age, Geography, Gender\n",
    "    - 가격 최적화 결여(비싼가격)\n",
    "        - Balance, EstimatedSalary\n",
    "    - 제품의 시장 적합성 부족(제품이 타겟 고객 적합 X)\n",
    "        - Tenure, Balance, EstimatedSalary, NumOfProducts, CreditScore\n",
    "    - 참여도 결여(참여도가 낮은(구독 요금 안내는) 고객들 참여도와 제품 사용도 높이기)\n",
    "        - IsActiveMember, NumOfProducts\n",
    "    - 총 포함된 변수\n",
    "        - Age, Balance, CreditScore,NumOfProducts,Tenure,IsActiveMember, EstimatedSalary, Geogrphy, Gender,  HasCrCard,\n",
    "- **유입원인**\n",
    "    - 고객 니즈 파악\n",
    "        - Age, NumOrProducts, Geogrphy\n",
    "    - 선제적 지원 제공(고객이 조언을 구하기 전에 돕기)\n",
    "        - CreditScore, IsActiveMember, Balance\n",
    "    - 적합한 대상 그룹 타겟팅(타겟 고객 파악)\n",
    "        - EstimatedSalary, Geography, NumOfProducts\n",
    "    - 적극 소통\n",
    "        - IsActiveMember, Tenure\n",
    "    - 고객 이탈 경고 징후 인지\n",
    "        - Balance, CreditScore, NumOfProducts\n",
    "    - 사용자 경험 향상(긍정적 경험 이해)\n",
    "        - Age, HasCrCard, EstimatedSalary\n",
    "    - 고객 여정 지도 구축\n",
    "        - Tenure, NumOfProducts, Balance\n",
    "    - 총 포함 변수\n",
    "        - Age, Balance, CreditScore, NumOfProducts, Tenure, IsActiveMember, EstimatedSalary, Geography, HasCrCard\n",
    "\n",
    "- 공통\n",
    "    - Age, Balance, CreditScore, NumOfProducts, Tenure, IsActiveMember, EstimatedSalary, Geography, HasCrCard"
   ]
  },
  {
   "cell_type": "markdown",
   "metadata": {
    "id": "vM2pR7lH0gFX"
   },
   "source": [
    "- **예측**\n",
    "    - 양(이탈율 높게)\n",
    "        - Age, Balance, Tenure, EstimatedSalary\n",
    "    - 음(이탈율 낮게)\n",
    "        - CreditScore, NumOfProducts\n",
    "    - soso\n",
    "        - IsActiveMember, Geography, HasCrCard"
   ]
  },
  {
   "cell_type": "markdown",
   "metadata": {
    "id": "0ILYKx-Iuu7Z"
   },
   "source": [
    "##### 3.도메인 지식 기반 변수 조합"
   ]
  },
  {
   "cell_type": "markdown",
   "metadata": {
    "id": "KdLI-A423Vnz"
   },
   "source": [
    "- **고객 충성도(Tenure, NumOfPrudcts)**\n",
    "    - Age + Tenure : 나이에 따른 은행과의 관계 지속성\n",
    "        - Tenure / Age\n",
    "    - Age + NumOfProducts : 연령 별 이용 상품 수\n",
    "        - NumOfProducts / Age\n",
    "    - Balance + NumOfProducts : 잔고에 따른 이용 상품 수\n",
    "        - NumOfProducts / Balance\n",
    "    - EstimatedSalary + NumOfProducts : 이용 상품 별 예상 소득\n",
    "        - EstimatedSalary / NumOfProducts\n",
    "\n",
    "- **경제적 상황(Balance, EstimatedSalary, HasCrCard)**\n",
    "    - Balance + EstimatedSalary : 예상 소득 대비 잔고 수준\n",
    "        - Balance / EstimatedSalary\n",
    "    - Balance + Tenure : 은행 이용 기간 대비 잔고\n",
    "        - Balance / Tenure\n",
    "    - Balance + CreditScore : 신용점수 대비 잔고\n",
    "        - Balance / CreditScore\n",
    "    - Age + EstimatedSalary : 연령 대비 예상 소득\n",
    "        - EstimatedSalary / Age\n",
    "\n",
    "- **고객의 활동성(CreditScore, NumOfProducts, Tenure, IsActiveMember, HasCrCard)**\n",
    "    - IsActiveMember + NumOfProducts : 활성회원과 이용 상품 수 관계\n",
    "        - 활성회원 + 이용상품수 (6개 범주 만들기)\n",
    "    - Tenure + NumOfPRoducts : 이용 기간 대비 이용 상품 수\n",
    "        - NumOfProducts / Tenure\n",
    "    - IsActiveMember + CreditScore\n",
    "        - 1 일때 개인 신용점수 - 1일때의 신용점수 평균\n",
    "        - 0 일때 개인 신용점수 - 0일때의 신용점수 평균\n",
    "    - Tenure + IsActivemember\n",
    "        - 1일 때 이용기간 - 1일 때 평균 이용 기간\n",
    "        - 0일 때 이용기간 - 0일 때 평균 이용 기간\n",
    "\n",
    "- **지역적 특성(Geography)**\n",
    "    - Geography + Balance : 국가 대비 잔고 수준차이\n",
    "        - 개인 잔고 - 지역별 평균 잔고\n",
    "    - Geography + IsActiveMember : 국가 대비 고객 활동성\n",
    "        - 국가별 활성회원 여부 확인(6개 범주 만들기)\n",
    "    - Geogrphy + EstimatedSalary\n",
    "        - 개인 예상 연봉 - 지역 평균 예상 연봉\n",
    "\n",
    "- **리스크 관리(CreditScore, HasCrCard)**\n",
    "    - CreditScore + Balance : 신용점수 대비 잔고 수준\n",
    "        - Balance / CreditScore\n",
    "    - CreditScore + Age : 연령 별 신용점수\n",
    "        - CreditScore / Age\n",
    "    - CreditScore + Tenure : 이용 기간 대비 신용점수\n",
    "        - CreditScore / Tenure\n",
    "    - Balance + HasCrCard : 신용카드 보유 여부 대비 잔고\n",
    "        - 신용카드 없을 때 잔고 - 신용카드 없을 때 평균 잔고\n",
    "        - 신용카드 있을 때 잔고 - 신용카드 있을 때 평균 잔고\n"
   ]
  },
  {
   "cell_type": "markdown",
   "metadata": {
    "id": "7d-i6LdtUrp9"
   },
   "source": [
    "- **고객의 활동성(CreditScore, NumOfProducts, Tenure, IsActiveMember, HasCrCard)**\n",
    "    - IsActiveMember + CreditScore\n",
    "        - 1 일때 개인 신용점수 - 1일때의 신용점수 평균\n",
    "        - 0 일때 개인 신용점수 - 0일때의 신용점수 평균\n",
    "    - Tenure + IsActivemember\n",
    "        - 1일 때 이용기간 - 1일 때 평균 이용 기간\n",
    "        - 0일 때 이용기간 - 0일 때 평균 이용 기간\n",
    "\n",
    "- **지역적 특성(Geography)**\n",
    "    - Geography + Balance : 국가 대비 잔고 수준차이\n",
    "        - 개인 잔고 - 지역별 평균 잔고\n",
    "    - Geography + IsActiveMember : 국가 대비 고객 활동성\n",
    "        - 국가별 활성회원 여부 확인(6개 범주 만들기)\n",
    "    - Geogrphy + EstimatedSalary\n",
    "        - 개인 예상 연봉 - 지역 평균 예상 연봉\n",
    "\n",
    "- **리스크 관리(CreditScore, HasCrCard)**\n",
    "    - Balance + HasCrCard : 신용카드 보유 여부 대비 잔고\n",
    "        - 신용카드 없을 때 잔고 - 신용카드 없을 때 평균 잔고\n",
    "        - 신용카드 있을 때 잔고 - 신용카드 있을 때 평균 잔고\n"
   ]
  },
  {
   "cell_type": "markdown",
   "metadata": {
    "id": "elVokgoV-OR2"
   },
   "source": [
    "##### 4.파생 변수 생성\n",
    "- **범주 문자형**\n",
    "    - Geography, Gender\n",
    "- **범주 수치형**\n",
    "    - Tenure, NumOfProducts, HasCrCard, IsActiveMemebr\n",
    "- **0을 포함하는 변수 처리**\n",
    "    - 변수 원형 사용\n",
    "        - Age, CreditScore\n",
    "    - np.finfo(float).eps 사용\n",
    "        - Tenure, Balance\n",
    "    "
   ]
  },
  {
   "cell_type": "markdown",
   "metadata": {
    "id": "NEydYVtIiUj_"
   },
   "source": [
    "###### 변수 확인"
   ]
  },
  {
   "cell_type": "code",
   "execution_count": null,
   "metadata": {
    "colab": {
     "base_uri": "https://localhost:8080/"
    },
    "executionInfo": {
     "elapsed": 1697,
     "status": "ok",
     "timestamp": 1739854919010,
     "user": {
      "displayName": "이정수",
      "userId": "14428595979203344897"
     },
     "user_tz": -540
    },
    "id": "gBGOQzK08xfH",
    "outputId": "e721533b-c613-4b4b-faf9-d41494cf4ae6"
   },
   "outputs": [],
   "source": [
    "# 변수들 0 포함 여부 확인\n",
    "for i in train.columns :\n",
    "       if (train[train[i] == 0]).shape[0] != 0 :\n",
    "        print(f'{i} : {(train[train[i] == 0]).shape[0]}')\n",
    "'''\n",
    "CreditScore : 948\n",
    "Age : 9251\n",
    "Tenure : 5006\n",
    "Balance : 89633\n",
    "HasCrCard : 40602\n",
    "IsActiveMember : 82875\n",
    "Exited : 130089\n",
    "Balance_group : 89633\n",
    "'''\n",
    "train['Tenure'] = train['Tenure'] + np.finfo(float).eps\n",
    "train['Balance'] = train['Balance'] + np.finfo(float).eps\n",
    "\n",
    "# 재확인\n",
    "for i in train.columns :\n",
    "       if (train[train[i] == 0]).shape[0] != 0 :\n",
    "        print(f'{i} : {(train[train[i] == 0]).shape[0]}')"
   ]
  },
  {
   "cell_type": "markdown",
   "metadata": {
    "id": "5Y160_Fqia1O"
   },
   "source": [
    "###### 변수 0 처리\n",
    "- np.finfo(float).eps 이용\n"
   ]
  },
  {
   "cell_type": "code",
   "execution_count": null,
   "metadata": {
    "executionInfo": {
     "elapsed": 383,
     "status": "ok",
     "timestamp": 1739854921409,
     "user": {
      "displayName": "이정수",
      "userId": "14428595979203344897"
     },
     "user_tz": -540
    },
    "id": "44WHkjZvidDA"
   },
   "outputs": [],
   "source": [
    "# train\n",
    "train['Tenure'] = train['Tenure'] + np.finfo(float).eps\n",
    "test['Tenure'] = test['Tenure'] + np.finfo(float).eps\n",
    "# test\n",
    "train['Balance'] = train['Balance'] + np.finfo(float).eps\n",
    "test['Balance'] = test['Balance'] + np.finfo(float).eps"
   ]
  },
  {
   "cell_type": "code",
   "execution_count": null,
   "metadata": {
    "colab": {
     "base_uri": "https://localhost:8080/"
    },
    "executionInfo": {
     "elapsed": 426,
     "status": "ok",
     "timestamp": 1739854922248,
     "user": {
      "displayName": "이정수",
      "userId": "14428595979203344897"
     },
     "user_tz": -540
    },
    "id": "agU1uI8viyyA",
    "outputId": "f1402558-18ac-418c-daac-a59ddf6f852c"
   },
   "outputs": [],
   "source": [
    "# 검토\n",
    "for i in train.columns :\n",
    "       if (train[train[i] == 0]).shape[0] != 0 :\n",
    "        print(f'{i} : {(train[train[i] == 0]).shape[0]}')"
   ]
  },
  {
   "cell_type": "markdown",
   "metadata": {
    "id": "VPIClWpmiFnD"
   },
   "source": [
    "###### 파생 변수 생성\n"
   ]
  },
  {
   "cell_type": "code",
   "execution_count": null,
   "metadata": {
    "executionInfo": {
     "elapsed": 11023,
     "status": "ok",
     "timestamp": 1739854937108,
     "user": {
      "displayName": "이정수",
      "userId": "14428595979203344897"
     },
     "user_tz": -540
    },
    "id": "m1PRHx5z_bqs"
   },
   "outputs": [],
   "source": [
    "# train, test 합치고 후에 분리 로 진행\n",
    "combined = pd.concat([train,test])\n",
    "\n",
    "# 고객 충성도(Tenure, NumOfPrudcts)\n",
    "## Age + Tenure : 연령별 은행과의 관계 지속성\n",
    "combined['Tenure_Age'] = combined['Tenure'] / combined['Age']\n",
    "\n",
    "## Age + NumOfProducts : 연령별 이용 상품 수\n",
    "combined['NumOfProducts_Age'] = combined['NumOfProducts'] / combined['Age']\n",
    "\n",
    "## Balance + NumOfProducts : 잔고에 따른 이용 상품 수\n",
    "combined['NumOfProducts_Balance'] = combined['NumOfProducts'] / combined['Balance']\n",
    "\n",
    "## EstimatedSalary + NumOfProducts : 이용 상품 별 예상 소득\n",
    "combined['EstimatedSalary_NumOfProducts'] = combined['EstimatedSalary'] / combined['NumOfProducts']\n",
    "\n",
    "# 경제적 상황(Balance, EstimatedSalary, HasCrCard)\n",
    "\n",
    "## Balance + EstimatedSalary : 예상 소득 대비 잔고 수준\n",
    "combined['Balance_EstimatedSalary'] = combined['Balance'] / combined['EstimatedSalary']\n",
    "\n",
    "## Balance + Tenure : 은행 이용 기간 대비 잔고\n",
    "combined['Balance_Tenure'] = combined['Balance'] / combined['Tenure']\n",
    "\n",
    "## Balance + CreditScore : 신용점수 대비 잔고\n",
    "combined['Balance_CreditScore'] = combined['Balance'] / combined['CreditScore']\n",
    "\n",
    "## Age + EstimatedSalary : 연령 대비 예상 소득\n",
    "combined['EstimatedSalary_Age'] = combined['EstimatedSalary'] / combined['Age']\n",
    "\n",
    "# 고객의 활동성(CreditScore, NumOfProducts, Tenure, IsActiveMember, HasCrCard)\n",
    "\n",
    "## IsActiveMember + NumOfProducts : 활성회원과 이용 상품 수 관계 (6개 범주 만들기)\n",
    "def IsActive_NumProducts(data) :\n",
    "  if (data['IsActiveMember'] == 0) & (data['NumOfProducts'] == 1) :\n",
    "    return 1\n",
    "  elif (data['IsActiveMember'] == 0) & (data['NumOfProducts'] == 2) :\n",
    "    return 2\n",
    "  elif (data['IsActiveMember'] == 0) & (data['NumOfProducts'] == 3) :\n",
    "    return 3\n",
    "  elif (data['IsActiveMember'] == 1) & (data['NumOfProducts'] == 1) :\n",
    "    return 11\n",
    "  elif (data['IsActiveMember'] == 1) & (data['NumOfProducts'] == 2) :\n",
    "    return 12\n",
    "  else :\n",
    "    return 13\n",
    "combined['IsActiveMember_NumOfProducts'] = combined.apply(IsActive_NumProducts, axis=1)\n",
    "\n",
    "## Tenure + NumOfProducts : 이용 기간 대비 이용 상품 수 ->\n",
    "combined['NumOfProducts_Tenure'] = combined['NumOfProducts'] / combined['Tenure']\n",
    "\n",
    "## IsActiveMember + CreditScore( 개인 신용점수 - 활동 여부 별 신용점수 평균)\n",
    "combined['IsActiveMember_CreditScore'] = combined['CreditScore'] - combined.groupby('IsActiveMember')['CreditScore'].transform('mean')\n",
    "\n",
    "## Tenure + IsActiveMember\n",
    "combined['Tenure_IsActiveMember'] = combined['Tenure'] - combined.groupby('IsActiveMember')['Tenure'].transform('mean')\n",
    "\n",
    "# 지역적 특성(Geography)\n",
    "## Geography + Balance : 국가 대비 잔고 수준차이(개인잔고 - 지역별 평균 잔고)\n",
    "combined['Balance_Geography'] = combined['Balance'] - combined.groupby('Geography')['Balance'].transform('mean')\n",
    "\n",
    "## Geography + IsActiveMember : 국가 대비 고객 활동성 (6개 범주 만들기)\n",
    "def IsActive_Geography(data) :\n",
    "    if (data['IsActiveMember'] == 0) & (data['Geography'] == 'France') :\n",
    "      return 'France_0'\n",
    "    elif (data['IsActiveMember'] == 1) & (data['Geography'] == 'France') :\n",
    "      return 'France_1'\n",
    "    elif (data['IsActiveMember'] == 0) & (data['Geography'] == 'Germany') :\n",
    "      return 'Germany_0'\n",
    "    elif (data['IsActiveMember'] == 1) & (data['Geography'] == 'Germany') :\n",
    "      return 'Germany_1'\n",
    "    elif (data['IsActiveMember'] == 0) & (data['Geography'] == 'Spain') :\n",
    "      return 'Spain_0'\n",
    "    else :\n",
    "      return 'Spain_1'\n",
    "\n",
    "combined['Geography_IsActiveMember'] = combined.apply(IsActive_Geography, axis=1)\n",
    "\n",
    "## Geography + EstimatedSalary : 개인 예상 연봉 - 지역 평균 예상 연봉\n",
    "combined['EstimatedSalary_Geography'] = combined['EstimatedSalary'] - combined.groupby('Geography')['EstimatedSalary'].transform('mean')\n",
    "\n",
    "# 리스크 관리(CreditScore, HasCrCard)\n",
    "## CreditScore + Balance : 신용점수 대비 잔고 수준\n",
    "combined['Balance_CreditScore'] = combined['Balance'] / combined['CreditScore']\n",
    "\n",
    "## CreditScore + Age : 연령 별 신용점수\n",
    "combined['CreditScore_Age'] = combined['CreditScore'] / combined['Age']\n",
    "\n",
    "## CreditScore + Tenure : 이용 기간 대비 신용점수\n",
    "combined['CreditScore_Tenure'] = combined['CreditScore'] / combined['Tenure']\n",
    "\n",
    "## Balance + HasCrCard : 신용카드 보유 여부 대비 잔고\n",
    "combined['Balance_HasCrCard'] = combined['Balance'] - combined.groupby('HasCrCard')['Balance'].transform('mean')"
   ]
  },
  {
   "cell_type": "markdown",
   "metadata": {
    "id": "aWvaBs7QFlNS"
   },
   "source": [
    "#### 인코딩"
   ]
  },
  {
   "cell_type": "code",
   "execution_count": null,
   "metadata": {
    "colab": {
     "base_uri": "https://localhost:8080/"
    },
    "executionInfo": {
     "elapsed": 391,
     "status": "ok",
     "timestamp": 1739854968883,
     "user": {
      "displayName": "이정수",
      "userId": "14428595979203344897"
     },
     "user_tz": -540
    },
    "id": "HhMTMSZHdLN1",
    "outputId": "641e9205-0a37-4aa3-9520-8b25a8f7585e"
   },
   "outputs": [],
   "source": [
    "##### 문자, 범주형 변수 파악\n",
    "\n",
    "# - Object\n",
    "#     - **Geography, Gender**, Geography_IsActiveMember\n",
    "# - category\n",
    "#     - Age_Group\n",
    "# - 범주형\n",
    "#     - **Tenure, HasCrCard, NumOfProducts, IsActiveMember**\n",
    "\n",
    "for i in combined.columns :\n",
    "  if combined[i].dtypes == 'object':\n",
    "    print(i,': object')\n",
    "  elif combined[i].dtypes == 'category' :\n",
    "    print(i,': category')"
   ]
  },
  {
   "cell_type": "code",
   "execution_count": null,
   "metadata": {
    "executionInfo": {
     "elapsed": 1670,
     "status": "ok",
     "timestamp": 1739854972220,
     "user": {
      "displayName": "이정수",
      "userId": "14428595979203344897"
     },
     "user_tz": -540
    },
    "id": "UMBKnB5xKANP"
   },
   "outputs": [],
   "source": [
    "# Geography -> OneHot Encoding\n",
    "combined = pd.get_dummies(combined, columns=['Geography'],dtype=int)\n",
    "\n",
    "# Gender -> Label Encoding\n",
    "encoder = LabelEncoder()\n",
    "combined['Gender'] = encoder.fit_transform(combined['Gender'])\n",
    "\n",
    "'''\n",
    "- 매칭 값 확인 -\n",
    "코드 :\n",
    "    original_classes = encoder.classes_\n",
    "    mapping = {}\n",
    "    for i, original in enumerate(original_classes):\n",
    "        mapping[original] = i\n",
    "    print(\"매핑:\", mapping)\n",
    "\n",
    "결과 :\n",
    "    매핑: {'Female': 0, 'Male': 1}\n",
    "'''\n",
    "\n",
    "# Tenure -> Label Encoding\n",
    "encoder = LabelEncoder()\n",
    "combined['Tenure'] = encoder.fit_transform(combined['Tenure'])\n",
    "\n",
    "'''\n",
    "- 매칭 값 확인 -\n",
    "코드 :\n",
    "    original_classes = encoder.classes_\n",
    "    mapping = {}\n",
    "    for i, original in enumerate(original_classes):\n",
    "        mapping[original] = i\n",
    "    print(\"매핑:\", mapping)\n",
    "\n",
    "결과 :\n",
    "    매핑: {0: 0, 1: 1, 2: 2, 3: 3, 4: 4, 5: 5, 6: 6, 7: 7, 8: 8, 9: 9, 10: 10}\n",
    "'''\n",
    "\n",
    "# NumOfProducts -> OneHot Encoding\n",
    "combined = pd.get_dummies(combined, columns=['NumOfProducts'],dtype=int)\n",
    "\n",
    "# HasCrCard -> Label Encoding\n",
    "encoder = LabelEncoder()\n",
    "combined['HasCrCard'] = encoder.fit_transform(combined['HasCrCard'])\n",
    "\n",
    "'''\n",
    "- 매칭 값 확인 -\n",
    "코드 :\n",
    "    original_classes = encoder.classes_\n",
    "    mapping = {}\n",
    "    for i, original in enumerate(original_classes):\n",
    "        mapping[original] = i\n",
    "    print(\"매핑:\", mapping)\n",
    "\n",
    "결과 :\n",
    "    매핑: {0.0: 0, 1.0: 1}\n",
    "'''\n",
    "\n",
    "# IsActiveMember -> Label Encoding\n",
    "\n",
    "encoder = LabelEncoder()\n",
    "combined['IsActiveMember'] = encoder.fit_transform(combined['IsActiveMember'])\n",
    "\n",
    "'''\n",
    "- 매칭 값 확인 -\n",
    "코드 :\n",
    "    original_classes = encoder.classes_\n",
    "    mapping = {}\n",
    "    for i, original in enumerate(original_classes):\n",
    "        mapping[original] = i\n",
    "    print(\"매핑:\", mapping)\n",
    "\n",
    "결과 :\n",
    "    매핑: {0.0: 0, 1.0: 1}\n",
    "'''\n",
    "\n",
    "\n",
    "# Age_group\n",
    "# train['Age_group'].unique()\n",
    "Age_group_mapping = {10:1, 20:2, 30:3 , 40:4, 50:5, 57: 6}\n",
    "combined['Age_group'] = combined['Age_group'].map(Age_group_mapping)\n",
    "\n",
    "# Geography_IsActiveMember\n",
    "# train['Geography_IsActiveMember'].unique() # ['France_0', 'France_1', 'Spain_1', 'Germany_0', 'Spain_0', 'Germany_1']\n",
    "Geography_IsActiveMember_mapping = {'France_0':1, 'France_1':2, 'Spain_0':3, 'Spain_1':4, 'Germany_0':5, 'Germany_1':6}\n",
    "combined['Geography_IsActiveMember'] = combined['Geography_IsActiveMember'].map(Geography_IsActiveMember_mapping)\n",
    "\n",
    "\n",
    "\n",
    "# 스케일링 원 변수 제거\n",
    "combined.drop(columns = ['Age','Balance','CreditScore','EstimatedSalary'],inplace=True)\n",
    "\n",
    "train = combined.iloc[:train.shape[0]].copy()\n",
    "test = combined.iloc[train.shape[0]:].copy()\n",
    "\n",
    "# test 데이터 타겟 변수 제거\n",
    "test.drop(columns = 'Exited', inplace=True)"
   ]
  },
  {
   "cell_type": "markdown",
   "metadata": {
    "id": "A5Mz_UQey5oN"
   },
   "source": [
    "#### train, test scaling 변수 분포 비교"
   ]
  },
  {
   "cell_type": "code",
   "execution_count": null,
   "metadata": {
    "colab": {
     "base_uri": "https://localhost:8080/",
     "height": 1000
    },
    "executionInfo": {
     "elapsed": 8973,
     "status": "ok",
     "timestamp": 1739854982971,
     "user": {
      "displayName": "이정수",
      "userId": "14428595979203344897"
     },
     "user_tz": -540
    },
    "id": "S2-RMMJzlp4A",
    "outputId": "451a87af-b15d-4608-b27d-d652d8f1ee74"
   },
   "outputs": [],
   "source": [
    "import seaborn as sns\n",
    "import matplotlib.pyplot as plt\n",
    "\n",
    "# 주요 연속형 변수\n",
    "scaled_columns = ['Balance_Scaled', 'Age_Scaled', 'CreditScore_Scaled', 'EstimatedSalary_Scaled']\n",
    "\n",
    "# 변수별 히스토그램\n",
    "for column in scaled_columns:\n",
    "    plt.figure(figsize=(10, 6))\n",
    "    sns.histplot(train[column], color=\"blue\", label=\"Train\", kde=True)\n",
    "    sns.histplot(test[column], color=\"orange\", label=\"Test\", kde=True)\n",
    "    plt.title(f\"Distribution of {column}\")\n",
    "    plt.xlabel(column)\n",
    "    plt.ylabel(\"Frequency\")\n",
    "    plt.legend()\n",
    "    plt.show()"
   ]
  },
  {
   "cell_type": "markdown",
   "metadata": {
    "id": "FkZ0Tz_f-Hvp"
   },
   "source": [
    "#### 다중공선성(VIF)\n",
    "\n",
    "- 인코딩으로 인한 더미변수 제외 모두 다중공선성 X"
   ]
  },
  {
   "cell_type": "markdown",
   "metadata": {
    "id": "NrPENKouUAQc"
   },
   "source": [
    "```\n",
    "                          Feature        VIF\n",
    "0                      CustomerId   0.000159\n",
    "1                          Gender   1.000821\n",
    "2                          Tenure   1.109649\n",
    "3                       HasCrCard   1.000419\n",
    "4                  IsActiveMember   1.001078\n",
    "5                       Age_group   1.010235\n",
    "6                   Balance_group   7.060322\n",
    "7              CreditScore_Scaled   1.005243\n",
    "8          EstimatedSalary_Scaled   1.000079\n",
    "9                      Age_Scaled   1.010357\n",
    "10                 Balance_Scaled   7.035890\n",
    "11            NumOfProducts_group   1.024231\n",
    "12                     Tenure_Age   1.090783\n",
    "13              NumOfProducts_Age   1.411414\n",
    "14          NumOfProducts_Balance   3.844244\n",
    "15  EstimatedSalary_NumOfProducts   1.168519\n",
    "16        Balance_EstimatedSalary   1.000541\n",
    "17                 Balance_Tenure   2.138256\n",
    "18            Balance_CreditScore   4.435130\n",
    "19            EstimatedSalary_Age   1.001223\n",
    "20   IsActiveMember_NumOfProducts   1.009847\n",
    "21           NumOfProducts_Tenure   8.294561\n",
    "22     IsActiveMember_CreditScore   1.005260\n",
    "23          Tenure_IsActiveMember   1.109744\n",
    "24              Balance_Geography   2.129831\n",
    "25       Geography_IsActiveMember   1.228856\n",
    "26      EstimatedSalary_Geography   1.000013\n",
    "27                CreditScore_Age   1.006829\n",
    "28             CreditScore_Tenure  10.728240\n",
    "29              Balance_HasCrCard   4.926360\n",
    "30               Geography_France   1.113864\n",
    "31              Geography_Germany   1.367807\n",
    "32                Geography_Spain   1.016694\n",
    "33                NumOfProducts_1   1.681190\n",
    "34                NumOfProducts_2   1.603802\n",
    "35                NumOfProducts_3   1.007192\n",
    "36                NumOfProducts_4   1.001844\n",
    "```"
   ]
  },
  {
   "cell_type": "code",
   "execution_count": null,
   "metadata": {
    "id": "rjZeRfE4-JHb"
   },
   "outputs": [],
   "source": [
    "# target 변수 제외: train_features\n",
    "train_features = train.drop(columns=['Exited'])\n",
    "\n",
    "# VIF 계산 : (exog : Any, exog_idx : Any ) -> (독립변수, 독립변수 인덱스) -> 독립변수 : 독립 변수들을 포함하는 2D 배열이나 데이터프레임 /\n",
    "vif_data = pd.DataFrame()\n",
    "vif_data['Feature'] = train_features.columns\n",
    "vif_data['VIF'] = [variance_inflation_factor(train_features.values, i) for i in range(train_features.shape[1])]\n",
    "print(vif_data)"
   ]
  },
  {
   "cell_type": "markdown",
   "metadata": {
    "id": "304CAyBHQFw-"
   },
   "source": [
    "#### 추가 시각화_상관관계 히트맵"
   ]
  },
  {
   "cell_type": "markdown",
   "metadata": {
    "id": "3AJEN7o4QRoS"
   },
   "source": [
    "- **Exited**\n",
    "    - **양**\n",
    "        - **Age(0.34)**\n",
    "            - 연령이 높을수록 이탈 가능성이 다소 증가\n",
    "        - Age_group(0.33)\n",
    "            - 연령대가 높을수록 이탈 가능성이 다소 증가\n",
    "        - NumOfProducts_1(0.31)\n",
    "            - 이용중인 상품이 1개일 경우 이탈 가능성 다소 증가\n",
    "    - **음**\n",
    "        - **NumOfProducts_2(-0.38)**\n",
    "            - 이용중인 상품이 2개일 경우 이탈 가능성이 다소 감소\n",
    "        - NumOfProducts_Age(-0.32)\n",
    "            - 연령 대비 이용 상품 수가 높을수록 이탈 가능성 다소 감소\n",
    "        - CreditScore_Age(-0.29)\n",
    "            - 연령 대비 신용점수 높을수록 이탈 가능성 다소 감소\n",
    "- **전체 상관계수**\n",
    "    - 다수의 파생변수 생성으로 변수간 상관관계가 복잡해지고 중복성이 높아짐\n",
    "    - 수치의 신뢰성과 해석력 저하\n",
    "    - 전체 상관계수 분석은 참고용으로 활용"
   ]
  },
  {
   "cell_type": "code",
   "execution_count": null,
   "metadata": {
    "colab": {
     "base_uri": "https://localhost:8080/",
     "height": 960
    },
    "executionInfo": {
     "elapsed": 7593,
     "status": "ok",
     "timestamp": 1735284995286,
     "user": {
      "displayName": "이정수",
      "userId": "14428595979203344897"
     },
     "user_tz": -540
    },
    "id": "IIO-HNQQNncd",
    "outputId": "76ecca7c-817f-4050-8006-0f7a7c769ab4"
   },
   "outputs": [],
   "source": [
    "corr = train.corr()\n",
    "\n",
    "# 히트맵 시각화\n",
    "plt.figure(figsize=(30, 27))\n",
    "sns.heatmap(corr, annot=True, cmap='coolwarm', fmt='.2f', center=0, cbar=True)\n",
    "\n",
    "# 그래프 제목 추가\n",
    "plt.title('Correlation Heatmap')\n",
    "\n",
    "# 그래프 출력\n",
    "plt.show()"
   ]
  },
  {
   "cell_type": "markdown",
   "metadata": {
    "id": "2G5Y8cnPtdjI"
   },
   "source": [
    "## 2.모델링"
   ]
  },
  {
   "cell_type": "markdown",
   "metadata": {
    "id": "_8R3HVAltxBQ"
   },
   "source": [
    "### 데이터 분리"
   ]
  },
  {
   "cell_type": "code",
   "execution_count": null,
   "metadata": {
    "colab": {
     "base_uri": "https://localhost:8080/"
    },
    "executionInfo": {
     "elapsed": 844,
     "status": "ok",
     "timestamp": 1739854985300,
     "user": {
      "displayName": "이정수",
      "userId": "14428595979203344897"
     },
     "user_tz": -540
    },
    "id": "lliz5MSJtew-",
    "outputId": "ec9be879-f973-41ef-da1b-9dd580021b90"
   },
   "outputs": [],
   "source": [
    "# feature, target 분리\n",
    "train_feature = train.drop(columns='Exited')\n",
    "train_target = train['Exited']\n",
    "\n",
    "# 데이터 분리\n",
    "X_train, X_valid, y_train, y_valid = train_test_split(train_feature, train_target,\n",
    "                                                      test_size = 0.3,\n",
    "                                                      random_state=0)\n",
    "\n",
    "# 분리 데이터 크기 확인\n",
    "for i in [X_train, X_valid, y_train, y_valid] :\n",
    "  print(i.shape)\n",
    "\n",
    "# (115502, 37)\n",
    "# (49502, 37)\n",
    "# (115502,)\n",
    "# (49502,)"
   ]
  },
  {
   "cell_type": "markdown",
   "metadata": {
    "id": "GgVLDijEqmr7"
   },
   "source": [
    "### AutoML\n",
    "- GBC : Gradient Boosting Classifier\n",
    "- LightGBM : Light Gradient Boosting Machine\n",
    "- CatBoost : CatBoost Classifier\n",
    "- AdaBoost : Ada Boost Classifier\n",
    "- XGBoost : Extreme Gradient Boosting\n",
    "\n"
   ]
  },
  {
   "cell_type": "code",
   "execution_count": null,
   "metadata": {
    "colab": {
     "base_uri": "https://localhost:8080/",
     "height": 1000,
     "referenced_widgets": [
      "17548b4d3cec48929601155313f09130",
      "ea4c2255f3c0491f8dfa72d2d7e4c7b9",
      "a8bb20c406984a2fb8611761d1127f2c",
      "643b46bb86af493fbf0ed37260dcbb1e",
      "51d1977a425749c9b54194c710183978",
      "92c7a4bc8df546a2866738a51dd5676f",
      "9d67600c669f49adaf19b62bbbba850c",
      "25debd8177584c4c8748fff5d38a5dfd",
      "0952f3bff241455b9ef7e31ee8001c5d",
      "e6c67f3019c94b67ad7bdaa4166c73bc",
      "8d08767e43a24d23a69744df98e88c4c"
     ]
    },
    "executionInfo": {
     "elapsed": 1338170,
     "status": "ok",
     "timestamp": 1735286453413,
     "user": {
      "displayName": "이정수",
      "userId": "14428595979203344897"
     },
     "user_tz": -540
    },
    "id": "mbJDcVJpqoxP",
    "outputId": "4a13c8e4-2f0a-43fe-eb73-f8f00fdf73ba"
   },
   "outputs": [],
   "source": [
    "# 인덱스 번호 새로 할당\n",
    "X_train_automl = X_train.reset_index(drop=True)\n",
    "y_train_automl = y_train.reset_index(drop=True)\n",
    "\n",
    "# X_train, y_train 합치기\n",
    "Xy_train_automl = pd.concat([X_train_automl, y_train_automl], axis=1)\n",
    "\n",
    "# AutoML 모델 세팅\n",
    "clf = setup(data=Xy_train_automl,\n",
    "            target = 'Exited',\n",
    "            train_size = 0.7,\n",
    "            data_split_shuffle=True,\n",
    "            session_id = 0,\n",
    "            fold = 5\n",
    "            )\n",
    "\n",
    "# AutoML top5 model 설정\n",
    "top5_model = compare_models(fold=5, round=3, n_select=5, sort = 'AUC', errors='ignore',verbose=True)\n",
    "top5_model"
   ]
  },
  {
   "cell_type": "markdown",
   "metadata": {
    "id": "z_DT7T5f6S2O"
   },
   "source": [
    "### Optuna\n",
    "\n",
    "- GBC\n",
    "```\n",
    "Best AUC: 0.8882353624113233\n",
    "Best hyperparameters:\n",
    "  n_estimators: 449\n",
    "  learning_rate: 0.044150878877115926\n",
    "  max_depth: 6\n",
    "  min_samples_split: 2\n",
    "  min_samples_leaf: 4\n",
    "  subsample: 0.9731842381863204\n",
    "  max_features: log2\n",
    "  loss: exponential\n",
    "  ccp_alpha: 4.9347750239549366e-05\n",
    "  validation_fraction: 0.2518351573156265\n",
    "  n_iter_no_change: 18\n",
    "  tol: 0.004088217530008802\n",
    "  min_impurity_decrease: 0.03799795246825141\n",
    "  max_leaf_nodes: 95\n",
    "```\n",
    "- LightGBM\n",
    "```\n",
    "Best AUC: 0.8891460901206308\n",
    "Best hyperparameters:\n",
    "  num_boost_round: 532\n",
    "  learning_rate: 0.04137208387151803\n",
    "  num_leaves: 46\n",
    "  max_depth: -1\n",
    "  min_data_in_leaf: 86\n",
    "  feature_fraction: 0.8139255851821137\n",
    "  bagging_fraction: 0.8082068952185747\n",
    "  bagging_freq: 4\n",
    "  min_gain_to_split: 0.5814034631622789\n",
    "  lambda_l1: 0.07098715189710325\n",
    "  lambda_l2: 0.07241610219010308\n",
    "  tree_learner: feature\n",
    "  max_bin: 343\n",
    "  early_stopping_rounds: 50\n",
    "  num_threads: 3\n",
    "  scale_pos_weight: 2.872248166434921\n",
    "```\n",
    "- CatBoost\n",
    "```\n",
    "Best AUC: 0.8891316004587454\n",
    "Best hyperparameters:\n",
    "  iterations: 193\n",
    "  learning_rate: 0.05731626408645584\n",
    "  depth: 5\n",
    "  l2_leaf_reg: 0.12172037289908884\n",
    "  random_strength: 0.11159304953837404\n",
    "  bagging_temperature: 2.0950687664171803\n",
    "  grow_policy: Lossguide\n",
    "  border_count: 147\n",
    "  od_wait: 40\n",
    "```\n",
    "- AdaBoost\n",
    "```\n",
    "Best AUC: 0.8874794558932251\n",
    "Best hyperparameters:\n",
    "  n_estimators: 312\n",
    "  learning_rate: 0.06668653847352878\n",
    "  algorithm: SAMME\n",
    "  random_state: 853\n",
    "  max_depth: 8\n",
    "  min_samples_split: 3\n",
    "  min_samples_leaf: 6\n",
    "  max_features: log2\n",
    "  max_leaf_nodes: 16\n",
    "  min_impurity_decrease: 0.00026999077869702197\n",
    "```\n",
    "- XGBoost\n",
    "```\n",
    "Best AUC: 0.8872248463597316\n",
    "Best hyperparameters:\n",
    "  num_round: 349\n",
    "  alpha: 0.10967146719877353\n",
    "  base_score: 0.8675191316221191\n",
    "  booster: gbtree\n",
    "  colsample_bylevel: 0.6587236837621269\n",
    "  colsample_bynode: 0.4542054877542777\n",
    "  colsample_bytree: 0.8836850766965889\n",
    "  eta: 0.23332571464656857\n",
    "  eval_metric: auc\n",
    "  gamma: 0.2762294374380138\n",
    "  grow_policy: depthwise\n",
    "  lambda: 4.034139666189761\n",
    "  max_bin: 497\n",
    "  max_delta_step: 8\n",
    "  max_depth: 12\n",
    "  max_leaves: 48\n",
    "  min_child_weight: 9.477651521287859\n",
    "  objective: binary:logistic\n",
    "  scale_pos_weight: 8.433168368359874\n",
    "  seed: 434\n",
    "  subsample: 0.9545112785469709\n",
    "  verbosity: 1\n",
    "  early_stopping_rounds: 54                    \n",
    "```\n",
    "\n"
   ]
  },
  {
   "cell_type": "markdown",
   "metadata": {
    "id": "RTcA7UCC6bhI"
   },
   "source": [
    "#### GBC : Gradient Boosting Classifier"
   ]
  },
  {
   "cell_type": "code",
   "execution_count": null,
   "metadata": {
    "id": "M7i9VdpY748u"
   },
   "outputs": [],
   "source": [
    "sampler = TPESampler(seed=0)\n",
    "\n",
    "def objective(trial):\n",
    "    params = {\n",
    "        'n_estimators': trial.suggest_int('n_estimators', 100, 500),                          # 트리의 개수\n",
    "        'learning_rate': trial.suggest_float('learning_rate', 0.01, 0.2),                     # 학습률\n",
    "        'max_depth': trial.suggest_int('max_depth', 3, 10),                                   # 트리의 최대 깊이\n",
    "        'min_samples_split': trial.suggest_int('min_samples_split', 2, 10),                   # 분할을 위한 최소 샘플 수\n",
    "        'min_samples_leaf': trial.suggest_int('min_samples_leaf', 1, 10),                     # 리프 노드에 최소한 있어야 할 샘플 수\n",
    "        'subsample': trial.suggest_float('subsample', 0.6, 1.0),                              # 샘플링 비율\n",
    "        'max_features': trial.suggest_categorical('max_features', ['sqrt', 'log2', None]),    # 분할에 사용할 특성의 수\n",
    "        'loss': trial.suggest_categorical('loss', ['log_loss', 'exponential']),               # 손실 함수\n",
    "        'ccp_alpha': trial.suggest_float('ccp_alpha', 0.0, 0.1),                              # 가지치기 파라미터\n",
    "        'random_state': 0,                                                                    # 고정된 랜덤 시드\n",
    "        'validation_fraction': trial.suggest_float('validation_fraction', 0.1, 0.3),          # 검증 데이터 비율\n",
    "        'n_iter_no_change': trial.suggest_int('n_iter_no_change', 5, 20),                     # 성능 향상이 없을 경우 훈련 중단\n",
    "        'tol': trial.suggest_float('tol', 1e-4, 1e-2),                                        # 수렴을 위한 tolerance 값\n",
    "        'min_impurity_decrease': trial.suggest_float('min_impurity_decrease', 0.0, 0.1),      # 불순도 감소 기준\n",
    "        'max_leaf_nodes': trial.suggest_int('max_leaf_nodes', 10, 100),                       # 최대 리프 노드 수\n",
    "    }\n",
    "\n",
    "    cv = StratifiedKFold(n_splits=5, shuffle=True, random_state=0)\n",
    "    auc_list = []\n",
    "\n",
    "    for _, (train_index, valid_index) in enumerate(cv.split(train_feature,train_target)):\n",
    "        X_train, y_train = train_feature.iloc[train_index], train_target.iloc[train_index]\n",
    "        X_valid, y_valid = train_feature.iloc[valid_index], train_target.iloc[valid_index]\n",
    "\n",
    "\n",
    "        gbc_model = GradientBoostingClassifier(**params)\n",
    "        gbc_model.fit(X_train, y_train)\n",
    "\n",
    "        # 예측 확률 계산\n",
    "        y_prob = gbc_model.predict_proba(X_valid)[:,1]\n",
    "        auc_score = roc_auc_score(y_valid, y_prob)\n",
    "        auc_list.append(auc_score)\n",
    "\n",
    "    # 평균 auc 반환\n",
    "    mean_auc = np.mean(auc_list)\n",
    "    return mean_auc\n",
    "\n",
    "# optuna 최적화 실행(AUC 최대화)\n",
    "optuna_gbc = optuna.create_study(direction='maximize', sampler=sampler)\n",
    "optuna_gbc.optimize(objective, n_trials=50)\n",
    "\n",
    "# 최적 결과 출력\n",
    "best_trial = optuna_gbc.best_trial\n",
    "print(f\"Best AUC: {best_trial.value}\")\n",
    "print(\"Best hyperparameters:\")\n",
    "for key, value in best_trial.params.items():\n",
    "    print(f\"  {key}: {value}\")"
   ]
  },
  {
   "cell_type": "markdown",
   "metadata": {
    "id": "I-njRTo9ByOR"
   },
   "source": [
    "#### LightGBM : Light Gradient Boosting Machine"
   ]
  },
  {
   "cell_type": "code",
   "execution_count": null,
   "metadata": {
    "id": "qw-u2hikHHZK"
   },
   "outputs": [],
   "source": [
    "sampler = TPESampler(seed=0)\n",
    "\n",
    "def objective(trial):\n",
    "    params = {\n",
    "        'num_boost_round': trial.suggest_int('num_boost_round', 100, 1000),                                   # 최대 부스팅 반복 횟수 (트리의 수) / default: 100\n",
    "        'learning_rate': trial.suggest_float('learning_rate', 0.01, 0.1),                                     # 학습률 (각 예제마다 가중치를 업데이트하는 비율) / default: 0.1\n",
    "        'num_leaves': trial.suggest_int('num_leaves', 31, 128),                                               # 트리의 최대 잎 수 / default: 64\n",
    "        'max_depth': trial.suggest_int('max_depth', -1, 15),                                                  # 트리의 최대 깊이 / default: 6\n",
    "        'min_data_in_leaf': trial.suggest_int('min_data_in_leaf', 20, 100),                                   # 각 리프 노드에 최소 데이터 수 / default: 3\n",
    "        'feature_fraction': trial.suggest_float('feature_fraction', 0.6, 1.0),                                # 각 트리에서 선택할 특징의 비율 / default: 0.9\n",
    "        'bagging_fraction': trial.suggest_float('bagging_fraction', 0.6, 1.0),                                # 배깅의 비율 (데이터의 일부를 무작위로 선택) / default: 0.9\n",
    "        'bagging_freq': trial.suggest_int('bagging_freq', 1, 10),                                             # 배깅을 수행하는 빈도 / default: 1\n",
    "        'min_gain_to_split': trial.suggest_float('min_gain_to_split', 0.0, 1.0),                              # 각 트리에서 사용할 최소 게인 / default: 0.0\n",
    "        'lambda_l1': trial.suggest_float('lambda_l1', 0.0, 0.1),                                              # L1 정규화 / default: 0.0\n",
    "        'lambda_l2': trial.suggest_float('lambda_l2', 0.0, 0.1),                                              # L2 정규화 / default: 0.0\n",
    "        'tree_learner': trial.suggest_categorical('tree_learner', ['serial', 'feature', 'data', 'voting']),   # 트리 훈련자 유형 / default: 'serial'\n",
    "        'max_bin': trial.suggest_int('max_bin', 255, 512),                                                    # 최대 빈 수 (기능 값을 버킷화하는 데 사  용) / default: 255\n",
    "        'early_stopping_rounds': trial.suggest_int('early_stopping_rounds', 10, 50),                          # 조기 중단 라운드 / default: 10\n",
    "        'metric': 'auc',                                                                                      # 평가 지표 (auc 고정)\n",
    "        'num_threads': trial.suggest_int('num_threads', 1, 8),                                                # 트리 학습에 사용하는 스레드 수 / default: 0\n",
    "        'scale_pos_weight': trial.suggest_float('scale_pos_weight', 1.0, 5.0),                                # 스케일링된 레이블의 가중치 (바이너리 분류에만 사용) / default: 1.0\n",
    "        'verbosity': 0                                                                                        # 인쇄메시지\n",
    "    }\n",
    "\n",
    "    cv = StratifiedKFold(n_splits=5, shuffle=True, random_state=0)\n",
    "    auc_list = []\n",
    "\n",
    "    for _, (train_index, valid_index) in enumerate(cv.split(train_feature,train_target)):\n",
    "        X_train, y_train = train_feature.iloc[train_index], train_target.iloc[train_index]\n",
    "        X_valid, y_valid = train_feature.iloc[valid_index], train_target.iloc[valid_index]\n",
    "\n",
    "        # LightGBM 모델 학습\n",
    "        train_data = lgb.Dataset(X_train, label=y_train)\n",
    "        valid_data = lgb.Dataset(X_valid, label=y_valid)\n",
    "\n",
    "        # lightGBM 모델 학습\n",
    "        lgb_model = lgb.train(\n",
    "            params,\n",
    "            train_data,\n",
    "            valid_sets = [train_data, valid_data]\n",
    "        )\n",
    "\n",
    "        # 예측 확률 계산\n",
    "        y_prob = lgb_model.predict(X_valid)\n",
    "        auc_score = roc_auc_score(y_valid, y_prob)\n",
    "        auc_list.append(auc_score)\n",
    "\n",
    "    # 평균 auc 반환\n",
    "    mean_auc = np.mean(auc_list)\n",
    "    return mean_auc\n",
    "\n",
    "# optuna 최적화 실행(AUC 최대화)\n",
    "optuna_lgb = optuna.create_study(direction='maximize', sampler=sampler)\n",
    "optuna_lgb.optimize(objective, n_trials=50)\n",
    "\n",
    "# 최적 결과 출력\n",
    "best_trial = optuna_lgb.best_trial\n",
    "print(f\"Best AUC: {best_trial.value}\")\n",
    "print(\"Best hyperparameters:\")\n",
    "for key, value in best_trial.params.items():\n",
    "    print(f\"  {key}: {value}\")"
   ]
  },
  {
   "cell_type": "markdown",
   "metadata": {
    "id": "t8gMTKMdx-Gw"
   },
   "source": [
    "#### Catboost : CatBoost Classifier\n"
   ]
  },
  {
   "cell_type": "code",
   "execution_count": null,
   "metadata": {
    "id": "dROq_yyVyGG_"
   },
   "outputs": [],
   "source": [
    "sampler = TPESampler(seed=0)\n",
    "\n",
    "def objective(trial):\n",
    "    # 하이퍼파라미터 정의\n",
    "    params = {\n",
    "        \"iterations\": trial.suggest_int(\"iterations\", 100, 1000),                                               # 트리 개수 (Boosting 반복 횟수) / default: 1000\n",
    "        \"learning_rate\": trial.suggest_loguniform(\"learning_rate\", 1e-4, 1.0),                                  # 학습률 (트리의 가중치를 조정하는 비율) / default: 0.03\n",
    "        \"depth\": trial.suggest_int(\"depth\", 1, 16),                                                             # 트리의 최대 깊이 (과적합 방지) / default: 6\n",
    "        \"l2_leaf_reg\": trial.suggest_loguniform(\"l2_leaf_reg\", 1e-2, 10.0),                                     # L2 정규화 계수 (과적합 방지) / default: 3.0\n",
    "        \"random_strength\": trial.suggest_loguniform(\"random_strength\", 1e-2, 10.0),                             # 트리 분할 시 무작위성 정도 (과적합 방지) / default: 1.0\n",
    "        \"bagging_temperature\": trial.suggest_loguniform(\"bagging_temperature\", 1e-5, 10.0),                     # 베이지안 부트스트랩 샘플링 강도 (1 이상이면 샘플링 강화) / default: 1.0\n",
    "        \"grow_policy\": trial.suggest_categorical(\"grow_policy\", [\"SymmetricTree\", \"Depthwise\", \"Lossguide\"]),   # 트리 성장 정책 (균형 성장 vs 깊이 우선 vs 손실 기반) / default: SymmetricTree\n",
    "        \"border_count\": trial.suggest_int(\"border_count\", 1, 255),                                              # 연속형 피처를 구간화할 때 사용할 분할 개수 / default: 254\n",
    "        \"thread_count\": -1,                                                                                     # 사용할 CPU 스레드 개수 (-1이면 모든 코어 사용) / default: -1\n",
    "        \"random_seed\": 42,                                                                                      # 재현 가능성을 위한 난수 시드 고정 / default: 없음\n",
    "        \"eval_metric\": \"AUC\",                                                                                   # 평가 지표 (Area Under Curve) / default: Logloss\n",
    "        \"verbose\": 0,                                                                                           # 학습 과정 출력 여부 (0이면 출력 안 함)\n",
    "        \"od_type\": \"Iter\",                                                                                      # 조기 종료 조건 (Iteration 기반) / default: IncToDec\n",
    "        \"od_wait\": trial.suggest_int(\"od_wait\", 10, 50),                                                        # 조기 종료를 위한 대기 스텝 수 / default: 50\n",
    "        \"task_type\": \"CPU\",                                                                                     # 실행 환경 설정 (CPU 사용)\n",
    "        \"loss_function\": \"Logloss\"                                                                              # 손실 함수 (이진 분류 문제에서는 Logloss 사용)\n",
    "    }\n",
    "\n",
    "    cv = StratifiedKFold(n_splits=5, shuffle=True, random_state=0)\n",
    "    auc_list = []\n",
    "\n",
    "    # 범주형 컬럼 자동 감지\n",
    "    cat_features_indices = [\n",
    "        train_feature.columns.get_loc(col)\n",
    "        for col in train_feature.select_dtypes(include=['category']).columns\n",
    "    ]\n",
    "\n",
    "    for _, (train_index, valid_index) in enumerate(cv.split(train_feature, train_target)):\n",
    "        X_train, y_train = train_feature.iloc[train_index], train_target.iloc[train_index]\n",
    "        X_valid, y_valid = train_feature.iloc[valid_index], train_target.iloc[valid_index]\n",
    "\n",
    "        # CatBoostClassifier 초기화 및 학습\n",
    "        cat_model = CatBoostClassifier(**params)\n",
    "        cat_model.fit(\n",
    "            X_train, y_train,\n",
    "            eval_set=(X_valid, y_valid),\n",
    "            early_stopping_rounds=50,\n",
    "            verbose=0,\n",
    "            cat_features=cat_features_indices  # 범주형 컬럼 지정\n",
    "        )\n",
    "\n",
    "        # 예측 확률 계산\n",
    "        y_score = cat_model.predict_proba(X_valid)[:, 1]\n",
    "        auc_score = roc_auc_score(y_valid, y_score)\n",
    "        auc_list.append(auc_score)\n",
    "\n",
    "    # 평균 auc 반환\n",
    "    mean_auc = np.mean(auc_list)\n",
    "    return mean_auc\n",
    "\n",
    "# optuna 최적화 실행(AUC 최대화)\n",
    "optuna_cat = optuna.create_study(direction='maximize', sampler=sampler)\n",
    "optuna_cat.optimize(objective, n_trials=50)\n",
    "\n",
    "# 최적 결과 출력\n",
    "best_trial = optuna_cat.best_trial\n",
    "print(f\"Best AUC: {best_trial.value}\")\n",
    "print(\"Best hyperparameters:\")\n",
    "for key, value in best_trial.params.items():\n",
    "    print(f\"  {key}: {value}\")\n"
   ]
  },
  {
   "cell_type": "markdown",
   "metadata": {
    "id": "V40L3QULOnqI"
   },
   "source": [
    "#### XGBoost : Extreme Gradient Boosting"
   ]
  },
  {
   "cell_type": "code",
   "execution_count": null,
   "metadata": {
    "id": "lW5A3Q1sOuMN"
   },
   "outputs": [],
   "source": [
    "sampler = TPESampler(seed=0)\n",
    "\n",
    "def objective(trial):\n",
    "    params = {\n",
    "        'num_round': trial.suggest_int('num_round', 100, 1000),                               # 부스팅 반복 횟수 (트리 개수) / default: 100\n",
    "        'alpha': trial.suggest_float('alpha', 0.0, 1.0),                                      # L1 정규화 항 (Lasso 규제, 가중치 감소 효과) / default: 0.0\n",
    "        'base_score': trial.suggest_float('base_score', 0.0, 1.0),                            # 초기 예측값 (모든 샘플의 기본 예측값) / default: 0.5\n",
    "        'booster': trial.suggest_categorical('booster', ['gbtree']),                          # 부스팅 방식 ('gbtree': 트리 기반, 'gblinear': 선형 모델) / default: 'gbtree'\n",
    "        'colsample_bylevel': trial.suggest_float('colsample_bylevel', 0.1, 1.0),              # 트리의 각 레벨에서 선택할 피처 비율 / default: 1.0\n",
    "        'colsample_bynode': trial.suggest_float('colsample_bynode', 0.1, 1.0),                # 트리 각 노드에서 선택할 피처 비율 / default: 1.0\n",
    "        'colsample_bytree': trial.suggest_float('colsample_bytree', 0.1, 1.0),                # 각 트리에서 선택할 피처 비율 (컬럼 샘플링) / default: 1.0\n",
    "        'eta': trial.suggest_float('eta', 0.01, 0.3),                                         # 학습률 (트리 가중치 업데이트 비율) / default: 0.3\n",
    "        'eval_metric': 'auc',                                                                 # 평가 지표 (AUC로 고정)\n",
    "        'gamma': trial.suggest_float('gamma', 0.0, 1.0),                                      # 트리 분할을 위한 최소 손실 감소값 (클수록 보수적 분할) / default: 0.0\n",
    "        'grow_policy': trial.suggest_categorical('grow_policy', ['depthwise', 'lossguide']),  # 트리 성장 방식 ('depthwise': 깊이 우선, 'lossguide': 손실 기반) / default: 'depthwise'\n",
    "        'lambda': trial.suggest_float('lambda', 0.0, 10.0),                                   # L2 정규화 항 (Ridge 규제, 과적합 방지) / default: 1.0\n",
    "        'max_bin': trial.suggest_int('max_bin', 10, 512),                                     # 연속형 변수를 이산화할 때 사용할 빈 개수 / default: 256\n",
    "        'max_delta_step': trial.suggest_int('max_delta_step', 0, 10),                         # 클래스 불균형 보정 (가중치 변화 제한) / default: 0\n",
    "        'max_depth': trial.suggest_int('max_depth', 3, 12),                                   # 개별 트리의 최대 깊이 (깊을수록 모델 복잡도 증가) / default: 6\n",
    "        'max_leaves': trial.suggest_int('max_leaves', 0, 50),                                 # 트리의 최대 리프 노드 개수 (0이면 제한 없음) / default: 0\n",
    "        'min_child_weight': trial.suggest_float('min_child_weight', 0.1, 10.0),               # 리프 노드가 분할되기 위한 최소 가중치 합 (클수록 덜 분할) / default: 1.0\n",
    "        'objective': 'binary:logistic',                                                       # 학습 목표 (이진 분류: 로지스틱 회귀) / default: 'binary:logistic'\n",
    "        'scale_pos_weight': trial.suggest_float('scale_pos_weight', 0.1, 10.0),               # 불균형 데이터 조정 가중치 / default: 1.0\n",
    "        'seed': trial.suggest_int('seed', 0, 1000),                                           # 난수 시드 (재현 가능성 확보) / default: 0\n",
    "        'subsample': trial.suggest_float('subsample', 0.5, 1.0),                              # 트리 학습 시 사용하는 샘플링 비율 (과적합 방지) / default: 1.0\n",
    "        'verbosity': trial.suggest_int('verbosity', 0, 3),                                    # 출력 메시지 수준 (0: 없음, 3: 상세 로그) / default: 1\n",
    "    }\n",
    "\n",
    "    cv = StratifiedKFold(n_splits=5, shuffle=True, random_state=0)\n",
    "    auc_list = []\n",
    "\n",
    "    for _, (train_index, valid_index) in enumerate(cv.split(train_feature,train_target)):\n",
    "        X_train, y_train = train_feature.iloc[train_index], train_target.iloc[train_index]\n",
    "        X_valid, y_valid = train_feature.iloc[valid_index], train_target.iloc[valid_index]\n",
    "\n",
    "        dtrain = xgb.DMatrix(X_train, label=y_train,enable_categorical=True)\n",
    "        dvalid = xgb.DMatrix(X_valid, label=y_valid,enable_categorical=True)\n",
    "\n",
    "        xgb_model = xgb.train(\n",
    "            params,\n",
    "            dtrain,\n",
    "            evals=[(dtrain, 'train'), (dvalid, 'valid')],\n",
    "            early_stopping_rounds=trial.suggest_int('early_stopping_rounds', 10, 100)\n",
    "        )\n",
    "\n",
    "        # 예측 확률 계산\n",
    "        y_prob = xgb_model.predict(dvalid)\n",
    "        auc_score = roc_auc_score(y_valid, y_prob)\n",
    "        auc_list.append(auc_score)\n",
    "\n",
    "    # 평균 auc 반환\n",
    "    mean_auc = np.mean(auc_list)\n",
    "    return mean_auc\n",
    "\n",
    "# optuna 최적화 실행(AUC 최대화)\n",
    "optuna_xgb = optuna.create_study(direction='maximize', sampler=sampler)\n",
    "optuna_xgb.optimize(objective, n_trials=50)\n",
    "\n",
    "# 최적 결과 출력\n",
    "best_trial = optuna_xgb.best_trial\n",
    "print(f\"Best AUC: {best_trial.value}\")\n",
    "print(\"Best hyperparameters:\")\n",
    "for key, value in best_trial.params.items():\n",
    "    print(f\"  {key}: {value}\")"
   ]
  },
  {
   "cell_type": "markdown",
   "metadata": {
    "id": "JbF7oIrLfUZf"
   },
   "source": [
    "#### AdaBoost : Ada Boost Classifier"
   ]
  },
  {
   "cell_type": "code",
   "execution_count": null,
   "metadata": {
    "id": "jrOzDy9dgC0k"
   },
   "outputs": [],
   "source": [
    "sampler = TPESampler(seed=0)\n",
    "\n",
    "def objective(trial):\n",
    "    params = {\n",
    "        'n_estimators': trial.suggest_int('n_estimators', 10, 500),                         # 부스팅할 약한 학습기의 개수 / default: 50\n",
    "        'learning_rate': trial.suggest_float('learning_rate', 0.01, 1.0, log=True),         # 학습률 (작을수록 보수적 학습) / default: 1.0\n",
    "        'algorithm': trial.suggest_categorical('algorithm', ['SAMME', 'SAMME.R']),          # 부스팅 알고리즘 ('SAMME': 분류기 확률 사용 안 함, 'SAMME.R': 확률 사용) / default: 'SAMME.R'\n",
    "        'random_state': trial.suggest_int('random_state', 0, 1000)                          # 난수 시드 (재현 가능성 확보) / default: None\n",
    "    }\n",
    "\n",
    "    # 기본 학습기 (약한 학습기)로 결정 트리 사용 시 세부 하이퍼파라미터 설정\n",
    "    base_estimator_params = {\n",
    "        'max_depth': trial.suggest_int('max_depth', 1, 10),                                 # 트리의 최대 깊이 (깊을수록 복잡한 모델) / default: None (무제한)\n",
    "        'min_samples_split': trial.suggest_int('min_samples_split', 2, 20),                 # 노드를 분할하기 위한 최소 샘플 개수 / default: 2\n",
    "        'min_samples_leaf': trial.suggest_int('min_samples_leaf', 1, 20),                   # 리프 노드에 있어야 하는 최소 샘플 개수 / default: 1\n",
    "        'max_features': trial.suggest_categorical('max_features', [None, 'sqrt', 'log2']),  # 트리 분할 시 사용할 최대 특성 개수 / default: None (모든 특성 사용)\n",
    "        'max_leaf_nodes': trial.suggest_int('max_leaf_nodes', 10, 100, log=True),           # 리프 노드 최대 개수 (과적합 방지) / default: None (제한 없음)\n",
    "        'min_impurity_decrease': trial.suggest_float('min_impurity_decrease', 0.0, 0.1)     # 최소 불순도 감소 기준 (값이 클수록 덜 분할) / default: 0.0\n",
    "    }\n",
    "\n",
    "    cv = StratifiedKFold(n_splits=5, shuffle=True, random_state=0)\n",
    "    auc_list = []\n",
    "\n",
    "    for _, (train_index, valid_index) in enumerate(cv.split(train_feature,train_target)):\n",
    "        X_train, y_train = train_feature.iloc[train_index], train_target.iloc[train_index]\n",
    "        X_valid, y_valid = train_feature.iloc[valid_index], train_target.iloc[valid_index]\n",
    "\n",
    "\n",
    "        base_estimator = DecisionTreeClassifier(**base_estimator_params)\n",
    "\n",
    "\n",
    "        ada_model = AdaBoostClassifier(estimator=  base_estimator, **params)\n",
    "        ada_model.fit(X_train,y_train)\n",
    "\n",
    "        # 예측 확률 계산\n",
    "        y_prob = ada_model.predict_proba(X_valid)[:,1]\n",
    "        auc_score = roc_auc_score(y_valid, y_prob)\n",
    "        auc_list.append(auc_score)\n",
    "\n",
    "    # 평균 auc 반환\n",
    "    mean_auc = np.mean(auc_list)\n",
    "    return mean_auc\n",
    "\n",
    "# optuna 최적화 실행(AUC 최대화)\n",
    "optuna_ada = optuna.create_study(direction='maximize', sampler=sampler)\n",
    "optuna_ada.optimize(objective, n_trials=50)\n",
    "\n",
    "# 최적 결과 출력\n",
    "best_trial = optuna_ada.best_trial\n",
    "print(f\"Best AUC: {best_trial.value}\")\n",
    "print(\"Best hyperparameters:\")\n",
    "for key, value in best_trial.params.items():\n",
    "    print(f\"  {key}: {value}\")"
   ]
  },
  {
   "cell_type": "markdown",
   "metadata": {
    "id": "_W58-5ySSrDt"
   },
   "source": [
    "### 보팅"
   ]
  },
  {
   "cell_type": "markdown",
   "metadata": {
    "id": "sKs-sf68SsHJ"
   },
   "source": [
    "- 하드 보팅\n",
    "    - 예측값들 중 다수 분류기가 결정한 예측값을 최종 보팅 결괏값(다수결)\n",
    "- **소프트 보팅**\n",
    "    - **레이블 값 결정 확률을 모두 더하고 이를 평균해서 이들 중 확률이 가장 높은 레이블 값**\n",
    "        - gbc: 0.8882353624113233\n",
    "        - lightgbm: 0.8891460901206308 (가장 높은 성능)\n",
    "        - xgboost: 0.8872248463597316\n",
    "        - ada: 0.8874794558932251\n",
    "        - catboost: 0.8891316004587454"
   ]
  },
  {
   "cell_type": "markdown",
   "metadata": {
    "id": "NYokUQOZYThK"
   },
   "source": [
    "#### 조합 생성"
   ]
  },
  {
   "cell_type": "code",
   "execution_count": null,
   "metadata": {
    "colab": {
     "base_uri": "https://localhost:8080/"
    },
    "executionInfo": {
     "elapsed": 406,
     "status": "ok",
     "timestamp": 1739854991089,
     "user": {
      "displayName": "이정수",
      "userId": "14428595979203344897"
     },
     "user_tz": -540
    },
    "id": "LE9VZ5uXYV0B",
    "outputId": "bd7de9f7-9758-42d0-9a53-7ce688f2ddd2"
   },
   "outputs": [],
   "source": [
    "models = ['lightgbm','gbc','ada','xgboost','Ridge']\n",
    "\n",
    "model_combinations = []\n",
    "for i in range(1,len(models) + 1) :\n",
    "  model_combinations.extend(combinations(models,i))\n",
    "\n",
    "\n",
    "for combo in model_combinations :\n",
    "  print(combo)"
   ]
  },
  {
   "cell_type": "markdown",
   "metadata": {
    "id": "8r7fs7_JfkFg"
   },
   "source": [
    "#### 2. 가중치"
   ]
  },
  {
   "cell_type": "code",
   "execution_count": null,
   "metadata": {
    "executionInfo": {
     "elapsed": 392,
     "status": "ok",
     "timestamp": 1739854993167,
     "user": {
      "displayName": "이정수",
      "userId": "14428595979203344897"
     },
     "user_tz": -540
    },
    "id": "RWN0h4XFfllY"
   },
   "outputs": [],
   "source": [
    "roc_score = {\n",
    "    'lightgbm' : 0.8891460901206308,\n",
    "    'gbc' : 0.8882353624113233,\n",
    "    'ada' : 0.8874794558932251,\n",
    "    'xgboost' : 0.8872248463597316,\n",
    "    'catboost' :  0.8891316004587454\n",
    "}\n",
    "\n",
    "total_roc = sum(roc_score.values())\n",
    "weights = {model : roc_score[model] / total_roc for model in roc_score}"
   ]
  },
  {
   "cell_type": "markdown",
   "metadata": {
    "id": "cTf6jn4uIYN-"
   },
   "source": [
    "#### 3. 소프트 보팅 구현"
   ]
  },
  {
   "cell_type": "code",
   "execution_count": null,
   "metadata": {
    "id": "lp7jGnq4IbMq"
   },
   "outputs": [],
   "source": [
    "# 범주형 컬럼 자동 감지\n",
    "cat_features_indices = [\n",
    "    train_feature.columns.get_loc(col)\n",
    "    for col in train_feature.select_dtypes(include=['category']).columns\n",
    "]\n",
    "\n",
    "# 모델 정의 (Optuna 결과 반영)\n",
    "models_dict = {\n",
    "    'lightgbm': LGBMClassifier(\n",
    "        num_boost_round=532,\n",
    "        learning_rate=0.04137208387151803,\n",
    "        num_leaves=46,\n",
    "        max_depth=-1,\n",
    "        min_data_in_leaf=86,\n",
    "        feature_fraction=0.8139255851821137,\n",
    "        bagging_fraction=0.8082068952185747,\n",
    "        bagging_freq=4,\n",
    "        min_gain_to_split=0.5814034631622789,\n",
    "        lambda_l1=0.07098715189710325,\n",
    "        lambda_l2=0.07241610219010308,\n",
    "        tree_learner='feature',\n",
    "        max_bin=343,\n",
    "        num_threads=3,\n",
    "        scale_pos_weight=2.872248166434921\n",
    "    ),\n",
    "    'gbc': GradientBoostingClassifier(\n",
    "        n_estimators=449,\n",
    "        learning_rate=0.044150878877115926,\n",
    "        max_depth=6,\n",
    "        min_samples_split=2,\n",
    "        min_samples_leaf=4,\n",
    "        subsample=0.9731842381863204,\n",
    "        max_features='log2',\n",
    "        loss='exponential',\n",
    "        ccp_alpha=4.9347750239549366e-05,\n",
    "        validation_fraction=0.2518351573156265,\n",
    "        n_iter_no_change=18,\n",
    "        tol=0.004088217530008802,\n",
    "        min_impurity_decrease=0.03799795246825141,\n",
    "        max_leaf_nodes=95\n",
    "    ),\n",
    "    'ada': AdaBoostClassifier(\n",
    "        estimator=DecisionTreeClassifier(\n",
    "            max_depth=8,\n",
    "            min_samples_split=3,\n",
    "            min_samples_leaf=6,\n",
    "            max_features='log2',\n",
    "            max_leaf_nodes=16,\n",
    "            min_impurity_decrease=0.00026999077869702197\n",
    "        ),\n",
    "        n_estimators=312,\n",
    "        learning_rate=0.06668653847352878,\n",
    "        algorithm='SAMME',\n",
    "        random_state=853\n",
    "    ),\n",
    "    'xgboost': XGBClassifier(\n",
    "        n_estimators=349,\n",
    "        alpha=0.10967146719877353,\n",
    "        base_score=0.8675191316221191,\n",
    "        booster='gbtree',\n",
    "        colsample_bylevel=0.6587236837621269,\n",
    "        colsample_bynode=0.4542054877542777,\n",
    "        colsample_bytree=0.8836850766965889,\n",
    "        learning_rate=0.23332571464656857,\n",
    "        eval_metric='auc',\n",
    "        gamma=0.2762294374380138,\n",
    "        grow_policy='depthwise',\n",
    "        reg_lambda=4.034139666189761,\n",
    "        max_bin=497,\n",
    "        max_delta_step=8,\n",
    "        max_depth=12,\n",
    "        max_leaves=48,\n",
    "        min_child_weight=9.477651521287859,\n",
    "        objective='binary:logistic',\n",
    "        scale_pos_weight=8.433168368359874,\n",
    "        seed=434,\n",
    "        subsample=0.9545112785469709,\n",
    "        verbosity=1\n",
    "        enable_categorical=True\n",
    "    ),\n",
    "    'catboost': CatBoostClassifier(\n",
    "        iterations=193,\n",
    "        learning_rate=0.05731626408645584,\n",
    "        depth=5,\n",
    "        l2_leaf_reg=0.12172037289908884,\n",
    "        random_strength=0.11159304953837404,\n",
    "        bagging_temperature=2.0950687664171803,\n",
    "        grow_policy='Lossguide',\n",
    "        border_count=147,\n",
    "        od_wait=40,\n",
    "        cat_features=cat_features_indices,\n",
    "        verbose=0\n",
    "    )\n",
    "}\n",
    "\n",
    "# 소프트 보팅 성능 평가\n",
    "best_combo = None\n",
    "best_auc = 0\n",
    "results = []\n",
    "\n",
    "# 교차검증 설정\n",
    "cv = StratifiedKFold(n_splits=5, shuffle=True, random_state=42)\n",
    "\n",
    "for combo in model_combinations:\n",
    "    estimators = [(name, models_dict[name]) for name in combo]\n",
    "    weights_for_combo = [weights[name] for name in combo]\n",
    "\n",
    "    voting_clf = VotingClassifier(\n",
    "        estimators=estimators,\n",
    "        voting='soft',\n",
    "        weights=weights_for_combo\n",
    "    )\n",
    "\n",
    "    roc_list = []\n",
    "\n",
    "    # 교차 검증 루프\n",
    "    for train_idx, valid_idx in cv.split(train_feature, train_target):\n",
    "        X_train, y_train = train_feature.iloc[train_idx], train_target.iloc[train_idx]\n",
    "        X_valid, y_valid = train_feature.iloc[valid_idx], train_target.iloc[valid_idx]\n",
    "\n",
    "        # CatBoost용 범주형 데이터 처리\n",
    "        if 'catboost' in combo:\n",
    "            X_train = X_train.copy()\n",
    "            X_valid = X_valid.copy()\n",
    "            for col in train_feature.select_dtypes(include=['category']).columns:\n",
    "                X_train[col] = X_train[col].cat.codes\n",
    "                X_valid[col] = X_valid[col].cat.codes\n",
    "\n",
    "        # 모델 학습\n",
    "        voting_clf.fit(X_train, y_train)\n",
    "\n",
    "        # 예측 및 ROC 계산\n",
    "        y_prob = voting_clf.predict_proba(X_valid)[:, 1]\n",
    "        roc = roc_auc_score(y_valid, y_prob)\n",
    "        roc_list.append(roc)\n",
    "\n",
    "    # 교차 검증 평균 AUC 계산\n",
    "    mean_roc = sum(roc_list) / len(roc_list)\n",
    "\n",
    "    # 결과 저장\n",
    "    results.append({\n",
    "        \"combination\": combo,\n",
    "        \"mean_roc\": mean_roc,\n",
    "        \"roc_per_fold\": roc_list,  # 폴드별 점수 추가\n",
    "        \"weights\": weights_for_combo\n",
    "    })\n",
    "\n",
    "# 결과 정렬 (ROC 기준 내림차순)\n",
    "results = sorted(results, key=lambda x: x[\"mean_roc\"], reverse=True)\n",
    "\n",
    "# 모든 결과 출력\n",
    "print(\"=\" * 50)\n",
    "print(\"All Voting Model Results:\")\n",
    "print(\"=\" * 50)\n",
    "for result in results:\n",
    "    print(f\"Combination: {result['combination']}, Mean ROC: {result['mean_roc']:.4f}, \"\n",
    "          f\"Fold AUCs: {result['roc_per_fold']}, Weights: {result['weights']}\")\n",
    "\n",
    "# 최적의 결과 출력\n",
    "best_result = results[0]  # 가장 높은 점수\n",
    "print(\"=\" * 50)\n",
    "print(f\"Best Model Combination: {best_result['combination']}\")\n",
    "print(f\"Best AUC: {best_result['mean_roc']:.4f}\")\n",
    "print(f\"Fold AUCs: {best_result['roc_per_fold']}\")\n",
    "print(f\"Best Weights: {best_result['weights']}\")\n",
    "print(\"=\" * 50)\n"
   ]
  },
  {
   "cell_type": "markdown",
   "metadata": {
    "id": "0s5ZNWFpMRyR"
   },
   "source": [
    "## 3.최종 모델\n",
    "```\n",
    "Best Model Combination: ('lightgbm', 'ada', 'catboost')\n",
    "Best AUC: 0.8892\n",
    "Fold AUCs: [0.8875412534269587, 0.8897113821342711, 0.8917677196721903, 0.8890633795677888, 0.8880000832908077]\n",
    "Best Weights: [0.20020323686045985, 0.1998279716810968, 0.20019997431761935]\n",
    "```\n"
   ]
  },
  {
   "cell_type": "markdown",
   "metadata": {
    "id": "uKIq3y0kOw-a"
   },
   "source": [
    "### 데이터 분리"
   ]
  },
  {
   "cell_type": "code",
   "execution_count": null,
   "metadata": {
    "executionInfo": {
     "elapsed": 400,
     "status": "ok",
     "timestamp": 1739855022128,
     "user": {
      "displayName": "이정수",
      "userId": "14428595979203344897"
     },
     "user_tz": -540
    },
    "id": "Ac8OiSMmOyBS"
   },
   "outputs": [],
   "source": [
    "# feature, target 분리\n",
    "train_feature = train.drop(columns='Exited')\n",
    "train_target = train['Exited']\n",
    "\n",
    "# 데이터 분리\n",
    "X_train, X_valid, y_train, y_valid = train_test_split(train_feature, train_target,\n",
    "                                                      test_size = 0.3,\n",
    "                                                      random_state=0)\n"
   ]
  },
  {
   "cell_type": "markdown",
   "metadata": {
    "id": "QBXTx6-rVhy3"
   },
   "source": [
    "### 모델 생성\n",
    "```\n",
    "<최종 점수>\n",
    "Final Model AUC Score: 0.8905\n",
    "```"
   ]
  },
  {
   "cell_type": "code",
   "execution_count": null,
   "metadata": {
    "colab": {
     "base_uri": "https://localhost:8080/"
    },
    "executionInfo": {
     "elapsed": 139848,
     "status": "ok",
     "timestamp": 1739855374161,
     "user": {
      "displayName": "이정수",
      "userId": "14428595979203344897"
     },
     "user_tz": -540
    },
    "id": "hAT1AtVRMWPD",
    "outputId": "6d00ed30-032c-48ea-a89e-102a4c147482"
   },
   "outputs": [],
   "source": [
    "cat_features_indices = [\n",
    "    train_feature.columns.get_loc(col)\n",
    "    for col in train_feature.select_dtypes(include=['category']).columns\n",
    "]\n",
    "\n",
    "final_models = {\n",
    "    'lightgbm': LGBMClassifier(\n",
    "        n_estimators=532,  # num_boost_round 대신 n_estimators로 변경\n",
    "        learning_rate=0.04137208387151803,\n",
    "        num_leaves=46,\n",
    "        max_depth=-1,  # 깊이 제한 없음\n",
    "        min_child_samples=86,\n",
    "        feature_fraction=0.8139255851821137,\n",
    "        bagging_fraction=0.8082068952185747,\n",
    "        bagging_freq=4,\n",
    "        min_split_gain=0.5814034631622789,  # min_gain_to_split\n",
    "        reg_alpha=0.07098715189710325,  # lambda_l1\n",
    "        reg_lambda=0.07241610219010308,  # lambda_l2\n",
    "        tree_learner='feature',\n",
    "        max_bin=343,\n",
    "        num_threads=3,\n",
    "        scale_pos_weight=2.872248166434921\n",
    "    ),\n",
    "    'ada': AdaBoostClassifier(\n",
    "        estimator=DecisionTreeClassifier(\n",
    "            max_depth=8,\n",
    "            min_samples_split=3,\n",
    "            min_samples_leaf=6,\n",
    "            max_features='log2',\n",
    "            max_leaf_nodes=16,\n",
    "            min_impurity_decrease=0.00026999077869702197\n",
    "        ),\n",
    "        n_estimators=312,\n",
    "        learning_rate=0.06668653847352878,\n",
    "        algorithm='SAMME',\n",
    "        random_state=853\n",
    "    ),\n",
    "    'catboost': CatBoostClassifier(\n",
    "        iterations=193,\n",
    "        learning_rate=0.05731626408645584,\n",
    "        depth=5,\n",
    "        l2_leaf_reg=0.12172037289908884,\n",
    "        random_strength=0.11159304953837404,\n",
    "        bagging_temperature=2.0950687664171803,\n",
    "        grow_policy='Lossguide',\n",
    "        border_count=147,\n",
    "        od_wait=40,\n",
    "        cat_features=cat_features_indices,  # 범주형 컬럼 인덱스 추가\n",
    "        verbose=0\n",
    "    )\n",
    "}\n",
    "\n",
    "# 소프트 보팅 모델 생성\n",
    "final_voting_model = VotingClassifier(\n",
    "    estimators=[('lightgbm', final_models['lightgbm']), ('ada', final_models['ada']),('catboost', final_models['catboost'])],\n",
    "    voting='soft',\n",
    "    weights=[0.20020323686045985, 0.1998279716810968, 0.20019997431761935]  # 최적 가중치 적용\n",
    ")\n",
    "\n",
    "# 학습\n",
    "final_voting_model.fit(X_train, y_train)\n",
    "\n",
    "# 예측\n",
    "y_prob = final_voting_model.predict_proba(X_valid)[:, 1]\n",
    "auc_score = roc_auc_score(y_valid, y_prob)\n",
    "\n",
    "# 결과 출력\n",
    "print(f\"Final Model AUC Score: {auc_score:.4f}\")"
   ]
  },
  {
   "cell_type": "markdown",
   "metadata": {
    "id": "4AMbIyKbELun"
   },
   "source": [
    "### 제출 파일 생성"
   ]
  },
  {
   "cell_type": "code",
   "execution_count": null,
   "metadata": {
    "colab": {
     "base_uri": "https://localhost:8080/"
    },
    "executionInfo": {
     "elapsed": 10348,
     "status": "ok",
     "timestamp": 1734447846470,
     "user": {
      "displayName": "이정수",
      "userId": "14428595979203344897"
     },
     "user_tz": -540
    },
    "id": "buHb0XpRPyNJ",
    "outputId": "f9bde081-f669-4adf-987c-c1aecc00a2e2"
   },
   "outputs": [],
   "source": [
    "# 테스트 데이터 예측\n",
    "test_prob = final_voting_model.predict_proba(test)[:, 1]\n",
    "\n",
    "submission['Exited'] = test_prob\n",
    "submission.to_csv('third_mean_submission.csv',index=False)"
   ]
  },
  {
   "cell_type": "markdown",
   "metadata": {
    "id": "ViDNUe8GEPpg"
   },
   "source": [
    "### 변수 중요도"
   ]
  },
  {
   "cell_type": "code",
   "execution_count": null,
   "metadata": {
    "colab": {
     "base_uri": "https://localhost:8080/",
     "height": 1000
    },
    "executionInfo": {
     "elapsed": 678252,
     "status": "ok",
     "timestamp": 1739856070799,
     "user": {
      "displayName": "이정수",
      "userId": "14428595979203344897"
     },
     "user_tz": -540
    },
    "id": "1kozXXK81ah2",
    "outputId": "1a99cb25-a742-4abb-dcd5-3c7f081ec072"
   },
   "outputs": [],
   "source": [
    "# 1. Feature Importance 계산 및 시각화(각 모델 feature importance 평균 사용)\n",
    "\n",
    "def plot_feature_importance(model, model_columns):\n",
    "    feature_importance = np.zeros(len(model_columns))\n",
    "    for name, estimator in final_voting_model.named_estimators_.items():                            # named_estimators_ : 개별 추정기(estimator)들을 딕셔너리 형태로 저장\n",
    "        if hasattr(estimator, \"feature_importances_\"):                                              # hasattr(객체, \"속성_이름\") : 객체가 속성을 갖고 있으면 True, 아니면 False 반환\n",
    "            feature_importance += estimator.feature_importances_                                    # 각각의 모델 변수 중요도 더하기\n",
    "    feature_importance /= len(final_voting_model.named_estimators_)                                 # 모델 개수로 나누기\n",
    "\n",
    "    # Feature 중요도 시각화\n",
    "    sorted_idx = np.argsort(feature_importance)[::-1]                                               # np.argsort() : 정렬된 값의 인덱스 반환 [start:stop:step] / [:: -1] -> 내림차순으로 변경\n",
    "    sorted_features = np.array(model_columns)[sorted_idx]                                           # 변수 중요도에 따라 변수 명 정렬(인덱스따라)\n",
    "    sorted_importances = feature_importance[sorted_idx]                                             # 변수 중요도에 따라 값 정렬\n",
    "\n",
    "    plt.figure(figsize=(10, 8))\n",
    "    bars = plt.barh(range(len(model_columns)), sorted_importances[::-1], align=\"center\")            # barh : 가로 막대그래프 생성(기본적으로 y값 작은것부터 위로 쌓임) / sorted_importances[::-1] : 막대 길이 조정 / align : 막대 중심 위치\n",
    "    plt.yticks(range(len(model_columns)), sorted_features[::-1])                                    # sorted_features[::-1] 사용 이유 : 위와 동일. 기본적으로 작은것부터 위로 쌓임\n",
    "    plt.xlabel(\"Feature Importance\")\n",
    "    plt.title(\"Feature Importance from Model\")\n",
    "\n",
    "    # 막대에 값 표시\n",
    "    for bar, value in zip(bars, sorted_importances[::-1]):\n",
    "        plt.text(bar.get_width(), bar.get_y() + bar.get_height()/2, f'{value:.2f}', va='center')    # plt.text(x, y, s, va='center') / bar.get_width() : 텍스트 x좌표, bar.get_y() + bar.get_height()/2 : 텍스트 y좌표, f'{value:.2f}', va='center' : 표시 할 텍스트\n",
    "\n",
    "    plt.show()\n",
    "\n",
    "# 2. Permutation Importance 계산 및 시각화\n",
    "def plot_permutation_importance(model, X_valid, y_valid, feature_names):\n",
    "    perm_importance = permutation_importance(\n",
    "        model, X_valid, y_valid, scoring='roc_auc', n_repeats=5, random_state=42\n",
    "    )\n",
    "\n",
    "    # Feature 중요도 정렬\n",
    "    sorted_idx = np.argsort(perm_importance.importances_mean)[::-1]                                 # 중요도 높은 순서로 정렬\n",
    "    sorted_features = np.array(feature_names)[sorted_idx]                                           # 정렬된 변수명\n",
    "    sorted_importances = perm_importance.importances_mean[sorted_idx]                               # 정렬된 변수 중요도\n",
    "\n",
    "    # Feature 중요도 시각화\n",
    "    plt.figure(figsize=(10, 8))\n",
    "    bars = plt.barh(range(len(feature_names)), sorted_importances[::-1], align=\"center\")            # 내림차순 정렬한 막대그래프\n",
    "    plt.yticks(range(len(feature_names)), sorted_features[::-1])                                    # y축 변수명도 동일한 순서로 정렬\n",
    "    plt.xlabel(\"Permutation Importance\")\n",
    "    plt.title(\"Permutation Importance from Validation Set\")\n",
    "\n",
    "    # 막대에 값 표시\n",
    "    for bar, value in zip(bars, sorted_importances[::-1]):\n",
    "        plt.text(bar.get_width(), bar.get_y() + bar.get_height()/2, f'{value:.4f}', va='center')\n",
    "\n",
    "    plt.show()\n",
    "\n",
    "# Feature Importance 그래프 생성\n",
    "plot_feature_importance(final_voting_model, train_feature.columns)\n",
    "\n",
    "# Permutation Importance 그래프 생성\n",
    "plot_permutation_importance(final_voting_model, X_valid, y_valid, train_feature.columns)"
   ]
  },
  {
   "cell_type": "markdown",
   "metadata": {
    "id": "-EqiCpwjEUZD"
   },
   "source": [
    "#### feature importance\n",
    "- **Top 5**\n",
    "    - CustomerID\n",
    "    - **CreditScore_Age**\n",
    "    - CreditScore_Scaled\n",
    "    - CreditScore_Tenure\n",
    "    - **EstimatedSalary_Age**"
   ]
  },
  {
   "cell_type": "code",
   "execution_count": null,
   "metadata": {
    "colab": {
     "base_uri": "https://localhost:8080/",
     "height": 716
    },
    "executionInfo": {
     "elapsed": 1542,
     "status": "ok",
     "timestamp": 1739856252639,
     "user": {
      "displayName": "이정수",
      "userId": "14428595979203344897"
     },
     "user_tz": -540
    },
    "id": "U_KST9hW6wBw",
    "outputId": "329de878-3443-490f-d4b5-05b0771b3ad1"
   },
   "outputs": [],
   "source": [
    "from IPython.display import Image\n",
    "\n",
    "Image('/content/drive/MyDrive/파이널 프로젝트_이정수/분류/파생변수(의미)_feature_importance.png')"
   ]
  },
  {
   "cell_type": "markdown",
   "metadata": {
    "id": "QGJvoaxvEWqH"
   },
   "source": [
    "#### permutation importance\n",
    "- **Top 5**\n",
    "    - NumOfProducts_2\n",
    "    - **Age_Scaled**\n",
    "    - IsActiveMember\n",
    "    - Gender\n",
    "    - Balance_Geography"
   ]
  },
  {
   "cell_type": "code",
   "execution_count": null,
   "metadata": {
    "colab": {
     "base_uri": "https://localhost:8080/",
     "height": 716
    },
    "executionInfo": {
     "elapsed": 1047,
     "status": "ok",
     "timestamp": 1739856253683,
     "user": {
      "displayName": "이정수",
      "userId": "14428595979203344897"
     },
     "user_tz": -540
    },
    "id": "0R2jTIWD6-9d",
    "outputId": "ff0e0de6-148f-4e79-a1cc-46b710b893a5"
   },
   "outputs": [],
   "source": [
    "Image('/content/drive/MyDrive/파이널 프로젝트_이정수/분류/파생변수(의미)_permutation_importance.png')"
   ]
  },
  {
   "cell_type": "markdown",
   "metadata": {
    "id": "DgQyNnCAEwQz"
   },
   "source": [
    "#### 중요도 해석"
   ]
  },
  {
   "cell_type": "markdown",
   "metadata": {
    "id": "HM2RTDMvEzdY"
   },
   "source": [
    "- **결론**\n",
    "    - Age가 포함된 변수가 공통적으로 다수 포함\n",
    "    - **제거 할 변수**\n",
    "        - **Balance_group**\n",
    "            - Feature importance : 0.01\n",
    "            - Permutation importance : 0.0000\n",
    "            - VIF : 7.06\n",
    "        - **CreditScore_Tenure**\n",
    "            - Feature importance : 681.00\n",
    "            - Permutation importance : 0.0000\n",
    "            - VIF : 10.72824"
   ]
  },
  {
   "cell_type": "markdown",
   "metadata": {
    "id": "tF4qwXtxENSD"
   },
   "source": [
    "# --"
   ]
  },
  {
   "cell_type": "markdown",
   "metadata": {
    "id": "Xpjir9LuF723"
   },
   "source": [
    "## 4.중요도 기반 재모델링\n",
    "- 제거\n",
    "    - Balance_group\n",
    "    - CreditScore_Tenure"
   ]
  },
  {
   "cell_type": "code",
   "execution_count": null,
   "metadata": {
    "executionInfo": {
     "elapsed": 21465,
     "status": "ok",
     "timestamp": 1739856277478,
     "user": {
      "displayName": "이정수",
      "userId": "14428595979203344897"
     },
     "user_tz": -540
    },
    "id": "SfP8y8kEF7Rj"
   },
   "outputs": [],
   "source": [
    "# 1. 전처리\n",
    "\n",
    "train = pd.read_csv('/content/drive/MyDrive/파이널 프로젝트_이정수/분류/train.csv')\n",
    "test = pd.read_csv('/content/drive/MyDrive/파이널 프로젝트_이정수/분류/test.csv')\n",
    "submission = pd.read_csv('/content/drive/MyDrive/파이널 프로젝트_이정수/분류/sample_submission.csv')\n",
    "\n",
    "# train, test 동시 진행\n",
    "\n",
    "# Id, Surname 제거\n",
    "train.drop(columns=['id','Surname'],inplace=True)\n",
    "test.drop(columns=['id','Surname'],inplace=True)\n",
    "\n",
    "# 중복제거\n",
    "train = train.drop_duplicates()\n",
    "\n",
    "# 단일 범주 파생변수 생성\n",
    "bins = [0,19,29,39,49,57,np.inf]\n",
    "labels = [10,20,30,40,50,57]\n",
    "train['Age_group'] = pd.cut(train['Age'], bins= bins,labels = labels,right=True)\n",
    "test['Age_group'] = pd.cut(test['Age'], bins= bins,labels = labels,right=True)\n",
    "\n",
    "# 로그 변환과 스케일링을 포함한 기능 정의\n",
    "scaled_features = {\n",
    "    'CreditScore': RobustScaler(),\n",
    "    'EstimatedSalary': StandardScaler(),\n",
    "    'Age': ('log', RobustScaler()),        # 로그 변환 후 스케일링\n",
    "    'Balance': ('log1p', MinMaxScaler())   # 로그 변환 후 스케일링\n",
    "}\n",
    "\n",
    "# 스케일링 적용\n",
    "for feature, scaled_info in scaled_features.items() :\n",
    "  if isinstance(scaled_info, tuple) :\n",
    "    log_info, scaler = scaled_info\n",
    "    if log_info == 'log' :\n",
    "      train_feature = np.log(train[[feature]])\n",
    "      test_feature = np.log(test[[feature]])\n",
    "    elif log_info == 'log1p' :\n",
    "      train_feature = np.log1p(train[[feature]])\n",
    "      test_feature = np.log1p(test[[feature]])\n",
    "  else :\n",
    "    scaler = scaled_info\n",
    "    train_feature = train[[feature]]\n",
    "    test_feature = test[[feature]]\n",
    "\n",
    "\n",
    "  # 스케일링 적용\n",
    "  scaled_feature = feature + '_Scaled'\n",
    "  train[scaled_feature] = scaler.fit_transform(train_feature)\n",
    "  test[scaled_feature] = scaler.transform(test_feature)\n",
    "\n",
    "# 단일범주 파생 변수 생성2\n",
    "def NumOfProducts_new_categorize(x) :\n",
    "  if x == 1 :\n",
    "    return 1\n",
    "  elif x ==2 :\n",
    "    return 2\n",
    "  else :\n",
    "    return 34\n",
    "\n",
    "train['NumOfProducts_group'] = train['NumOfProducts'].apply(NumOfProducts_new_categorize)\n",
    "test['NumOfProducts_group'] = test['NumOfProducts'].apply(NumOfProducts_new_categorize)\n",
    "\n",
    "# 0 처리\n",
    "# train\n",
    "train['Tenure'] = train['Tenure'] + np.finfo(float).eps\n",
    "test['Tenure'] = test['Tenure'] + np.finfo(float).eps\n",
    "# test\n",
    "train['Balance'] = train['Balance'] + np.finfo(float).eps\n",
    "test['Balance'] = test['Balance'] + np.finfo(float).eps\n",
    "\n",
    "\n",
    "# train, test 합치고 후에 분리 로 진행\n",
    "combined = pd.concat([train,test])\n",
    "\n",
    "\n",
    "# 고객 충성도(Tenure, NumOfPrudcts)\n",
    "## Age + Tenure : 연령별 은행과의 관계 지속성\n",
    "combined['Tenure_Age'] = combined['Tenure'] / combined['Age']\n",
    "\n",
    "## Age + NumOfProducts : 연령별 이용 상품 수\n",
    "combined['NumOfProducts_Age'] = combined['NumOfProducts'] / combined['Age']\n",
    "\n",
    "## Balance + NumOfProducts : 잔고에 따른 이용 상품 수\n",
    "combined['NumOfProducts_Balance'] = combined['NumOfProducts'] / combined['Balance']\n",
    "\n",
    "## EstimatedSalary + NumOfProducts : 이용 상품 별 예상 소득\n",
    "combined['EstimatedSalary_NumOfProducts'] = combined['EstimatedSalary'] / combined['NumOfProducts']\n",
    "\n",
    "'''\n",
    "'''\n",
    "\n",
    "# 경제적 상황(Balance, EstimatedSalary, HasCrCard)\n",
    "\n",
    "## Balance + EstimatedSalary : 예상 소득 대비 잔고 수준\n",
    "combined['Balance_EstimatedSalary'] = combined['Balance'] / combined['EstimatedSalary']\n",
    "\n",
    "## Balance + Tenure : 은행 이용 기간 대비 잔고\n",
    "combined['Balance_Tenure'] = combined['Balance'] / combined['Tenure']\n",
    "\n",
    "## Balance + CreditScore : 신용점수 대비 잔고\n",
    "combined['Balance_CreditScore'] = combined['Balance'] / combined['CreditScore']\n",
    "\n",
    "## Age + EstimatedSalary : 연령 대비 예상 소득\n",
    "combined['EstimatedSalary_Age'] = combined['EstimatedSalary'] / combined['Age']\n",
    "\n",
    "'''\n",
    "'''\n",
    "# 고객의 활동성(CreditScore, NumOfProducts, Tenure, IsActiveMember, HasCrCard)\n",
    "\n",
    "## IsActiveMember + NumOfProducts : 활성회원과 이용 상품 수 관계 (6개 범주 만들기)\n",
    "def IsActive_NumProducts(data) :\n",
    "  if (data['IsActiveMember'] == 0) & (data['NumOfProducts'] == 1) :\n",
    "    return 1\n",
    "  elif (data['IsActiveMember'] == 0) & (data['NumOfProducts'] == 2) :\n",
    "    return 2\n",
    "  elif (data['IsActiveMember'] == 0) & (data['NumOfProducts'] == 3) :\n",
    "    return 3\n",
    "  elif (data['IsActiveMember'] == 1) & (data['NumOfProducts'] == 1) :\n",
    "    return 11\n",
    "  elif (data['IsActiveMember'] == 1) & (data['NumOfProducts'] == 2) :\n",
    "    return 12\n",
    "  else :\n",
    "    return 13\n",
    "combined['IsActiveMember_NumOfProducts'] = combined.apply(IsActive_NumProducts, axis=1)\n",
    "\n",
    "## Tenure + NumOfProducts : 이용 기간 대비 이용 상품 수 ->\n",
    "combined['NumOfProducts_Tenure'] = combined['NumOfProducts'] / combined['Tenure']\n",
    "\n",
    "## IsActiveMember + CreditScore( 개인 신용점수 - 활동 여부 별 신용점수 평균)\n",
    "combined['IsActiveMember_CreditScore'] = combined['CreditScore'] - combined.groupby('IsActiveMember')['CreditScore'].transform('mean')\n",
    "\n",
    "## Tenure + IsActiveMember\n",
    "combined['Tenure_IsActiveMember'] = combined['Tenure'] - combined.groupby('IsActiveMember')['Tenure'].transform('mean')\n",
    "\n",
    "'''\n",
    "'''\n",
    "\n",
    "# 지역적 특성(Geography)\n",
    "## Geography + Balance : 국가 대비 잔고 수준차이(개인잔고 - 지역별 평균 잔고)\n",
    "combined['Balance_Geography'] = combined['Balance'] - combined.groupby('Geography')['Balance'].transform('mean')\n",
    "\n",
    "## Geography + IsActiveMember : 국가 대비 고객 활동성 (6개 범주 만들기)\n",
    "def IsActive_Geography(data) :\n",
    "    if (data['IsActiveMember'] == 0) & (data['Geography'] == 'France') :\n",
    "      return 'France_0'\n",
    "    elif (data['IsActiveMember'] == 1) & (data['Geography'] == 'France') :\n",
    "      return 'France_1'\n",
    "    elif (data['IsActiveMember'] == 0) & (data['Geography'] == 'Germany') :\n",
    "      return 'Germany_0'\n",
    "    elif (data['IsActiveMember'] == 1) & (data['Geography'] == 'Germany') :\n",
    "      return 'Germany_1'\n",
    "    elif (data['IsActiveMember'] == 0) & (data['Geography'] == 'Spain') :\n",
    "      return 'Spain_0'\n",
    "    else :\n",
    "      return 'Spain_1'\n",
    "\n",
    "combined['Geography_IsActiveMember'] = combined.apply(IsActive_Geography, axis=1)\n",
    "\n",
    "## Geography + EstimatedSalary : 개인 예상 연봉 - 지역 평균 예상 연봉\n",
    "combined['EstimatedSalary_Geography'] = combined['EstimatedSalary'] - combined.groupby('Geography')['EstimatedSalary'].transform('mean')\n",
    "\n",
    "# 리스크 관리(CreditScore, HasCrCard)\n",
    "## CreditScore + Balance : 신용점수 대비 잔고 수준\n",
    "combined['Balance_CreditScore'] = combined['Balance'] / combined['CreditScore']\n",
    "\n",
    "## CreditScore + Age : 연령 별 신용점수\n",
    "combined['CreditScore_Age'] = combined['CreditScore'] / combined['Age']\n",
    "\n",
    "## Balance + HasCrCard : 신용카드 보유 여부 대비 잔고\n",
    "combined['Balance_HasCrCard'] = combined['Balance'] - combined.groupby('HasCrCard')['Balance'].transform('mean')\n",
    "\n",
    "\n",
    "# 인코딩\n",
    "# 필요한 패키지 import(OneHotEncoder -> pd.get_dummies로 대체)\n",
    "from sklearn.preprocessing import LabelEncoder\n",
    "# Geography -> OneHot Encoding\n",
    "combined = pd.get_dummies(combined, columns=['Geography'],dtype=int)\n",
    "\n",
    "# Gender -> Label Encoding\n",
    "encoder = LabelEncoder()\n",
    "combined['Gender'] = encoder.fit_transform(combined['Gender'])\n",
    "\n",
    "'''\n",
    "- 매칭 값 확인 -\n",
    "코드 :\n",
    "    original_classes = encoder.classes_\n",
    "    mapping = {}\n",
    "    for i, original in enumerate(original_classes):\n",
    "        mapping[original] = i\n",
    "    print(\"매핑:\", mapping)\n",
    "\n",
    "결과 :\n",
    "    매핑: {'Female': 0, 'Male': 1}\n",
    "'''\n",
    "\n",
    "# Tenure -> Label Encoding\n",
    "encoder = LabelEncoder()\n",
    "combined['Tenure'] = encoder.fit_transform(combined['Tenure'])\n",
    "\n",
    "'''\n",
    "- 매칭 값 확인 -\n",
    "코드 :\n",
    "    original_classes = encoder.classes_\n",
    "    mapping = {}\n",
    "    for i, original in enumerate(original_classes):\n",
    "        mapping[original] = i\n",
    "    print(\"매핑:\", mapping)\n",
    "\n",
    "결과 :\n",
    "    매핑: {0: 0, 1: 1, 2: 2, 3: 3, 4: 4, 5: 5, 6: 6, 7: 7, 8: 8, 9: 9, 10: 10}\n",
    "'''\n",
    "\n",
    "# NumOfProducts -> OneHot Encoding\n",
    "combined = pd.get_dummies(combined, columns=['NumOfProducts'],dtype=int)\n",
    "\n",
    "# HasCrCard -> Label Encoding\n",
    "encoder = LabelEncoder()\n",
    "combined['HasCrCard'] = encoder.fit_transform(combined['HasCrCard'])\n",
    "\n",
    "'''\n",
    "- 매칭 값 확인 -\n",
    "코드 :\n",
    "    original_classes = encoder.classes_\n",
    "    mapping = {}\n",
    "    for i, original in enumerate(original_classes):\n",
    "        mapping[original] = i\n",
    "    print(\"매핑:\", mapping)\n",
    "\n",
    "결과 :\n",
    "    매핑: {0.0: 0, 1.0: 1}\n",
    "'''\n",
    "\n",
    "# IsActiveMember -> Label Encoding\n",
    "\n",
    "encoder = LabelEncoder()\n",
    "combined['IsActiveMember'] = encoder.fit_transform(combined['IsActiveMember'])\n",
    "\n",
    "'''\n",
    "- 매칭 값 확인 -\n",
    "코드 :\n",
    "    original_classes = encoder.classes_\n",
    "    mapping = {}\n",
    "    for i, original in enumerate(original_classes):\n",
    "        mapping[original] = i\n",
    "    print(\"매핑:\", mapping)\n",
    "\n",
    "결과 :\n",
    "    매핑: {0.0: 0, 1.0: 1}\n",
    "'''\n",
    "\n",
    "# Age_group\n",
    "# train['Age_group'].unique()\n",
    "Age_group_mapping = {10:1, 20:2, 30:3 , 40:4, 50:5, 57: 6}\n",
    "combined['Age_group'] = combined['Age_group'].map(Age_group_mapping)\n",
    "\n",
    "# Geography_IsActiveMember\n",
    "# train['Geography_IsActiveMember'].unique() # ['France_0', 'France_1', 'Spain_1', 'Germany_0', 'Spain_0', 'Germany_1']\n",
    "Geography_IsActiveMember_mapping = {'France_0':1, 'France_1':2, 'Spain_0':3, 'Spain_1':4, 'Germany_0':5, 'Germany_1':6}\n",
    "combined['Geography_IsActiveMember'] = combined['Geography_IsActiveMember'].map(Geography_IsActiveMember_mapping)\n",
    "\n",
    "# 스케일링 원 변수 제거\n",
    "combined.drop(columns = ['Age','Balance','CreditScore','EstimatedSalary'],inplace=True)\n",
    "\n",
    "train = combined.iloc[:train.shape[0]].copy()\n",
    "test = combined.iloc[train.shape[0]:].copy()\n",
    "\n",
    "# test 데이터 타겟 변수 제거\n",
    "test.drop(columns = 'Exited', inplace=True)"
   ]
  },
  {
   "cell_type": "code",
   "execution_count": null,
   "metadata": {
    "executionInfo": {
     "elapsed": 2,
     "status": "ok",
     "timestamp": 1739856278498,
     "user": {
      "displayName": "이정수",
      "userId": "14428595979203344897"
     },
     "user_tz": -540
    },
    "id": "TXDq53wMHWQr"
   },
   "outputs": [],
   "source": [
    "# 2.모델링\n",
    "\n",
    "# feature, target 분리\n",
    "train_feature = train.drop(columns='Exited')\n",
    "train_target = train['Exited']\n",
    "\n",
    "# 데이터 분리\n",
    "X_train, X_valid, y_train, y_valid = train_test_split(train_feature, train_target,\n",
    "                                                      test_size = 0.3,\n",
    "                                                      random_state=0)"
   ]
  },
  {
   "cell_type": "code",
   "execution_count": null,
   "metadata": {
    "colab": {
     "base_uri": "https://localhost:8080/",
     "height": 1000,
     "referenced_widgets": [
      "258c85a104c44b73ba4fe931af9a55d4",
      "a1fa5029914e444293e512b380a5fcc1",
      "045a969552cf4d50a5e8a3159c782d0c",
      "7eebbae57a554f78bef0c21c17755d9c",
      "66289e340f3f4529b22df8ec44d50f45",
      "68d2325eaa4e4c1c9eda7d1cd25794e2",
      "2dcba7885bea44f79ac4deeee5e0cf95",
      "2f212f7f3b124c7caeca7339f72fa46b",
      "6db27427d90c4160ab78c1893a83ef86",
      "1f32d643358449c5b81205905e2ec378",
      "a1a69aef5ea84c8fa31de0c3bda59c9b"
     ]
    },
    "executionInfo": {
     "elapsed": 987482,
     "status": "ok",
     "timestamp": 1734412948137,
     "user": {
      "displayName": "이정수",
      "userId": "14428595979203344897"
     },
     "user_tz": -540
    },
    "id": "Jrs5-p1hAV4E",
    "outputId": "7150822e-79cb-4e3f-8665-7780f8fbce94"
   },
   "outputs": [],
   "source": [
    "# 2.모델링\n",
    "\n",
    "# AutoML\n",
    "# 인덱스 번호 새로 할당\n",
    "X_train_automl = X_train.reset_index(drop=True)\n",
    "y_train_automl = y_train.reset_index(drop=True)\n",
    "\n",
    "# X_train, y_train 합치기\n",
    "Xy_train_automl = pd.concat([X_train_automl, y_train_automl], axis=1)\n",
    "\n",
    "# AutoML 모델 세팅\n",
    "clf = setup(data=Xy_train_automl,\n",
    "            target = 'Exited',\n",
    "            train_size = 0.7,\n",
    "            data_split_shuffle=True,\n",
    "            session_id = 0,\n",
    "            fold = 5\n",
    "            )\n",
    "\n",
    "# AutoML top5 model 설정\n",
    "top5_model = compare_models(fold=5, round=3, n_select=5, sort = 'AUC', errors='ignore',verbose=True)\n",
    "top5_model"
   ]
  },
  {
   "cell_type": "markdown",
   "metadata": {
    "id": "wfVvUN7INfut"
   },
   "source": [
    "### optuna\n",
    "\n",
    "- GBC\n",
    "```\n",
    "Best AUC: 0.8881716017412291\n",
    "Best hyperparameters:\n",
    "  n_estimators: 306\n",
    "  learning_rate: 0.13703881640424945\n",
    "  max_depth: 4\n",
    "  min_samples_split: 3\n",
    "  min_samples_leaf: 3\n",
    "  subsample: 0.9445270800712589\n",
    "  max_features: log2\n",
    "  loss: exponential\n",
    "  ccp_alpha: 2.8384467094309904e-05\n",
    "  validation_fraction: 0.28861432470314685\n",
    "  n_iter_no_change: 18\n",
    "  tol: 0.003292168493890127\n",
    "  min_impurity_decrease: 0.06206179531947495\n",
    "  max_leaf_nodes: 63\n",
    "```\n",
    "- LightGBM\n",
    "```\n",
    "Best AUC: 0.8894890596238593\n",
    "Best hyperparameters:\n",
    "  num_boost_round: 787\n",
    "  learning_rate: 0.01655085455833034\n",
    "  num_leaves: 40\n",
    "  max_depth: 9\n",
    "  min_data_in_leaf: 56\n",
    "  feature_fraction: 0.6418202481719244\n",
    "  bagging_fraction: 0.645916077947058\n",
    "  bagging_freq: 2\n",
    "  min_gain_to_split: 0.5064123433302721\n",
    "  lambda_l1: 0.07012143653987062\n",
    "  lambda_l2: 0.09764150870955571\n",
    "  tree_learner: serial\n",
    "  max_bin: 386\n",
    "  early_stopping_rounds: 25\n",
    "  num_threads: 4\n",
    "  scale_pos_weight: 3.8434903468270747\n",
    "```\n",
    "- AdaBoost\n",
    "```\n",
    "Best AUC: 0.8874169652866769\n",
    "Best hyperparameters:\n",
    "  n_estimators: 146\n",
    "  learning_rate: 0.08520098897894984\n",
    "  algorithm: SAMME.R\n",
    "  random_state: 802\n",
    "  max_depth: 5\n",
    "  min_samples_split: 20\n",
    "  min_samples_leaf: 3\n",
    "  max_features: None\n",
    "  max_leaf_nodes: 15\n",
    "  min_impurity_decrease: 0.0003927552574830781\n",
    "```\n",
    "- XGBoost\n",
    "```\n",
    "Best AUC: 0.8877248497094786\n",
    "Best hyperparameters:\n",
    "  num_round: 454\n",
    "  alpha: 0.40652589353810326\n",
    "  base_score: 0.8480874400205671\n",
    "  booster: gbtree\n",
    "  colsample_bylevel: 0.8469354484548803\n",
    "  colsample_bynode: 0.9995135598162135\n",
    "  colsample_bytree: 0.9891525620754378\n",
    "  eta: 0.27890538121311964\n",
    "  eval_metric: auc\n",
    "  gamma: 0.9890045644329901\n",
    "  grow_policy: depthwise\n",
    "  lambda: 8.316565190053003\n",
    "  max_bin: 264\n",
    "  max_delta_step: 9\n",
    "  max_depth: 6\n",
    "  max_leaves: 47\n",
    "  min_child_weight: 1.3266241122837017\n",
    "  objective: binary:logistic\n",
    "  scale_pos_weight: 8.66718236582756\n",
    "  seed: 775\n",
    "  subsample: 0.8855554855188931\n",
    "  verbosity: 3\n",
    "  early_stopping_rounds: 31\n",
    "```\n",
    "- CatBoost\n",
    "```\n",
    "Best AUC: 0.8894422429062463\n",
    "Best hyperparameters:\n",
    "  iterations: 524\n",
    "  learning_rate: 0.08616825811471435\n",
    "  depth: 3\n",
    "  l2_leaf_reg: 0.3995590038558608\n",
    "  random_strength: 0.32389909847293613\n",
    "  bagging_temperature: 0.09678886582783942\n",
    "  grow_policy: SymmetricTree\n",
    "  border_count: 96\n",
    "  od_wait: 40\n",
    "```\n"
   ]
  },
  {
   "cell_type": "markdown",
   "metadata": {
    "id": "C04tYXkrIeQe"
   },
   "source": [
    "#### GBC : Gradient Boosting Classifier"
   ]
  },
  {
   "cell_type": "code",
   "execution_count": null,
   "metadata": {
    "colab": {
     "base_uri": "https://localhost:8080/"
    },
    "executionInfo": {
     "elapsed": 5089880,
     "status": "ok",
     "timestamp": 1734352810341,
     "user": {
      "displayName": "이정수",
      "userId": "14428595979203344897"
     },
     "user_tz": -540
    },
    "id": "znVtNAq5IeQj",
    "outputId": "7f010eb9-d536-4b21-97da-6731d6b90c1c"
   },
   "outputs": [],
   "source": [
    "sampler = TPESampler(seed=0)\n",
    "\n",
    "def objective(trial):\n",
    "    params = {\n",
    "        'n_estimators': trial.suggest_int('n_estimators', 100, 500),\n",
    "        'learning_rate': trial.suggest_float('learning_rate', 0.01, 0.2),\n",
    "        'max_depth': trial.suggest_int('max_depth', 3, 10),\n",
    "        'min_samples_split': trial.suggest_int('min_samples_split', 2, 10),\n",
    "        'min_samples_leaf': trial.suggest_int('min_samples_leaf', 1, 10),\n",
    "        'subsample': trial.suggest_float('subsample', 0.6, 1.0),\n",
    "        'max_features': trial.suggest_categorical('max_features', ['sqrt', 'log2', None]),\n",
    "        'loss': trial.suggest_categorical('loss', ['log_loss', 'exponential']),\n",
    "        'ccp_alpha': trial.suggest_float('ccp_alpha', 0.0, 0.1),\n",
    "        'random_state': 0,\n",
    "        'validation_fraction': trial.suggest_float('validation_fraction', 0.1, 0.3),\n",
    "        'n_iter_no_change': trial.suggest_int('n_iter_no_change', 5, 20),\n",
    "        'tol': trial.suggest_float('tol', 1e-4, 1e-2),\n",
    "        'min_impurity_decrease': trial.suggest_float('min_impurity_decrease', 0.0, 0.1),\n",
    "        'max_leaf_nodes': trial.suggest_int('max_leaf_nodes', 10, 100),\n",
    "    }\n",
    "\n",
    "    cv = StratifiedKFold(n_splits=5, shuffle=True, random_state=0)\n",
    "    auc_list = []\n",
    "\n",
    "    for _, (train_index, valid_index) in enumerate(cv.split(train_feature,train_target)):\n",
    "        X_train, y_train = train_feature.iloc[train_index], train_target.iloc[train_index]\n",
    "        X_valid, y_valid = train_feature.iloc[valid_index], train_target.iloc[valid_index]\n",
    "\n",
    "\n",
    "        gbc_model = GradientBoostingClassifier(**params)\n",
    "        gbc_model.fit(X_train, y_train)\n",
    "\n",
    "        # 예측 확률 계산\n",
    "        y_prob = gbc_model.predict_proba(X_valid)[:,1]\n",
    "        auc_score = roc_auc_score(y_valid, y_prob)\n",
    "        auc_list.append(auc_score)\n",
    "\n",
    "    # 평균 auc 반환\n",
    "    mean_auc = np.mean(auc_list)\n",
    "    return mean_auc\n",
    "\n",
    "# optuna 최적화 실행(AUC 최대화)\n",
    "optuna_gbc = optuna.create_study(direction='maximize', sampler=sampler)\n",
    "optuna_gbc.optimize(objective, n_trials=50)\n",
    "\n",
    "# 최적 결과 출력\n",
    "best_trial = optuna_gbc.best_trial\n",
    "print(f\"Best AUC: {best_trial.value}\")\n",
    "print(\"Best hyperparameters:\")\n",
    "for key, value in best_trial.params.items():\n",
    "    print(f\"  {key}: {value}\")"
   ]
  },
  {
   "cell_type": "markdown",
   "metadata": {
    "id": "R0BPlGtuIeQj"
   },
   "source": [
    "#### lightGBM : Light Gradient Boosting Machine"
   ]
  },
  {
   "cell_type": "code",
   "execution_count": null,
   "metadata": {
    "id": "bmw21u8rIeQj"
   },
   "outputs": [],
   "source": [
    "sampler = TPESampler(seed=0)\n",
    "\n",
    "def objective(trial):\n",
    "    params = {\n",
    "        'num_boost_round': trial.suggest_int('num_boost_round', 100, 1000),\n",
    "        'learning_rate': trial.suggest_float('learning_rate', 0.01, 0.1),\n",
    "        'num_leaves': trial.suggest_int('num_leaves', 31, 128),\n",
    "        'max_depth': trial.suggest_int('max_depth', -1, 15),\n",
    "        'min_data_in_leaf': trial.suggest_int('min_data_in_leaf', 20, 100),\n",
    "        'feature_fraction': trial.suggest_float('feature_fraction', 0.6, 1.0),\n",
    "        'bagging_fraction': trial.suggest_float('bagging_fraction', 0.6, 1.0),\n",
    "        'bagging_freq': trial.suggest_int('bagging_freq', 1, 10),\n",
    "        'min_gain_to_split': trial.suggest_float('min_gain_to_split', 0.0, 1.0),\n",
    "        'lambda_l1': trial.suggest_float('lambda_l1', 0.0, 0.1),\n",
    "        'lambda_l2': trial.suggest_float('lambda_l2', 0.0, 0.1),\n",
    "        'tree_learner': trial.suggest_categorical('tree_learner', ['serial', 'feature', 'data', 'voting']),\n",
    "        'max_bin': trial.suggest_int('max_bin', 255, 512),\n",
    "        'early_stopping_rounds': trial.suggest_int('early_stopping_rounds', 10, 50),\n",
    "        'metric': 'auc',\n",
    "        'num_threads': trial.suggest_int('num_threads', 1, 8),\n",
    "        'scale_pos_weight': trial.suggest_float('scale_pos_weight', 1.0, 5.0),\n",
    "        'verbosity': 0\n",
    "    }\n",
    "\n",
    "    cv = StratifiedKFold(n_splits=5, shuffle=True, random_state=0)\n",
    "    auc_list = []\n",
    "\n",
    "    for _, (train_index, valid_index) in enumerate(cv.split(train_feature,train_target)):\n",
    "        X_train, y_train = train_feature.iloc[train_index], train_target.iloc[train_index]\n",
    "        X_valid, y_valid = train_feature.iloc[valid_index], train_target.iloc[valid_index]\n",
    "\n",
    "        # LightGBM 모델 학습\n",
    "        train_data = lgb.Dataset(X_train, label=y_train)\n",
    "        valid_data = lgb.Dataset(X_valid, label=y_valid)\n",
    "\n",
    "        # lightGBM 모델 학습\n",
    "        lgb_model = lgb.train(\n",
    "            params,\n",
    "            train_data,\n",
    "            valid_sets = [train_data, valid_data]\n",
    "        )\n",
    "\n",
    "        # 예측 확률 계산\n",
    "        y_prob = lgb_model.predict(X_valid)\n",
    "        auc_score = roc_auc_score(y_valid, y_prob)\n",
    "        auc_list.append(auc_score)\n",
    "\n",
    "    # 평균 auc 반환\n",
    "    mean_auc = np.mean(auc_list)\n",
    "    return mean_auc\n",
    "\n",
    "# optuna 최적화 실행(AUC 최대화)\n",
    "optuna_lgb = optuna.create_study(direction='maximize', sampler=sampler)\n",
    "optuna_lgb.optimize(objective, n_trials=50)\n",
    "\n",
    "# 최적 결과 출력\n",
    "best_trial = optuna_lgb.best_trial\n",
    "print(f\"Best AUC: {best_trial.value}\")\n",
    "print(\"Best hyperparameters:\")\n",
    "for key, value in best_trial.params.items():\n",
    "    print(f\"  {key}: {value}\")"
   ]
  },
  {
   "cell_type": "markdown",
   "metadata": {
    "id": "G9AKcsrlIeQj"
   },
   "source": [
    "#### XGBoost : Extreme Gradient Boosting"
   ]
  },
  {
   "cell_type": "code",
   "execution_count": null,
   "metadata": {
    "id": "1nGgIBQPIeQj"
   },
   "outputs": [],
   "source": [
    "sampler = TPESampler(seed=0)\n",
    "\n",
    "def objective(trial):\n",
    "    params = {\n",
    "        'num_round': trial.suggest_int('num_round', 100, 1000),\n",
    "        'alpha': trial.suggest_float('alpha', 0.0, 1.0),\n",
    "        'base_score': trial.suggest_float('base_score', 0.0, 1.0),\n",
    "        'booster': trial.suggest_categorical('booster', ['gbtree']),\n",
    "        'colsample_bylevel': trial.suggest_float('colsample_bylevel', 0.1, 1.0),\n",
    "        'colsample_bynode': trial.suggest_float('colsample_bynode', 0.1, 1.0),\n",
    "        'colsample_bytree': trial.suggest_float('colsample_bytree', 0.1, 1.0),\n",
    "        'eta': trial.suggest_float('eta', 0.01, 0.3),\n",
    "        'eval_metric': trial.suggest_categorical('eval_metric', ['auc']),\n",
    "        'gamma': trial.suggest_float('gamma', 0.0, 1.0),\n",
    "        'grow_policy': trial.suggest_categorical('grow_policy', ['depthwise', 'lossguide']),\n",
    "        'lambda': trial.suggest_float('lambda', 0.0, 10.0),\n",
    "        'max_bin': trial.suggest_int('max_bin', 10, 512),\n",
    "        'max_delta_step': trial.suggest_int('max_delta_step', 0, 10),\n",
    "        'max_depth': trial.suggest_int('max_depth', 3, 12),\n",
    "        'max_leaves': trial.suggest_int('max_leaves', 0, 50),\n",
    "        'min_child_weight': trial.suggest_float('min_child_weight', 0.1, 10.0),\n",
    "        'objective': trial.suggest_categorical('objective', ['binary:logistic']),\n",
    "        'scale_pos_weight': trial.suggest_float('scale_pos_weight', 0.1, 10.0),\n",
    "        'seed': trial.suggest_int('seed', 0, 1000),\n",
    "        'subsample': trial.suggest_float('subsample', 0.5, 1.0),\n",
    "        'verbosity': trial.suggest_int('verbosity', 0, 3),\n",
    "    }\n",
    "\n",
    "    cv = StratifiedKFold(n_splits=5, shuffle=True, random_state=0)\n",
    "    auc_list = []\n",
    "\n",
    "    for _, (train_index, valid_index) in enumerate(cv.split(train_feature,train_target)):\n",
    "        X_train, y_train = train_feature.iloc[train_index], train_target.iloc[train_index]\n",
    "        X_valid, y_valid = train_feature.iloc[valid_index], train_target.iloc[valid_index]\n",
    "\n",
    "        dtrain = xgb.DMatrix(X_train, label=y_train,enable_categorical=True)\n",
    "        dvalid = xgb.DMatrix(X_valid, label=y_valid,enable_categorical=True)\n",
    "\n",
    "        xgb_model = xgb.train(\n",
    "            params,\n",
    "            dtrain,\n",
    "            evals=[(dtrain, 'train'), (dvalid, 'valid')],\n",
    "            early_stopping_rounds=trial.suggest_int('early_stopping_rounds', 10, 100)\n",
    "        )\n",
    "\n",
    "        # 예측 확률 계산\n",
    "        y_prob = xgb_model.predict(dvalid)\n",
    "        auc_score = roc_auc_score(y_valid, y_prob)\n",
    "        auc_list.append(auc_score)\n",
    "\n",
    "    # 평균 auc 반환\n",
    "    mean_auc = np.mean(auc_list)\n",
    "    return mean_auc\n",
    "\n",
    "# optuna 최적화 실행(AUC 최대화)\n",
    "optuna_xgb = optuna.create_study(direction='maximize', sampler=sampler)\n",
    "optuna_xgb.optimize(objective, n_trials=50)\n",
    "\n",
    "# 최적 결과 출력\n",
    "best_trial = optuna_xgb.best_trial\n",
    "print(f\"Best AUC: {best_trial.value}\")\n",
    "print(\"Best hyperparameters:\")\n",
    "for key, value in best_trial.params.items():\n",
    "    print(f\"  {key}: {value}\")"
   ]
  },
  {
   "cell_type": "markdown",
   "metadata": {
    "id": "XjJhca7tIeQj"
   },
   "source": [
    "#### Ada : Ada Boost Classifier"
   ]
  },
  {
   "cell_type": "code",
   "execution_count": null,
   "metadata": {
    "colab": {
     "base_uri": "https://localhost:8080/",
     "height": 1000
    },
    "executionInfo": {
     "elapsed": 7965018,
     "status": "error",
     "timestamp": 1734360857814,
     "user": {
      "displayName": "이정수",
      "userId": "14428595979203344897"
     },
     "user_tz": -540
    },
    "id": "MYA3-47IIeQj",
    "outputId": "f0f2bfb1-60ce-4f99-c265-38ef9e26ae85"
   },
   "outputs": [],
   "source": [
    "sampler = TPESampler(seed=0)\n",
    "\n",
    "def objective(trial):\n",
    "    params = {\n",
    "        # AdaBoost의 핵심 하이퍼파라미터들\n",
    "        'n_estimators': trial.suggest_int('n_estimators', 10, 500),\n",
    "        'learning_rate': trial.suggest_float('learning_rate', 0.01, 1.0, log=True),\n",
    "        'algorithm': trial.suggest_categorical('algorithm', ['SAMME', 'SAMME.R']),\n",
    "        'random_state': trial.suggest_int('random_state', 0, 1000)\n",
    "    }\n",
    "\n",
    "    # 기본 학습기 (약한 학습기)로 결정 트리 사용 시 세부 파라미터 설정\n",
    "    base_estimator_params = {\n",
    "        'max_depth': trial.suggest_int('max_depth', 1, 10),\n",
    "        'min_samples_split': trial.suggest_int('min_samples_split', 2, 20),\n",
    "        'min_samples_leaf': trial.suggest_int('min_samples_leaf', 1, 20),\n",
    "        'max_features': trial.suggest_categorical('max_features', [None, 'sqrt', 'log2']),\n",
    "        'max_leaf_nodes': trial.suggest_int('max_leaf_nodes', 10, 100, log=True),\n",
    "        'min_impurity_decrease': trial.suggest_float('min_impurity_decrease', 0.0, 0.1)\n",
    "    }\n",
    "\n",
    "\n",
    "    cv = StratifiedKFold(n_splits=5, shuffle=True, random_state=0)\n",
    "    auc_list = []\n",
    "\n",
    "    for _, (train_index, valid_index) in enumerate(cv.split(train_feature,train_target)):\n",
    "        X_train, y_train = train_feature.iloc[train_index], train_target.iloc[train_index]\n",
    "        X_valid, y_valid = train_feature.iloc[valid_index], train_target.iloc[valid_index]\n",
    "\n",
    "\n",
    "        base_estimator = DecisionTreeClassifier(**base_estimator_params)\n",
    "\n",
    "\n",
    "        ada_model = AdaBoostClassifier(estimator=  base_estimator, **params)\n",
    "        ada_model.fit(X_train,y_train)\n",
    "\n",
    "        # 예측 확률 계산\n",
    "        y_prob = ada_model.predict_proba(X_valid)[:,1]\n",
    "        auc_score = roc_auc_score(y_valid, y_prob)\n",
    "        auc_list.append(auc_score)\n",
    "\n",
    "    # 평균 auc 반환\n",
    "    mean_auc = np.mean(auc_list)\n",
    "    return mean_auc\n",
    "\n",
    "# optuna 최적화 실행(AUC 최대화)\n",
    "optuna_ada = optuna.create_study(direction='maximize', sampler=sampler)\n",
    "optuna_ada.optimize(objective, n_trials=50)\n",
    "\n",
    "# 최적 결과 출력\n",
    "best_trial = optuna_ada.best_trial\n",
    "print(f\"Best AUC: {best_trial.value}\")\n",
    "print(\"Best hyperparameters:\")\n",
    "for key, value in best_trial.params.items():\n",
    "    print(f\"  {key}: {value}\")"
   ]
  },
  {
   "cell_type": "markdown",
   "metadata": {
    "id": "8KcfFzTkIeQk"
   },
   "source": [
    "#### Catboost : CatBoost Classifier\n",
    "\n",
    "- 런타임 문제로 vscode에서 작동"
   ]
  },
  {
   "cell_type": "code",
   "execution_count": null,
   "metadata": {
    "id": "1qAI3BSwIeQk"
   },
   "outputs": [],
   "source": [
    "sampler = TPESampler(seed=0)\n",
    "\n",
    "def objective(trial):\n",
    "    # 하이퍼파라미터 정의\n",
    "    params = {\n",
    "        \"iterations\": trial.suggest_int(\"iterations\", 100, 1000),\n",
    "        \"learning_rate\": trial.suggest_loguniform(\"learning_rate\", 1e-4, 1.0),\n",
    "        \"depth\": trial.suggest_int(\"depth\", 1, 16),\n",
    "        \"l2_leaf_reg\": trial.suggest_loguniform(\"l2_leaf_reg\", 1e-2, 10.0),\n",
    "        \"random_strength\": trial.suggest_loguniform(\"random_strength\", 1e-2, 10.0),\n",
    "        \"bagging_temperature\": trial.suggest_loguniform(\"bagging_temperature\", 1e-5, 10.0),\n",
    "        \"grow_policy\": trial.suggest_categorical(\"grow_policy\", [\"SymmetricTree\", \"Depthwise\", \"Lossguide\"]),\n",
    "        \"border_count\": trial.suggest_int(\"border_count\", 1, 255),\n",
    "        \"thread_count\": -1,\n",
    "        \"random_seed\": 42,\n",
    "        \"eval_metric\": \"AUC\",\n",
    "        \"verbose\": 0,\n",
    "        \"od_type\": \"Iter\",\n",
    "        \"od_wait\": trial.suggest_int(\"od_wait\", 10, 50),\n",
    "        \"task_type\": \"CPU\",\n",
    "        \"loss_function\": \"Logloss\"\n",
    "    }\n",
    "\n",
    "    cv = StratifiedKFold(n_splits=5, shuffle=True, random_state=0)\n",
    "    auc_list = []\n",
    "\n",
    "    # 범주형 컬럼 자동 감지\n",
    "    cat_features_indices = [\n",
    "        train_feature.columns.get_loc(col)\n",
    "        for col in train_feature.select_dtypes(include=['category']).columns\n",
    "    ]\n",
    "\n",
    "    for _, (train_index, valid_index) in enumerate(cv.split(train_feature, train_target)):\n",
    "        X_train, y_train = train_feature.iloc[train_index], train_target.iloc[train_index]\n",
    "        X_valid, y_valid = train_feature.iloc[valid_index], train_target.iloc[valid_index]\n",
    "\n",
    "        # CatBoostClassifier 초기화 및 학습\n",
    "        cat_model = CatBoostClassifier(**params)\n",
    "        cat_model.fit(\n",
    "            X_train, y_train,\n",
    "            eval_set=(X_valid, y_valid),\n",
    "            early_stopping_rounds=50,\n",
    "            verbose=0,\n",
    "            cat_features=cat_features_indices  # 범주형 컬럼 지정\n",
    "        )\n",
    "\n",
    "        # 예측 확률 계산\n",
    "        y_score = cat_model.predict_proba(X_valid)[:, 1]\n",
    "        auc_score = roc_auc_score(y_valid, y_score)\n",
    "        auc_list.append(auc_score)\n",
    "\n",
    "    # 평균 auc 반환\n",
    "    mean_auc = np.mean(auc_list)\n",
    "    return mean_auc\n",
    "\n",
    "# optuna 최적화 실행(AUC 최대화)\n",
    "optuna_cat = optuna.create_study(direction='maximize', sampler=sampler)\n",
    "optuna_cat.optimize(objective, n_trials=50)\n",
    "\n",
    "# 최적 결과 출력\n",
    "best_trial = optuna_cat.best_trial\n",
    "print(f\"Best AUC: {best_trial.value}\")\n",
    "print(\"Best hyperparameters:\")\n",
    "for key, value in best_trial.params.items():\n",
    "    print(f\"  {key}: {value}\")\n"
   ]
  },
  {
   "cell_type": "markdown",
   "metadata": {
    "id": "bKNQbebtFYLJ"
   },
   "source": [
    "### 보팅"
   ]
  },
  {
   "cell_type": "markdown",
   "metadata": {
    "id": "uJdmcyPGFq2_"
   },
   "source": [
    "#### 조합 생성"
   ]
  },
  {
   "cell_type": "code",
   "execution_count": null,
   "metadata": {
    "colab": {
     "base_uri": "https://localhost:8080/"
    },
    "executionInfo": {
     "elapsed": 2,
     "status": "ok",
     "timestamp": 1739856278498,
     "user": {
      "displayName": "이정수",
      "userId": "14428595979203344897"
     },
     "user_tz": -540
    },
    "id": "ybtzKI39Fq2_",
    "outputId": "100e9e4b-e261-4ca2-f3a3-80b9007b0327"
   },
   "outputs": [],
   "source": [
    "from itertools import combinations\n",
    "\n",
    "models = ['lightgbm','gbc','ada','xgboost','catboost']\n",
    "\n",
    "model_combinations = []\n",
    "for i in range(1,len(models) + 1) :\n",
    "  model_combinations.extend(combinations(models,i))\n",
    "\n",
    "\n",
    "for combo in model_combinations :\n",
    "  print(combo)"
   ]
  },
  {
   "cell_type": "markdown",
   "metadata": {
    "id": "Dg2sUaNDFq2_"
   },
   "source": [
    "#### 가중치"
   ]
  },
  {
   "cell_type": "code",
   "execution_count": null,
   "metadata": {
    "executionInfo": {
     "elapsed": 1,
     "status": "ok",
     "timestamp": 1739856278498,
     "user": {
      "displayName": "이정수",
      "userId": "14428595979203344897"
     },
     "user_tz": -540
    },
    "id": "xOw8-fEaFq2_"
   },
   "outputs": [],
   "source": [
    "roc_score = {\n",
    "    'lightgbm' : 0.8894890596238593,\n",
    "    'gbc' : 0.8881716017412291,\n",
    "    'ada' : 0.8874169652866769,\n",
    "    'xgboost' : 0.8877248497094786,\n",
    "    'catboost' : 0.8894422429062463\n",
    "}\n",
    "\n",
    "total_roc = sum(roc_score.values())\n",
    "weights = {model : roc_score[model] / total_roc for model in roc_score}"
   ]
  },
  {
   "cell_type": "markdown",
   "metadata": {
    "id": "V3jz_YVnFq2_"
   },
   "source": [
    "#### 소프트 보팅 구현"
   ]
  },
  {
   "cell_type": "code",
   "execution_count": null,
   "metadata": {
    "id": "hnQtOIRdd_MC"
   },
   "outputs": [],
   "source": [
    "# 범주형 컬럼 자동 감지\n",
    "cat_features_indices = [\n",
    "    train_feature.columns.get_loc(col)\n",
    "    for col in train_feature.select_dtypes(include=['category']).columns\n",
    "]\n",
    "\n",
    "\n",
    "models_dict = {\n",
    "    'lightgbm': LGBMClassifier(\n",
    "        n_estimators=787,\n",
    "        learning_rate=0.01655085455833034,\n",
    "        num_leaves=40,\n",
    "        max_depth=9,\n",
    "        min_data_in_leaf=56,\n",
    "        feature_fraction=0.6418202481719244,\n",
    "        bagging_fraction=0.645916077947058,\n",
    "        bagging_freq=2,\n",
    "        min_split_gain=0.5064123433302721,\n",
    "        reg_alpha=0.07012143653987062,\n",
    "        reg_lambda=0.09764150870955571,\n",
    "        tree_learner='serial',\n",
    "        max_bin=386,\n",
    "        num_threads=4,\n",
    "        scale_pos_weight=3.8434903468270747\n",
    "    ),\n",
    "    'gbc': GradientBoostingClassifier(\n",
    "        n_estimators=306,\n",
    "        learning_rate=0.13703881640424945,\n",
    "        max_depth=4,\n",
    "        min_samples_split=3,\n",
    "        min_samples_leaf=3,\n",
    "        subsample=0.9445270800712589,\n",
    "        max_features='log2',\n",
    "        loss='exponential',\n",
    "        ccp_alpha=2.8384467094309904e-05,\n",
    "        validation_fraction=0.28861432470314685,\n",
    "        n_iter_no_change=18,\n",
    "        tol=0.003292168493890127,\n",
    "        min_impurity_decrease=0.06206179531947495,\n",
    "        max_leaf_nodes=63\n",
    "    ),\n",
    "    'ada': AdaBoostClassifier(\n",
    "        estimator=DecisionTreeClassifier(\n",
    "            max_depth=5,\n",
    "            min_samples_split=20,\n",
    "            min_samples_leaf=3,\n",
    "            max_features=None,\n",
    "            max_leaf_nodes=15,\n",
    "            min_impurity_decrease=0.0003927552574830781\n",
    "        ),\n",
    "        n_estimators=146,\n",
    "        learning_rate=0.08520098897894984,\n",
    "        algorithm='SAMME.R',\n",
    "        random_state=802\n",
    "    ),\n",
    "    'xgboost': XGBClassifier(\n",
    "        n_estimators=454,\n",
    "        alpha=0.40652589353810326,\n",
    "        base_score=0.8480874400205671,\n",
    "        booster='gbtree',\n",
    "        colsample_bylevel=0.8469354484548803,\n",
    "        colsample_bynode=0.9995135598162135,\n",
    "        colsample_bytree=0.9891525620754378,\n",
    "        learning_rate=0.27890538121311964,\n",
    "        eval_metric='auc',\n",
    "        gamma=0.9890045644329901,\n",
    "        grow_policy='depthwise',\n",
    "        reg_lambda=8.316565190053003,\n",
    "        max_bin=264,\n",
    "        max_delta_step=9,\n",
    "        max_depth=6,\n",
    "        max_leaves=47,\n",
    "        min_child_weight=1.3266241122837017,\n",
    "        objective='binary:logistic',\n",
    "        scale_pos_weight=8.66718236582756,\n",
    "        seed=775,\n",
    "        subsample=0.8855554855188931,\n",
    "        verbosity=3,\n",
    "        enable_categorical=True\n",
    "    ),\n",
    "    'catboost': CatBoostClassifier(\n",
    "        iterations=524,\n",
    "        learning_rate=0.08616825811471435,\n",
    "        depth=3,\n",
    "        l2_leaf_reg=0.3995590038558608,\n",
    "        random_strength=0.32389909847293613,\n",
    "        bagging_temperature=0.09678886582783942,\n",
    "        grow_policy='SymmetricTree',\n",
    "        border_count=96,\n",
    "        od_wait=40,\n",
    "        cat_features=cat_features_indices,\n",
    "        verbose=0,\n",
    "        random_state=42\n",
    "    )\n",
    "}\n",
    "\n",
    "\n",
    "# 소프트 보팅 성능 평가\n",
    "best_combo = None\n",
    "best_auc = 0\n",
    "results = []\n",
    "\n",
    "# 교차검증 설정\n",
    "cv = StratifiedKFold(n_splits=5, shuffle=True, random_state=42)\n",
    "\n",
    "for combo in model_combinations:\n",
    "    estimators = [(name, models_dict[name]) for name in combo]\n",
    "    weights_for_combo = [weights[name] for name in combo]\n",
    "\n",
    "    voting_clf = VotingClassifier(\n",
    "        estimators=estimators,\n",
    "        voting='soft',\n",
    "        weights=weights_for_combo\n",
    "    )\n",
    "\n",
    "    roc_list = []  # 교차검증 roc 기록\n",
    "\n",
    "    # 교차 검증 루프\n",
    "    for train_idx, valid_idx in cv.split(train_feature, train_target):\n",
    "        X_train, y_train = train_feature.iloc[train_idx], train_target.iloc[train_idx]\n",
    "        X_valid, y_valid = train_feature.iloc[valid_idx], train_target.iloc[valid_idx]\n",
    "\n",
    "        # CatBoost용 범주형 데이터 처리\n",
    "        if 'catboost' in combo:\n",
    "            X_train = X_train.copy()\n",
    "            X_valid = X_valid.copy()\n",
    "            for col in train_feature.select_dtypes(include=['category']).columns:\n",
    "                X_train[col] = X_train[col].cat.codes\n",
    "                X_valid[col] = X_valid[col].cat.codes\n",
    "\n",
    "        # 모델 학습\n",
    "        voting_clf.fit(X_train, y_train)\n",
    "\n",
    "        # 예측 및 ROC 계산\n",
    "        y_prob = voting_clf.predict_proba(X_valid)[:, 1]\n",
    "        roc = roc_auc_score(y_valid, y_prob)\n",
    "        roc_list.append(roc)\n",
    "\n",
    "    # 교차 검증 평균 AUC 계산\n",
    "    mean_roc = sum(roc_list) / len(roc_list)\n",
    "\n",
    "    # 결과 저장\n",
    "    results.append({\n",
    "        \"combination\": combo,\n",
    "        \"mean_roc\": mean_roc,\n",
    "        \"roc_per_fold\": roc_list,  # 폴드별 점수 추가\n",
    "        \"weights\": weights_for_combo\n",
    "    })\n",
    "\n",
    "# 결과 정렬 (ROC 기준 내림차순)\n",
    "results = sorted(results, key=lambda x: x[\"mean_roc\"], reverse=True)\n",
    "\n",
    "# 모든 결과 출력\n",
    "print(\"=\" * 50)\n",
    "print(\"All Voting Model Results:\")\n",
    "print(\"=\" * 50)\n",
    "for result in results:\n",
    "    print(f\"Combination: {result['combination']}, Mean ROC: {result['mean_roc']:.4f}, \"\n",
    "          f\"Fold AUCs: {result['roc_per_fold']}, Weights: {result['weights']}\")\n",
    "\n",
    "# 최적의 결과 출력\n",
    "best_result = results[0]  # 가장 높은 점수\n",
    "print(\"=\" * 50)\n",
    "print(f\"Best Model Combination: {best_result['combination']}\")\n",
    "print(f\"Best AUC: {best_result['mean_roc']:.4f}\")\n",
    "print(f\"Fold AUCs: {best_result['roc_per_fold']}\")\n",
    "print(f\"Best Weights: {best_result['weights']}\")\n",
    "print(\"=\" * 50)"
   ]
  },
  {
   "cell_type": "markdown",
   "metadata": {
    "id": "pzQm_9hUFqo6"
   },
   "source": [
    "### 최종모델\n",
    "\n",
    "```\n",
    "Best Model Combination: ('lightgbm', 'ada', 'catboost')\n",
    "Best AUC: 0.8897\n",
    "Fold AUCs: [0.887680390844541, 0.8901420151662042, 0.8925261036359157, 0.8896599080597734, 0.8885884801161994]\n",
    "Best Weights: [0.20023414193411043, 0.1997676898433026, 0.2002236029565053]\n",
    "```"
   ]
  },
  {
   "cell_type": "markdown",
   "metadata": {
    "id": "KEtHE4lkGad1"
   },
   "source": [
    "- 모델 생성\n",
    "```\n",
    "Final Model AUC Score: 0.8907\n",
    "```"
   ]
  },
  {
   "cell_type": "code",
   "execution_count": null,
   "metadata": {
    "colab": {
     "base_uri": "https://localhost:8080/"
    },
    "executionInfo": {
     "elapsed": 173710,
     "status": "ok",
     "timestamp": 1739856462560,
     "user": {
      "displayName": "이정수",
      "userId": "14428595979203344897"
     },
     "user_tz": -540
    },
    "id": "4OnMZjjTFr0U",
    "outputId": "7efd753d-9daa-47c3-de5f-cf1d27e667e3"
   },
   "outputs": [],
   "source": [
    "# feature, target 분리\n",
    "train_feature = train.drop(columns='Exited')\n",
    "train_target = train['Exited']\n",
    "\n",
    "# 데이터 분리\n",
    "X_train, X_valid, y_train, y_valid = train_test_split(train_feature, train_target,\n",
    "                                                      test_size = 0.3,\n",
    "                                                      random_state=0)\n",
    "\n",
    "# 범주형 컬럼 자동 감지\n",
    "cat_features_indices = [\n",
    "    train_feature.columns.get_loc(col)\n",
    "    for col in train_feature.select_dtypes(include=['category']).columns\n",
    "]\n",
    "\n",
    "final_models = {\n",
    "    'lightgbm': LGBMClassifier(\n",
    "        n_estimators=787,\n",
    "        learning_rate=0.01655085455833034,\n",
    "        num_leaves=40,\n",
    "        max_depth=9,\n",
    "        min_data_in_leaf=56,\n",
    "        feature_fraction=0.6418202481719244,\n",
    "        bagging_fraction=0.645916077947058,\n",
    "        bagging_freq=2,\n",
    "        min_split_gain=0.5064123433302721,\n",
    "        reg_alpha=0.07012143653987062,\n",
    "        reg_lambda=0.09764150870955571,\n",
    "        tree_learner='serial',\n",
    "        max_bin=386,\n",
    "        num_threads=4,\n",
    "        scale_pos_weight=3.8434903468270747\n",
    "    ),\n",
    "    'ada': AdaBoostClassifier(\n",
    "        estimator=DecisionTreeClassifier(\n",
    "            max_depth=5,\n",
    "            min_samples_split=20,\n",
    "            min_samples_leaf=3,\n",
    "            max_features=None,\n",
    "            max_leaf_nodes=15,\n",
    "            min_impurity_decrease=0.0003927552574830781\n",
    "        ),\n",
    "        n_estimators=146,\n",
    "        learning_rate=0.08520098897894984,\n",
    "        algorithm='SAMME.R',\n",
    "        random_state=802\n",
    "    )\n",
    "    ,\n",
    "    'catboost': CatBoostClassifier(\n",
    "        iterations=524,\n",
    "        learning_rate=0.08616825811471435,\n",
    "        depth=3,\n",
    "        l2_leaf_reg=0.3995590038558608,\n",
    "        random_strength=0.32389909847293613,\n",
    "        bagging_temperature=0.09678886582783942,\n",
    "        grow_policy='SymmetricTree',\n",
    "        border_count=96,\n",
    "        od_wait=40,\n",
    "        cat_features=cat_features_indices,\n",
    "        verbose=0,\n",
    "        random_state=42\n",
    "    )\n",
    "}\n",
    "\n",
    "# 소프트 보팅 모델 생성\n",
    "final_voting_model = VotingClassifier(\n",
    "    estimators=[('lightgbm', final_models['lightgbm']), ('ada', final_models['ada']),('catboost', final_models['catboost'])],\n",
    "    voting='soft',\n",
    "    weights=[0.20023414193411043, 0.1997676898433026, 0.2002236029565053]  # 최적 가중치 적용\n",
    ")\n",
    "\n",
    "# 학습\n",
    "final_voting_model.fit(X_train, y_train)\n",
    "\n",
    "# 예측\n",
    "y_prob = final_voting_model.predict_proba(X_valid)[:, 1]\n",
    "auc_score = roc_auc_score(y_valid, y_prob)\n",
    "\n",
    "# 결과 출력\n",
    "print(f\"Final Model AUC Score: {auc_score:.4f}\")"
   ]
  },
  {
   "cell_type": "markdown",
   "metadata": {
    "id": "NlhJnSf7Geh-"
   },
   "source": [
    "#### 중요도 기반 재모델링 제출 파일 생성"
   ]
  },
  {
   "cell_type": "code",
   "execution_count": null,
   "metadata": {
    "colab": {
     "base_uri": "https://localhost:8080/"
    },
    "executionInfo": {
     "elapsed": 17484,
     "status": "ok",
     "timestamp": 1734448399192,
     "user": {
      "displayName": "이정수",
      "userId": "14428595979203344897"
     },
     "user_tz": -540
    },
    "id": "3yMOnzUkGNwQ",
    "outputId": "ea6a5e34-3256-4c88-d8d1-f73c2ccd9791"
   },
   "outputs": [],
   "source": [
    "# 테스트 데이터 예측\n",
    "test_prob = final_voting_model.predict_proba(test)[:, 1]\n",
    "\n",
    "submission['Exited'] = test_prob\n",
    "submission.to_csv('third_mean_edit_submission.csv',index=False)"
   ]
  },
  {
   "cell_type": "markdown",
   "metadata": {
    "id": "efpIYqizW8vQ"
   },
   "source": [
    "# 최종 모델_1\n",
    "- 성능 : Final Model AUC Score: 0.8905"
   ]
  },
  {
   "cell_type": "code",
   "execution_count": null,
   "metadata": {
    "id": "cxdOEmfSGtQ7"
   },
   "outputs": [],
   "source": [
    "# 기본 패키지\n",
    "import pandas as pd  # 데이터프레임 생성 및 조작\n",
    "import numpy as np  # 수치 계산 및 배열 처리\n",
    "\n",
    "# 시각화\n",
    "import matplotlib.pyplot as plt  # 기본적인 시각화 도구\n",
    "import seaborn as sns  # 고급 시각화 도구 (matplotlib 기반)\n",
    "\n",
    "# 데이터 전처리\n",
    "from sklearn.preprocessing import LabelEncoder  # 레이블 인코딩\n",
    "from sklearn.preprocessing import StandardScaler, RobustScaler, MinMaxScaler  # 데이터 스케일링\n",
    "# pd.get_dummies로 OneHotEncoder 대체 가능\n",
    "\n",
    "# 데이터 분할\n",
    "from sklearn.model_selection import train_test_split  # 데이터 분리\n",
    "from sklearn.model_selection import StratifiedKFold  # 층화 교차 검증\n",
    "\n",
    "# 필요한 패키지 import(분산팽창계수(VIF))\n",
    "from statsmodels.stats.outliers_influence import variance_inflation_factor\n",
    "\n",
    "# 머신러닝 모델들\n",
    "from sklearn.ensemble import GradientBoostingClassifier  # Gradient Boosting 모델\n",
    "from sklearn.ensemble import RandomForestClassifier  # Random Forest 모델\n",
    "from sklearn.ensemble import AdaBoostClassifier  # AdaBoost 모델\n",
    "from sklearn.tree import DecisionTreeClassifier  # 의사결정 트리 모델\n",
    "\n",
    "# LightGBM\n",
    "from lightgbm import LGBMClassifier  # LightGBM 분류기\n",
    "import lightgbm as lgb  # LightGBM 라이브러리\n",
    "\n",
    "# XGBoost\n",
    "from xgboost import XGBClassifier  # XGBoost 분류기\n",
    "import xgboost as xgb  # XGBoost 라이브러리\n",
    "\n",
    "# CatBoost\n",
    "from catboost import CatBoostClassifier, Pool  # CatBoost 분류기 및 데이터 준비 객체\n",
    "from catboost.utils import eval_metric  # CatBoost 평가 지표 계산\n",
    "\n",
    "# 성능 평가 지표\n",
    "from sklearn.metrics import roc_auc_score  # ROC AUC 점수 계산\n",
    "\n",
    "# 모델 앙상블\n",
    "from sklearn.ensemble import VotingClassifier  # 앙상블 학습을 위한 VotingClassifier\n",
    "\n",
    "# 기타 도구\n",
    "from itertools import combinations  # 조합 생성\n",
    "from sklearn.inspection import permutation_importance  # 변수 중요도 계산 (Permutation Importance)\n",
    "\n",
    "# 출력 관련\n",
    "from IPython.display import Image  # Jupyter Notebook에서 이미지 표시\n",
    "\n",
    "# PyCaret: AutoML (자동화된 머신러닝 워크플로우)\n",
    "from pycaret.classification import *\n",
    "\n",
    "# 설정\n",
    "pd.set_option('display.max_columns', None)  # 최대 컬럼 설정"
   ]
  },
  {
   "cell_type": "code",
   "execution_count": null,
   "metadata": {
    "colab": {
     "base_uri": "https://localhost:8080/"
    },
    "executionInfo": {
     "elapsed": 170956,
     "status": "ok",
     "timestamp": 1734501938496,
     "user": {
      "displayName": "이정수",
      "userId": "14428595979203344897"
     },
     "user_tz": -540
    },
    "id": "x6elisCnW9wc",
    "outputId": "e3a52d5a-2bcd-4f39-cc74-9203035febfa"
   },
   "outputs": [],
   "source": [
    "# 데이터 불러오기\n",
    "train = pd.read_csv('/content/drive/MyDrive/파이널 프로젝트_이정수/분류/train.csv')\n",
    "test = pd.read_csv('/content/drive/MyDrive/파이널 프로젝트_이정수/분류/test.csv')\n",
    "submission = pd.read_csv('/content/drive/MyDrive/파이널 프로젝트_이정수/분류/sample_submission.csv')\n",
    "\n",
    "# 변수 제거\n",
    "# train, test 동시 진행\n",
    "# Id, Surname 제거\n",
    "train.drop(columns=['id','Surname'],inplace=True)\n",
    "test.drop(columns=['id','Surname'],inplace=True)\n",
    "\n",
    "# 중복치 제거\n",
    "train = train.drop_duplicates()\n",
    "\n",
    "# Age 파생변수\n",
    "bins = [0,19,29,39,49,57,np.inf]\n",
    "labels = [10,20,30,40,50,57]\n",
    "train['Age_group'] = pd.cut(train['Age'], bins= bins,labels = labels,right=True)\n",
    "test['Age_group'] = pd.cut(test['Age'], bins= bins,labels = labels,right=True)\n",
    "\n",
    "#Balance 파생변수\n",
    "train['Balance_group'] = train['Balance'].apply(lambda x: 0 if x == 0 else 1)\n",
    "test['Balance_group'] = test['Balance'].apply(lambda x: 0 if x == 0 else 1)\n",
    "\n",
    "#스케일링\n",
    "# 로그 변환과 스케일링을 포함한 기능 정의\n",
    "scaled_features = {\n",
    "    'CreditScore': RobustScaler(),\n",
    "    'EstimatedSalary': StandardScaler(),\n",
    "    'Age': ('log', RobustScaler()),        # 로그 변환 후 스케일링\n",
    "    'Balance': ('log1p', MinMaxScaler())   # 로그 변환 후 스케일링\n",
    "}\n",
    "\n",
    "# 스케일링 적용\n",
    "for feature, scaled_info in scaled_features.items() :\n",
    "  if isinstance(scaled_info, tuple) :\n",
    "    log_info, scaler = scaled_info\n",
    "    if log_info == 'log' :\n",
    "      train_feature = np.log(train[[feature]])\n",
    "      test_feature = np.log(test[[feature]])\n",
    "    elif log_info == 'log1p' :\n",
    "      train_feature = np.log1p(train[[feature]])\n",
    "      test_feature = np.log1p(test[[feature]])\n",
    "  else :\n",
    "    scaler = scaled_info\n",
    "    train_feature = train[[feature]]\n",
    "    test_feature = test[[feature]]\n",
    "\n",
    "\n",
    "  # 스케일링 적용\n",
    "  scaled_feature = feature + '_Scaled'\n",
    "  train[scaled_feature] = scaler.fit_transform(train_feature)\n",
    "  test[scaled_feature] = scaler.transform(test_feature)\n",
    "\n",
    "#NumOfProducts 파생변수\n",
    "def NumOfProducts_new_categorize(x) :\n",
    "  if x == 1 :\n",
    "    return 1\n",
    "  elif x ==2 :\n",
    "    return 2\n",
    "  else :\n",
    "    return 34\n",
    "\n",
    "train['NumOfProducts_group'] = train['NumOfProducts'].apply(NumOfProducts_new_categorize)\n",
    "test['NumOfProducts_group'] = test['NumOfProducts'].apply(NumOfProducts_new_categorize)\n",
    "#변수 0 처리\n",
    "# train\n",
    "train['Tenure'] = train['Tenure'] + np.finfo(float).eps\n",
    "test['Tenure'] = test['Tenure'] + np.finfo(float).eps\n",
    "# test\n",
    "train['Balance'] = train['Balance'] + np.finfo(float).eps\n",
    "test['Balance'] = test['Balance'] + np.finfo(float).eps\n",
    "\n",
    "# 파생 변수 생성\n",
    "# train, test 합치고 후에 분리 로 진행\n",
    "combined = pd.concat([train,test])\n",
    "\n",
    "\n",
    "# 고객 충성도(Tenure, NumOfPrudcts)\n",
    "## Age + Tenure : 연령별 은행과의 관계 지속성\n",
    "combined['Tenure_Age'] = combined['Tenure'] / combined['Age']\n",
    "\n",
    "## Age + NumOfProducts : 연령별 이용 상품 수\n",
    "combined['NumOfProducts_Age'] = combined['NumOfProducts'] / combined['Age']\n",
    "\n",
    "## Balance + NumOfProducts : 잔고에 따른 이용 상품 수\n",
    "combined['NumOfProducts_Balance'] = combined['NumOfProducts'] / combined['Balance']\n",
    "\n",
    "## EstimatedSalary + NumOfProducts : 이용 상품 별 예상 소득\n",
    "combined['EstimatedSalary_NumOfProducts'] = combined['EstimatedSalary'] / combined['NumOfProducts']\n",
    "\n",
    "'''\n",
    "'''\n",
    "\n",
    "# 경제적 상황(Balance, EstimatedSalary, HasCrCard)\n",
    "\n",
    "## Balance + EstimatedSalary : 예상 소득 대비 잔고 수준\n",
    "combined['Balance_EstimatedSalary'] = combined['Balance'] / combined['EstimatedSalary']\n",
    "\n",
    "## Balance + Tenure : 은행 이용 기간 대비 잔고\n",
    "combined['Balance_Tenure'] = combined['Balance'] / combined['Tenure']\n",
    "\n",
    "## Balance + CreditScore : 신용점수 대비 잔고\n",
    "combined['Balance_CreditScore'] = combined['Balance'] / combined['CreditScore']\n",
    "\n",
    "## Age + EstimatedSalary : 연령 대비 예상 소득\n",
    "combined['EstimatedSalary_Age'] = combined['EstimatedSalary'] / combined['Age']\n",
    "\n",
    "'''\n",
    "'''\n",
    "\n",
    "# 고객의 활동성(CreditScore, NumOfProducts, Tenure, IsActiveMember, HasCrCard)\n",
    "\n",
    "## IsActiveMember + NumOfProducts : 활성회원과 이용 상품 수 관계 (6개 범주 만들기)\n",
    "def IsActive_NumProducts(data) :\n",
    "  if (data['IsActiveMember'] == 0) & (data['NumOfProducts'] == 1) :\n",
    "    return 1\n",
    "  elif (data['IsActiveMember'] == 0) & (data['NumOfProducts'] == 2) :\n",
    "    return 2\n",
    "  elif (data['IsActiveMember'] == 0) & (data['NumOfProducts'] == 3) :\n",
    "    return 3\n",
    "  elif (data['IsActiveMember'] == 1) & (data['NumOfProducts'] == 1) :\n",
    "    return 11\n",
    "  elif (data['IsActiveMember'] == 1) & (data['NumOfProducts'] == 2) :\n",
    "    return 12\n",
    "  else :\n",
    "    return 13\n",
    "combined['IsActiveMember_NumOfProducts'] = combined.apply(IsActive_NumProducts, axis=1)\n",
    "\n",
    "## Tenure + NumOfProducts : 이용 기간 대비 이용 상품 수 ->\n",
    "combined['NumOfProducts_Tenure'] = combined['NumOfProducts'] / combined['Tenure']\n",
    "\n",
    "## IsActiveMember + CreditScore( 개인 신용점수 - 활동 여부 별 신용점수 평균)\n",
    "combined['IsActiveMember_CreditScore'] = combined['CreditScore'] - combined.groupby('IsActiveMember')['CreditScore'].transform('mean')\n",
    "\n",
    "## Tenure + IsActiveMember\n",
    "combined['Tenure_IsActiveMember'] = combined['Tenure'] - combined.groupby('IsActiveMember')['Tenure'].transform('mean')\n",
    "\n",
    "'''\n",
    "'''\n",
    "\n",
    "# 지역적 특성(Geography)\n",
    "## Geography + Balance : 국가 대비 잔고 수준차이(개인잔고 - 지역별 평균 잔고)\n",
    "combined['Balance_Geography'] = combined['Balance'] - combined.groupby('Geography')['Balance'].transform('mean')\n",
    "\n",
    "## Geography + IsActiveMember : 국가 대비 고객 활동성 (6개 범주 만들기)\n",
    "def IsActive_Geography(data) :\n",
    "    if (data['IsActiveMember'] == 0) & (data['Geography'] == 'France') :\n",
    "      return 'France_0'\n",
    "    elif (data['IsActiveMember'] == 1) & (data['Geography'] == 'France') :\n",
    "      return 'France_1'\n",
    "    elif (data['IsActiveMember'] == 0) & (data['Geography'] == 'Germany') :\n",
    "      return 'Germany_0'\n",
    "    elif (data['IsActiveMember'] == 1) & (data['Geography'] == 'Germany') :\n",
    "      return 'Germany_1'\n",
    "    elif (data['IsActiveMember'] == 0) & (data['Geography'] == 'Spain') :\n",
    "      return 'Spain_0'\n",
    "    else :\n",
    "      return 'Spain_1'\n",
    "\n",
    "combined['Geography_IsActiveMember'] = combined.apply(IsActive_Geography, axis=1)\n",
    "\n",
    "## Geography + EstimatedSalary : 개인 예상 연봉 - 지역 평균 예상 연봉\n",
    "combined['EstimatedSalary_Geography'] = combined['EstimatedSalary'] - combined.groupby('Geography')['EstimatedSalary'].transform('mean')\n",
    "\n",
    "# 리스크 관리(CreditScore, HasCrCard)\n",
    "## CreditScore + Balance : 신용점수 대비 잔고 수준\n",
    "combined['Balance_CreditScore'] = combined['Balance'] / combined['CreditScore']\n",
    "\n",
    "## CreditScore + Age : 연령 별 신용점수\n",
    "combined['CreditScore_Age'] = combined['CreditScore'] / combined['Age']\n",
    "\n",
    "## CreditScore + Tenure : 이용 기간 대비 신용점수\n",
    "combined['CreditScore_Tenure'] = combined['CreditScore'] / combined['Tenure']\n",
    "\n",
    "## Balance + HasCrCard : 신용카드 보유 여부 대비 잔고\n",
    "combined['Balance_HasCrCard'] = combined['Balance'] - combined.groupby('HasCrCard')['Balance'].transform('mean')\n",
    "# 인코딩\n",
    "# 필요한 패키지 import(OneHotEncoder -> pd.get_dummies로 대체)\n",
    "from sklearn.preprocessing import LabelEncoder\n",
    "# Geography -> OneHot Encoding\n",
    "combined = pd.get_dummies(combined, columns=['Geography'],dtype=int)\n",
    "\n",
    "# Gender -> Label Encoding\n",
    "encoder = LabelEncoder()\n",
    "combined['Gender'] = encoder.fit_transform(combined['Gender'])\n",
    "\n",
    "# Tenure -> Label Encoding\n",
    "encoder = LabelEncoder()\n",
    "combined['Tenure'] = encoder.fit_transform(combined['Tenure'])\n",
    "\n",
    "# NumOfProducts -> OneHot Encoding\n",
    "combined = pd.get_dummies(combined, columns=['NumOfProducts'],dtype=int)\n",
    "\n",
    "# HasCrCard -> Label Encoding\n",
    "encoder = LabelEncoder()\n",
    "combined['HasCrCard'] = encoder.fit_transform(combined['HasCrCard'])\n",
    "\n",
    "# IsActiveMember -> Label Encoding\n",
    "\n",
    "encoder = LabelEncoder()\n",
    "combined['IsActiveMember'] = encoder.fit_transform(combined['IsActiveMember'])\n",
    "\n",
    "# Age_group\n",
    "# train['Age_group'].unique()\n",
    "Age_group_mapping = {10:1, 20:2, 30:3 , 40:4, 50:5, 57: 6}\n",
    "combined['Age_group'] = combined['Age_group'].map(Age_group_mapping)\n",
    "\n",
    "# Geography_IsActiveMember\n",
    "# train['Geography_IsActiveMember'].unique() # ['France_0', 'France_1', 'Spain_1', 'Germany_0', 'Spain_0', 'Germany_1']\n",
    "Geography_IsActiveMember_mapping = {'France_0':1, 'France_1':2, 'Spain_0':3, 'Spain_1':4, 'Germany_0':5, 'Germany_1':6}\n",
    "combined['Geography_IsActiveMember'] = combined['Geography_IsActiveMember'].map(Geography_IsActiveMember_mapping)\n",
    "\n",
    "\n",
    "\n",
    "# 스케일링 원 변수 제거\n",
    "combined.drop(columns = ['Age','Balance','CreditScore','EstimatedSalary'],inplace=True)\n",
    "\n",
    "train = combined.iloc[:train.shape[0]].copy()\n",
    "test = combined.iloc[train.shape[0]:].copy()\n",
    "\n",
    "# test 데이터 타겟 변수 제거\n",
    "test.drop(columns = 'Exited', inplace=True)\n",
    "\n",
    "#데이터 분리\n",
    "# feature, target 분리\n",
    "train_feature = train.drop(columns='Exited')\n",
    "train_target = train['Exited']\n",
    "\n",
    "# 데이터 분리\n",
    "X_train, X_valid, y_train, y_valid = train_test_split(train_feature, train_target,\n",
    "                                                      test_size = 0.3,\n",
    "                                                      random_state=0)\n",
    "# 보팅 모델_1\n",
    "cat_features_indices = [\n",
    "    train_feature.columns.get_loc(col)\n",
    "    for col in train_feature.select_dtypes(include=['category']).columns\n",
    "]\n",
    "\n",
    "final_models = {\n",
    "    'lightgbm': LGBMClassifier(\n",
    "        n_estimators=532,  # num_boost_round 대신 n_estimators로 변경\n",
    "        learning_rate=0.04137208387151803,\n",
    "        num_leaves=46,\n",
    "        max_depth=-1,  # 깊이 제한 없음\n",
    "        min_child_samples=86,\n",
    "        feature_fraction=0.8139255851821137,\n",
    "        bagging_fraction=0.8082068952185747,\n",
    "        bagging_freq=4,\n",
    "        min_split_gain=0.5814034631622789,  # min_gain_to_split\n",
    "        reg_alpha=0.07098715189710325,  # lambda_l1\n",
    "        reg_lambda=0.07241610219010308,  # lambda_l2\n",
    "        tree_learner='feature',\n",
    "        max_bin=343,\n",
    "        num_threads=3,\n",
    "        scale_pos_weight=2.872248166434921\n",
    "    ),\n",
    "    'ada': AdaBoostClassifier(\n",
    "        estimator=DecisionTreeClassifier(\n",
    "            max_depth=8,\n",
    "            min_samples_split=3,\n",
    "            min_samples_leaf=6,\n",
    "            max_features='log2',\n",
    "            max_leaf_nodes=16,\n",
    "            min_impurity_decrease=0.00026999077869702197\n",
    "        ),\n",
    "        n_estimators=312,\n",
    "        learning_rate=0.06668653847352878,\n",
    "        algorithm='SAMME',\n",
    "        random_state=853\n",
    "    ),\n",
    "    'catboost': CatBoostClassifier(\n",
    "        iterations=193,\n",
    "        learning_rate=0.05731626408645584,\n",
    "        depth=5,\n",
    "        l2_leaf_reg=0.12172037289908884,\n",
    "        random_strength=0.11159304953837404,\n",
    "        bagging_temperature=2.0950687664171803,\n",
    "        grow_policy='Lossguide',\n",
    "        border_count=147,\n",
    "        od_wait=40,\n",
    "        cat_features=cat_features_indices,  # 범주형 컬럼 인덱스 추가\n",
    "        verbose=0\n",
    "    )\n",
    "}\n",
    "\n",
    "# 소프트 보팅 모델 생성\n",
    "final_voting_model_1 = VotingClassifier(\n",
    "    estimators=[('lightgbm', final_models['lightgbm']), ('ada', final_models['ada']),('catboost', final_models['catboost'])],\n",
    "    voting='soft',\n",
    "    weights=[0.20020323686045985, 0.1998279716810968, 0.20019997431761935]  # 최적 가중치 적용\n",
    ")\n",
    "\n",
    "# 학습\n",
    "final_voting_model_1.fit(X_train, y_train)\n",
    "\n",
    "# 예측\n",
    "y_prob = final_voting_model_1.predict_proba(X_valid)[:, 1]\n",
    "auc_score = roc_auc_score(y_valid, y_prob)\n",
    "\n",
    "# 결과 출력\n",
    "print(f\"Final Model AUC Score: {auc_score:.4f}\")\n",
    "\n",
    "# 제출 파일 생성\n",
    "# 테스트 데이터 예측\n",
    "test_prob = final_voting_model_1.predict_proba(test)[:, 1]\n",
    "\n",
    "submission['Exited'] = test_prob\n",
    "submission.to_csv('third_mean_noedit_submission.csv',index=False)\n"
   ]
  },
  {
   "cell_type": "markdown",
   "metadata": {
    "id": "ODM_t-XJX1UY"
   },
   "source": [
    "# 최종모델_2\n",
    "- 성능 : Final Model AUC Score: 0.8907"
   ]
  },
  {
   "cell_type": "code",
   "execution_count": null,
   "metadata": {
    "id": "JX2m3J4tGqbs"
   },
   "outputs": [],
   "source": [
    "# 기본 패키지\n",
    "import pandas as pd  # 데이터프레임 생성 및 조작\n",
    "import numpy as np  # 수치 계산 및 배열 처리\n",
    "\n",
    "# 시각화\n",
    "import matplotlib.pyplot as plt  # 기본적인 시각화 도구\n",
    "import seaborn as sns  # 고급 시각화 도구 (matplotlib 기반)\n",
    "\n",
    "# 데이터 전처리\n",
    "from sklearn.preprocessing import LabelEncoder  # 레이블 인코딩\n",
    "from sklearn.preprocessing import StandardScaler, RobustScaler, MinMaxScaler  # 데이터 스케일링\n",
    "# pd.get_dummies로 OneHotEncoder 대체 가능\n",
    "\n",
    "# 데이터 분할\n",
    "from sklearn.model_selection import train_test_split  # 데이터 분리\n",
    "from sklearn.model_selection import StratifiedKFold  # 층화 교차 검증\n",
    "\n",
    "# 필요한 패키지 import(분산팽창계수(VIF))\n",
    "from statsmodels.stats.outliers_influence import variance_inflation_factor\n",
    "\n",
    "# 머신러닝 모델들\n",
    "from sklearn.ensemble import GradientBoostingClassifier  # Gradient Boosting 모델\n",
    "from sklearn.ensemble import RandomForestClassifier  # Random Forest 모델\n",
    "from sklearn.ensemble import AdaBoostClassifier  # AdaBoost 모델\n",
    "from sklearn.tree import DecisionTreeClassifier  # 의사결정 트리 모델\n",
    "\n",
    "# LightGBM\n",
    "from lightgbm import LGBMClassifier  # LightGBM 분류기\n",
    "import lightgbm as lgb  # LightGBM 라이브러리\n",
    "\n",
    "# XGBoost\n",
    "from xgboost import XGBClassifier  # XGBoost 분류기\n",
    "import xgboost as xgb  # XGBoost 라이브러리\n",
    "\n",
    "# CatBoost\n",
    "from catboost import CatBoostClassifier, Pool  # CatBoost 분류기 및 데이터 준비 객체\n",
    "from catboost.utils import eval_metric  # CatBoost 평가 지표 계산\n",
    "\n",
    "# 성능 평가 지표\n",
    "from sklearn.metrics import roc_auc_score  # ROC AUC 점수 계산\n",
    "\n",
    "# 모델 앙상블\n",
    "from sklearn.ensemble import VotingClassifier  # 앙상블 학습을 위한 VotingClassifier\n",
    "\n",
    "# 기타 도구\n",
    "from itertools import combinations  # 조합 생성\n",
    "from sklearn.inspection import permutation_importance  # 변수 중요도 계산 (Permutation Importance)\n",
    "\n",
    "# 출력 관련\n",
    "from IPython.display import Image  # Jupyter Notebook에서 이미지 표시\n",
    "\n",
    "# PyCaret: AutoML (자동화된 머신러닝 워크플로우)\n",
    "from pycaret.classification import *\n",
    "\n",
    "# 설정\n",
    "pd.set_option('display.max_columns', None)  # 최대 컬럼 설정"
   ]
  },
  {
   "cell_type": "code",
   "execution_count": null,
   "metadata": {
    "colab": {
     "base_uri": "https://localhost:8080/"
    },
    "executionInfo": {
     "elapsed": 209113,
     "status": "ok",
     "timestamp": 1734502479966,
     "user": {
      "displayName": "이정수",
      "userId": "14428595979203344897"
     },
     "user_tz": -540
    },
    "id": "awqai99pX22O",
    "outputId": "018d3964-d186-4f2d-f9d0-77fc1e1c4ab0"
   },
   "outputs": [],
   "source": [
    "# 데이터 불러오기\n",
    "train = pd.read_csv('/content/drive/MyDrive/파이널 프로젝트_이정수/분류/train.csv')\n",
    "test = pd.read_csv('/content/drive/MyDrive/파이널 프로젝트_이정수/분류/test.csv')\n",
    "submission = pd.read_csv('/content/drive/MyDrive/파이널 프로젝트_이정수/분류/sample_submission.csv')\n",
    "\n",
    "# 변수 제거\n",
    "# train, test 동시 진행\n",
    "# Id, Surname 제거\n",
    "train.drop(columns=['id','Surname'],inplace=True)\n",
    "test.drop(columns=['id','Surname'],inplace=True)\n",
    "\n",
    "# 중복치 제거\n",
    "train = train.drop_duplicates()\n",
    "\n",
    "# Age 파생변수\n",
    "bins = [0,19,29,39,49,57,np.inf]\n",
    "labels = [10,20,30,40,50,57]\n",
    "train['Age_group'] = pd.cut(train['Age'], bins= bins,labels = labels,right=True)\n",
    "test['Age_group'] = pd.cut(test['Age'], bins= bins,labels = labels,right=True)\n",
    "\n",
    "#스케일링\n",
    "# 로그 변환과 스케일링을 포함한 기능 정의\n",
    "scaled_features = {\n",
    "    'CreditScore': RobustScaler(),\n",
    "    'EstimatedSalary': StandardScaler(),\n",
    "    'Age': ('log', RobustScaler()),        # 로그 변환 후 스케일링\n",
    "    'Balance': ('log1p', MinMaxScaler())   # 로그 변환 후 스케일링\n",
    "}\n",
    "\n",
    "# 스케일링 적용\n",
    "for feature, scaled_info in scaled_features.items() :\n",
    "  if isinstance(scaled_info, tuple) :\n",
    "    log_info, scaler = scaled_info\n",
    "    if log_info == 'log' :\n",
    "      train_feature = np.log(train[[feature]])\n",
    "      test_feature = np.log(test[[feature]])\n",
    "    elif log_info == 'log1p' :\n",
    "      train_feature = np.log1p(train[[feature]])\n",
    "      test_feature = np.log1p(test[[feature]])\n",
    "  else :\n",
    "    scaler = scaled_info\n",
    "    train_feature = train[[feature]]\n",
    "    test_feature = test[[feature]]\n",
    "\n",
    "\n",
    "  # 스케일링 적용\n",
    "  scaled_feature = feature + '_Scaled'\n",
    "  train[scaled_feature] = scaler.fit_transform(train_feature)\n",
    "  test[scaled_feature] = scaler.transform(test_feature)\n",
    "\n",
    "#NumOfProducts 파생변수\n",
    "def NumOfProducts_new_categorize(x) :\n",
    "  if x == 1 :\n",
    "    return 1\n",
    "  elif x ==2 :\n",
    "    return 2\n",
    "  else :\n",
    "    return 34\n",
    "\n",
    "train['NumOfProducts_group'] = train['NumOfProducts'].apply(NumOfProducts_new_categorize)\n",
    "test['NumOfProducts_group'] = test['NumOfProducts'].apply(NumOfProducts_new_categorize)\n",
    "#변수 0 처리\n",
    "# train\n",
    "train['Tenure'] = train['Tenure'] + np.finfo(float).eps\n",
    "test['Tenure'] = test['Tenure'] + np.finfo(float).eps\n",
    "# test\n",
    "train['Balance'] = train['Balance'] + np.finfo(float).eps\n",
    "test['Balance'] = test['Balance'] + np.finfo(float).eps\n",
    "\n",
    "# 파생 변수 생성\n",
    "# train, test 합치고 후에 분리 로 진행\n",
    "combined = pd.concat([train,test])\n",
    "\n",
    "\n",
    "# 고객 충성도(Tenure, NumOfPrudcts)\n",
    "## Age + Tenure : 연령별 은행과의 관계 지속성\n",
    "combined['Tenure_Age'] = combined['Tenure'] / combined['Age']\n",
    "\n",
    "## Age + NumOfProducts : 연령별 이용 상품 수\n",
    "combined['NumOfProducts_Age'] = combined['NumOfProducts'] / combined['Age']\n",
    "\n",
    "## Balance + NumOfProducts : 잔고에 따른 이용 상품 수\n",
    "combined['NumOfProducts_Balance'] = combined['NumOfProducts'] / combined['Balance']\n",
    "\n",
    "## EstimatedSalary + NumOfProducts : 이용 상품 별 예상 소득\n",
    "combined['EstimatedSalary_NumOfProducts'] = combined['EstimatedSalary'] / combined['NumOfProducts']\n",
    "\n",
    "'''\n",
    "'''\n",
    "\n",
    "# 경제적 상황(Balance, EstimatedSalary, HasCrCard)\n",
    "\n",
    "## Balance + EstimatedSalary : 예상 소득 대비 잔고 수준\n",
    "combined['Balance_EstimatedSalary'] = combined['Balance'] / combined['EstimatedSalary']\n",
    "\n",
    "## Balance + Tenure : 은행 이용 기간 대비 잔고\n",
    "combined['Balance_Tenure'] = combined['Balance'] / combined['Tenure']\n",
    "\n",
    "## Balance + CreditScore : 신용점수 대비 잔고\n",
    "combined['Balance_CreditScore'] = combined['Balance'] / combined['CreditScore']\n",
    "\n",
    "## Age + EstimatedSalary : 연령 대비 예상 소득\n",
    "combined['EstimatedSalary_Age'] = combined['EstimatedSalary'] / combined['Age']\n",
    "\n",
    "# 고객의 활동성(CreditScore, NumOfProducts, Tenure, IsActiveMember, HasCrCard)\n",
    "\n",
    "## IsActiveMember + NumOfProducts : 활성회원과 이용 상품 수 관계 (6개 범주 만들기)\n",
    "def IsActive_NumProducts(data) :\n",
    "  if (data['IsActiveMember'] == 0) & (data['NumOfProducts'] == 1) :\n",
    "    return 1\n",
    "  elif (data['IsActiveMember'] == 0) & (data['NumOfProducts'] == 2) :\n",
    "    return 2\n",
    "  elif (data['IsActiveMember'] == 0) & (data['NumOfProducts'] == 3) :\n",
    "    return 3\n",
    "  elif (data['IsActiveMember'] == 1) & (data['NumOfProducts'] == 1) :\n",
    "    return 11\n",
    "  elif (data['IsActiveMember'] == 1) & (data['NumOfProducts'] == 2) :\n",
    "    return 12\n",
    "  else :\n",
    "    return 13\n",
    "combined['IsActiveMember_NumOfProducts'] = combined.apply(IsActive_NumProducts, axis=1)\n",
    "\n",
    "## Tenure + NumOfProducts : 이용 기간 대비 이용 상품 수 ->\n",
    "combined['NumOfProducts_Tenure'] = combined['NumOfProducts'] / combined['Tenure']\n",
    "\n",
    "## IsActiveMember + CreditScore( 개인 신용점수 - 활동 여부 별 신용점수 평균)\n",
    "combined['IsActiveMember_CreditScore'] = combined['CreditScore'] - combined.groupby('IsActiveMember')['CreditScore'].transform('mean')\n",
    "\n",
    "## Tenure + IsActiveMember\n",
    "combined['Tenure_IsActiveMember'] = combined['Tenure'] - combined.groupby('IsActiveMember')['Tenure'].transform('mean')\n",
    "\n",
    "'''\n",
    "'''\n",
    "\n",
    "# 지역적 특성(Geography)\n",
    "## Geography + Balance : 국가 대비 잔고 수준차이(개인잔고 - 지역별 평균 잔고)\n",
    "combined['Balance_Geography'] = combined['Balance'] - combined.groupby('Geography')['Balance'].transform('mean')\n",
    "\n",
    "## Geography + IsActiveMember : 국가 대비 고객 활동성 (6개 범주 만들기)\n",
    "def IsActive_Geography(data) :\n",
    "    if (data['IsActiveMember'] == 0) & (data['Geography'] == 'France') :\n",
    "      return 'France_0'\n",
    "    elif (data['IsActiveMember'] == 1) & (data['Geography'] == 'France') :\n",
    "      return 'France_1'\n",
    "    elif (data['IsActiveMember'] == 0) & (data['Geography'] == 'Germany') :\n",
    "      return 'Germany_0'\n",
    "    elif (data['IsActiveMember'] == 1) & (data['Geography'] == 'Germany') :\n",
    "      return 'Germany_1'\n",
    "    elif (data['IsActiveMember'] == 0) & (data['Geography'] == 'Spain') :\n",
    "      return 'Spain_0'\n",
    "    else :\n",
    "      return 'Spain_1'\n",
    "\n",
    "combined['Geography_IsActiveMember'] = combined.apply(IsActive_Geography, axis=1)\n",
    "\n",
    "## Geography + EstimatedSalary : 개인 예상 연봉 - 지역 평균 예상 연봉\n",
    "combined['EstimatedSalary_Geography'] = combined['EstimatedSalary'] - combined.groupby('Geography')['EstimatedSalary'].transform('mean')\n",
    "\n",
    "# 리스크 관리(CreditScore, HasCrCard)\n",
    "## CreditScore + Balance : 신용점수 대비 잔고 수준\n",
    "combined['Balance_CreditScore'] = combined['Balance'] / combined['CreditScore']\n",
    "\n",
    "## CreditScore + Age : 연령 별 신용점수\n",
    "combined['CreditScore_Age'] = combined['CreditScore'] / combined['Age']\n",
    "\n",
    "## Balance + HasCrCard : 신용카드 보유 여부 대비 잔고\n",
    "combined['Balance_HasCrCard'] = combined['Balance'] - combined.groupby('HasCrCard')['Balance'].transform('mean')\n",
    "\n",
    "\n",
    "# 인코딩\n",
    "# 필요한 패키지 import(OneHotEncoder -> pd.get_dummies로 대체)\n",
    "from sklearn.preprocessing import LabelEncoder\n",
    "# Geography -> OneHot Encoding\n",
    "combined = pd.get_dummies(combined, columns=['Geography'],dtype=int)\n",
    "\n",
    "# Gender -> Label Encoding\n",
    "encoder = LabelEncoder()\n",
    "combined['Gender'] = encoder.fit_transform(combined['Gender'])\n",
    "\n",
    "# Tenure -> Label Encoding\n",
    "encoder = LabelEncoder()\n",
    "combined['Tenure'] = encoder.fit_transform(combined['Tenure'])\n",
    "\n",
    "# NumOfProducts -> OneHot Encoding\n",
    "combined = pd.get_dummies(combined, columns=['NumOfProducts'],dtype=int)\n",
    "\n",
    "# HasCrCard -> Label Encoding\n",
    "encoder = LabelEncoder()\n",
    "combined['HasCrCard'] = encoder.fit_transform(combined['HasCrCard'])\n",
    "\n",
    "# IsActiveMember -> Label Encoding\n",
    "\n",
    "encoder = LabelEncoder()\n",
    "combined['IsActiveMember'] = encoder.fit_transform(combined['IsActiveMember'])\n",
    "\n",
    "# Age_group\n",
    "# train['Age_group'].unique()\n",
    "Age_group_mapping = {10:1, 20:2, 30:3 , 40:4, 50:5, 57: 6}\n",
    "combined['Age_group'] = combined['Age_group'].map(Age_group_mapping)\n",
    "\n",
    "# Geography_IsActiveMember\n",
    "# train['Geography_IsActiveMember'].unique() # ['France_0', 'France_1', 'Spain_1', 'Germany_0', 'Spain_0', 'Germany_1']\n",
    "Geography_IsActiveMember_mapping = {'France_0':1, 'France_1':2, 'Spain_0':3, 'Spain_1':4, 'Germany_0':5, 'Germany_1':6}\n",
    "combined['Geography_IsActiveMember'] = combined['Geography_IsActiveMember'].map(Geography_IsActiveMember_mapping)\n",
    "\n",
    "\n",
    "\n",
    "# 스케일링 원 변수 제거\n",
    "combined.drop(columns = ['Age','Balance','CreditScore','EstimatedSalary'],inplace=True)\n",
    "\n",
    "train = combined.iloc[:train.shape[0]].copy()\n",
    "test = combined.iloc[train.shape[0]:].copy()\n",
    "\n",
    "# test 데이터 타겟 변수 제거\n",
    "test.drop(columns = 'Exited', inplace=True)\n",
    "\n",
    "#데이터 분리\n",
    "# feature, target 분리\n",
    "train_feature = train.drop(columns='Exited')\n",
    "train_target = train['Exited']\n",
    "\n",
    "# 데이터 분리\n",
    "X_train, X_valid, y_train, y_valid = train_test_split(train_feature, train_target,\n",
    "                                                      test_size = 0.3,\n",
    "                                                      random_state=0)\n",
    "# 보팅 모델_1\n",
    "cat_features_indices = [\n",
    "    train_feature.columns.get_loc(col)\n",
    "    for col in train_feature.select_dtypes(include=['category']).columns\n",
    "]\n",
    "\n",
    "final_models = {\n",
    "    'lightgbm': LGBMClassifier(\n",
    "        n_estimators=787,  # num_boost_round 대신 n_estimators로 변경\n",
    "        learning_rate=0.01655085455833034,\n",
    "        num_leaves=40,\n",
    "        max_depth=9,\n",
    "        min_data_in_leaf=56,\n",
    "        feature_fraction=0.6418202481719244,\n",
    "        bagging_fraction=0.645916077947058,\n",
    "        bagging_freq=2,\n",
    "        min_split_gain=0.5064123433302721,  # min_gain_to_split\n",
    "        reg_alpha=0.07012143653987062,  # lambda_l1\n",
    "        reg_lambda=0.09764150870955571,  # lambda_l2\n",
    "        tree_learner='serial',\n",
    "        max_bin=386,\n",
    "        num_threads=4,\n",
    "        scale_pos_weight=3.8434903468270747\n",
    "    ),\n",
    "    'ada': AdaBoostClassifier(\n",
    "        estimator=DecisionTreeClassifier(\n",
    "            max_depth=5,\n",
    "            min_samples_split=20,\n",
    "            min_samples_leaf=3,\n",
    "            max_features=None,\n",
    "            max_leaf_nodes=15,\n",
    "            min_impurity_decrease=0.0003927552574830781\n",
    "        ),\n",
    "        n_estimators=146,\n",
    "        learning_rate=0.08520098897894984,\n",
    "        algorithm='SAMME.R',\n",
    "        random_state=802\n",
    "    )\n",
    "    ,\n",
    "    'catboost': CatBoostClassifier(\n",
    "        iterations=524,\n",
    "        learning_rate=0.08616825811471435,\n",
    "        depth=3,\n",
    "        l2_leaf_reg=0.3995590038558608,\n",
    "        random_strength=0.32389909847293613,\n",
    "        bagging_temperature=0.09678886582783942,\n",
    "        grow_policy='SymmetricTree',\n",
    "        border_count=96,\n",
    "        od_wait=40,\n",
    "        cat_features=cat_features_indices,\n",
    "        verbose=0,  # 학습 출력 비활성화\n",
    "        random_state=42\n",
    "    )\n",
    "}\n",
    "\n",
    "# 소프트 보팅 모델 생성\n",
    "final_voting_model_2 = VotingClassifier(\n",
    "    estimators=[('lightgbm', final_models['lightgbm']), ('ada', final_models['ada']),('catboost', final_models['catboost'])],\n",
    "    voting='soft',\n",
    "    weights=[0.20023414193411043, 0.1997676898433026, 0.2002236029565053]  # 최적 가중치 적용\n",
    ")\n",
    "\n",
    "# 학습\n",
    "final_voting_model_2.fit(X_train, y_train)\n",
    "\n",
    "# 예측\n",
    "y_prob = final_voting_model_2.predict_proba(X_valid)[:, 1]\n",
    "auc_score = roc_auc_score(y_valid, y_prob)\n",
    "\n",
    "# 결과 출력\n",
    "print(f\"Final Model AUC Score: {auc_score:.4f}\")\n",
    "\n",
    "# 제출 파일 생성\n",
    "# 테스트 데이터 예측\n",
    "test_prob = final_voting_model_2.predict_proba(test)[:, 1]\n",
    "\n",
    "submission['Exited'] = test_prob\n",
    "submission.to_csv('third_mean_edit_submission.csv',index=False)\n"
   ]
  }
 ],
 "metadata": {
  "colab": {
   "authorship_tag": "ABX9TyOXb4Ntroh4mDdIOkMwkuyr",
   "collapsed_sections": [
    "efpIYqizW8vQ",
    "ODM_t-XJX1UY"
   ],
   "mount_file_id": "1smqJzMgefXQyomdtudYAKLpxjm8THYaJ",
   "provenance": []
  },
  "kernelspec": {
   "display_name": "Python 3",
   "name": "python3"
  },
  "language_info": {
   "name": "python"
  }
 },
 "nbformat": 4,
 "nbformat_minor": 0
}
